{
  "nbformat": 4,
  "nbformat_minor": 0,
  "metadata": {
    "colab": {
      "provenance": []
    },
    "kernelspec": {
      "name": "python3",
      "display_name": "Python 3"
    },
    "language_info": {
      "name": "python"
    }
  },
  "cells": [
    {
      "cell_type": "markdown",
      "source": [
        "Question 1)Creating an array and printing its dtype"
      ],
      "metadata": {
        "id": "DMvWVsZIQbdz"
      }
    },
    {
      "cell_type": "code",
      "source": [
        "import numpy as np\n",
        "l=[1,2,3,4]\n",
        "arr=np.array(l)\n",
        "arr.dtype"
      ],
      "metadata": {
        "colab": {
          "base_uri": "https://localhost:8080/"
        },
        "id": "S3CW-EKlQd61",
        "outputId": "aa2312e7-5361-4731-e4e2-55da7503df11"
      },
      "execution_count": null,
      "outputs": [
        {
          "output_type": "execute_result",
          "data": {
            "text/plain": [
              "dtype('int64')"
            ]
          },
          "metadata": {},
          "execution_count": 1
        }
      ]
    },
    {
      "cell_type": "markdown",
      "source": [
        "Question 2)Checking the data type of an array"
      ],
      "metadata": {
        "id": "4fHga82wQv3n"
      }
    },
    {
      "cell_type": "code",
      "source": [
        "arr=np.array([1.5,2.6,3.7])\n",
        "print(arr.dtype)"
      ],
      "metadata": {
        "colab": {
          "base_uri": "https://localhost:8080/"
        },
        "id": "zn_Eg7fLRElT",
        "outputId": "556c1d85-0077-4b11-b60c-4940ba265634"
      },
      "execution_count": null,
      "outputs": [
        {
          "output_type": "stream",
          "name": "stdout",
          "text": [
            "float64\n"
          ]
        }
      ]
    },
    {
      "cell_type": "markdown",
      "source": [
        "Question 3)crating an array of complex datatype"
      ],
      "metadata": {
        "id": "Ex_udNN2RVFd"
      }
    },
    {
      "cell_type": "code",
      "source": [
        "arr=np.array([1+3j,2+4j,5+6j],dtype='complex128')\n",
        "arr"
      ],
      "metadata": {
        "colab": {
          "base_uri": "https://localhost:8080/"
        },
        "id": "ESNRcUiHRhyk",
        "outputId": "4eb9d900-6bdd-4ede-804b-488d1ef42d88"
      },
      "execution_count": null,
      "outputs": [
        {
          "output_type": "execute_result",
          "data": {
            "text/plain": [
              "array([1.+3.j, 2.+4.j, 5.+6.j])"
            ]
          },
          "metadata": {},
          "execution_count": 4
        }
      ]
    },
    {
      "cell_type": "markdown",
      "source": [
        "Question 4)converting the data type of array"
      ],
      "metadata": {
        "id": "wrSdphlGR2NT"
      }
    },
    {
      "cell_type": "code",
      "source": [
        "arr=np.array([1.5,2.6,3.7],dtype='complex128')\n",
        "print(arr)"
      ],
      "metadata": {
        "colab": {
          "base_uri": "https://localhost:8080/"
        },
        "id": "ktoo0AsBSCkN",
        "outputId": "022637a1-ccb7-4b95-bc88-9cf86e7a0146"
      },
      "execution_count": null,
      "outputs": [
        {
          "output_type": "stream",
          "name": "stdout",
          "text": [
            "[1.5+0.j 2.6+0.j 3.7+0.j]\n"
          ]
        }
      ]
    },
    {
      "cell_type": "markdown",
      "source": [
        "Question 5)reducing the precision by changing the data type"
      ],
      "metadata": {
        "id": "qBZcYuOZSaNN"
      }
    },
    {
      "cell_type": "code",
      "source": [
        "import numpy as np\n",
        "arr=np.array([1.555666666666666666666666,2.634,3.734],dtype='float64')\n",
        "arr.nbytes\n",
        "print(type(arr))\n",
        "print(arr,end='\\n')\n",
        "arr.astype('float32')\n",
        "print(arr)\n",
        "arr.shape\n",
        "arr2=np.array([[1,2,3]])\n",
        "arr2.ndim"
      ],
      "metadata": {
        "colab": {
          "base_uri": "https://localhost:8080/"
        },
        "id": "qWzwogcRSuio",
        "outputId": "2504d66e-9c62-43c9-cf79-46efbc53712f"
      },
      "execution_count": null,
      "outputs": [
        {
          "output_type": "stream",
          "name": "stdout",
          "text": [
            "<class 'numpy.ndarray'>\n",
            "[1.55566667 2.634      3.734     ]\n",
            "[1.55566667 2.634      3.734     ]\n"
          ]
        },
        {
          "output_type": "execute_result",
          "data": {
            "text/plain": [
              "2"
            ]
          },
          "metadata": {},
          "execution_count": 2
        }
      ]
    },
    {
      "cell_type": "markdown",
      "source": [
        "Question 7) creating function that takes array as attribute and returns dimension of array"
      ],
      "metadata": {
        "id": "HUrGLOlHU_Wn"
      }
    },
    {
      "cell_type": "code",
      "source": [
        "def dimension(a):\n",
        "  return a.ndim\n",
        "dimension(arr2)\n"
      ],
      "metadata": {
        "colab": {
          "base_uri": "https://localhost:8080/"
        },
        "id": "4feGWjOJVljj",
        "outputId": "e1670e07-eefe-440a-8892-58654959e19e"
      },
      "execution_count": null,
      "outputs": [
        {
          "output_type": "execute_result",
          "data": {
            "text/plain": [
              "2"
            ]
          },
          "metadata": {},
          "execution_count": 22
        }
      ]
    },
    {
      "cell_type": "markdown",
      "source": [
        "Question 6) creating function that takes array as attribute and returns shape ,size,type of array"
      ],
      "metadata": {
        "id": "XAcxlI1DWjVp"
      }
    },
    {
      "cell_type": "code",
      "source": [
        "def array_attribute(a):\n",
        "  l=[a.shape,a.size,a.dtype]\n",
        "  return l\n",
        "array_attribute(arr2)\n"
      ],
      "metadata": {
        "colab": {
          "base_uri": "https://localhost:8080/"
        },
        "id": "XrWA5SJ5X1Yz",
        "outputId": "bc00b4a9-5483-46cd-c213-8c2c48e79184"
      },
      "execution_count": null,
      "outputs": [
        {
          "output_type": "execute_result",
          "data": {
            "text/plain": [
              "[(1, 3), 3, dtype('int64')]"
            ]
          },
          "metadata": {},
          "execution_count": 23
        }
      ]
    },
    {
      "cell_type": "markdown",
      "source": [
        "Question 8)function to find item size and toatal bytes"
      ],
      "metadata": {
        "id": "sCiKnPdRZWym"
      }
    },
    {
      "cell_type": "code",
      "source": [
        "def array_item(a):\n",
        "  l=[a.itemsize,a.nbytes]\n",
        "  return l\n",
        "array_item(arr2)"
      ],
      "metadata": {
        "colab": {
          "base_uri": "https://localhost:8080/"
        },
        "id": "jYjd-xy7bV6y",
        "outputId": "b2d04260-f881-47a3-8b79-c297d0bbaee1"
      },
      "execution_count": null,
      "outputs": [
        {
          "output_type": "execute_result",
          "data": {
            "text/plain": [
              "[8, 24]"
            ]
          },
          "metadata": {},
          "execution_count": 29
        }
      ]
    },
    {
      "cell_type": "markdown",
      "source": [
        "Question 9)"
      ],
      "metadata": {
        "id": "Ft-YrJbAbw0h"
      }
    },
    {
      "cell_type": "code",
      "source": [
        "def array_stride(a):\n",
        "  return a.nbytes//a.itemsize\n",
        "array_stride(arr)"
      ],
      "metadata": {
        "colab": {
          "base_uri": "https://localhost:8080/"
        },
        "id": "RwKqTY7-bwkg",
        "outputId": "d9fe34ee-dab6-4900-ebe7-f530abc53ef2"
      },
      "execution_count": null,
      "outputs": [
        {
          "output_type": "execute_result",
          "data": {
            "text/plain": [
              "3"
            ]
          },
          "metadata": {},
          "execution_count": 30
        }
      ]
    },
    {
      "cell_type": "markdown",
      "source": [
        "Question 10)this question is same as above question the extra it returns the size"
      ],
      "metadata": {
        "id": "yRkg65MccoTG"
      }
    },
    {
      "cell_type": "markdown",
      "source": [
        "Question 11) Creating an zero array of size n"
      ],
      "metadata": {
        "id": "0GVPgEBtc9Ya"
      }
    },
    {
      "cell_type": "code",
      "source": [
        "import numpy as np\n",
        "def create_zero_array(n):\n",
        "  k=np.zeros(n)\n",
        "  return k\n",
        "create_zero_array(5)"
      ],
      "metadata": {
        "colab": {
          "base_uri": "https://localhost:8080/"
        },
        "id": "WFa_404QrD-6",
        "outputId": "38ea634b-dc7c-41e5-fb1f-0d144a9d9719"
      },
      "execution_count": null,
      "outputs": [
        {
          "output_type": "execute_result",
          "data": {
            "text/plain": [
              "array([0., 0., 0., 0., 0.])"
            ]
          },
          "metadata": {},
          "execution_count": 2
        }
      ]
    },
    {
      "cell_type": "markdown",
      "source": [
        "Question 12) creating a matrix of ones"
      ],
      "metadata": {
        "id": "IwaQmUz5rsO3"
      }
    },
    {
      "cell_type": "code",
      "source": [
        "def create_matrix_ones(m,n):\n",
        "  k=np.ones((m,n))\n",
        "  return k\n",
        "create_matrix_ones(2,3)\n"
      ],
      "metadata": {
        "colab": {
          "base_uri": "https://localhost:8080/"
        },
        "id": "ZNpH8kHOr6Hg",
        "outputId": "da6551fd-1b10-4692-d3dd-02d22e798425"
      },
      "execution_count": null,
      "outputs": [
        {
          "output_type": "execute_result",
          "data": {
            "text/plain": [
              "array([[1., 1., 1.],\n",
              "       [1., 1., 1.]])"
            ]
          },
          "metadata": {},
          "execution_count": 3
        }
      ]
    },
    {
      "cell_type": "markdown",
      "source": [
        "Question 13)generating an array with certain range"
      ],
      "metadata": {
        "id": "W8LK9Cbys5Jb"
      }
    },
    {
      "cell_type": "code",
      "source": [
        "def genarating_range_array(start,stop,step):\n",
        "  k=np.arange(start,stop,step)\n",
        "  return k\n",
        "genarating_range_array(1,20,2)"
      ],
      "metadata": {
        "colab": {
          "base_uri": "https://localhost:8080/"
        },
        "id": "6br9ao7Es164",
        "outputId": "64c5132d-9831-43ba-e8df-19363e974ddb"
      },
      "execution_count": null,
      "outputs": [
        {
          "output_type": "execute_result",
          "data": {
            "text/plain": [
              "array([ 1,  3,  5,  7,  9, 11, 13, 15, 17, 19])"
            ]
          },
          "metadata": {},
          "execution_count": 4
        }
      ]
    },
    {
      "cell_type": "markdown",
      "source": [
        "question 14)genarating linear spaced array"
      ],
      "metadata": {
        "id": "VO_ToxCNtlmj"
      }
    },
    {
      "cell_type": "code",
      "source": [
        "def genarating_linear_array(start,end):\n",
        "  k=np.linspace(start,end)\n",
        "  return k\n",
        "genarating_linear_array(2,10)"
      ],
      "metadata": {
        "colab": {
          "base_uri": "https://localhost:8080/"
        },
        "id": "c2rTKnmit1PD",
        "outputId": "8844234d-38ad-4cea-92d8-5f5d3c673ac1"
      },
      "execution_count": null,
      "outputs": [
        {
          "output_type": "execute_result",
          "data": {
            "text/plain": [
              "array([ 2.        ,  2.16326531,  2.32653061,  2.48979592,  2.65306122,\n",
              "        2.81632653,  2.97959184,  3.14285714,  3.30612245,  3.46938776,\n",
              "        3.63265306,  3.79591837,  3.95918367,  4.12244898,  4.28571429,\n",
              "        4.44897959,  4.6122449 ,  4.7755102 ,  4.93877551,  5.10204082,\n",
              "        5.26530612,  5.42857143,  5.59183673,  5.75510204,  5.91836735,\n",
              "        6.08163265,  6.24489796,  6.40816327,  6.57142857,  6.73469388,\n",
              "        6.89795918,  7.06122449,  7.2244898 ,  7.3877551 ,  7.55102041,\n",
              "        7.71428571,  7.87755102,  8.04081633,  8.20408163,  8.36734694,\n",
              "        8.53061224,  8.69387755,  8.85714286,  9.02040816,  9.18367347,\n",
              "        9.34693878,  9.51020408,  9.67346939,  9.83673469, 10.        ])"
            ]
          },
          "metadata": {},
          "execution_count": 5
        }
      ]
    },
    {
      "cell_type": "markdown",
      "source": [
        "Question 15)creating identity matrix"
      ],
      "metadata": {
        "id": "nhygkgGduw0M"
      }
    },
    {
      "cell_type": "code",
      "source": [
        "def create_identity_matrix(n):\n",
        "  k=np.identity(n)\n",
        "  return k\n",
        "create_identity_matrix(3)"
      ],
      "metadata": {
        "colab": {
          "base_uri": "https://localhost:8080/"
        },
        "id": "sCiDpVziu8fQ",
        "outputId": "57c9fe65-970c-4457-d5b7-3049702598f6"
      },
      "execution_count": null,
      "outputs": [
        {
          "output_type": "execute_result",
          "data": {
            "text/plain": [
              "array([[1., 0., 0.],\n",
              "       [0., 1., 0.],\n",
              "       [0., 0., 1.]])"
            ]
          },
          "metadata": {},
          "execution_count": 7
        }
      ]
    },
    {
      "cell_type": "markdown",
      "source": [
        "Question 16)python list to array"
      ],
      "metadata": {
        "id": "OQfsqiRGvToL"
      }
    },
    {
      "cell_type": "code",
      "source": [
        "def list_array(l):\n",
        "  k=np.array(l)\n",
        "  return k\n",
        "list_array([1,2,3,4,5])"
      ],
      "metadata": {
        "colab": {
          "base_uri": "https://localhost:8080/"
        },
        "id": "BgGhQd_Fva30",
        "outputId": "72c6ac92-d891-4cba-ef44-8288be22de47"
      },
      "execution_count": null,
      "outputs": [
        {
          "output_type": "execute_result",
          "data": {
            "text/plain": [
              "array([1, 2, 3, 4, 5])"
            ]
          },
          "metadata": {},
          "execution_count": 8
        }
      ]
    },
    {
      "cell_type": "markdown",
      "source": [
        "Question 17)Demonstrating the use of numpy.view()"
      ],
      "metadata": {
        "id": "4xcRt2Ybvm-p"
      }
    },
    {
      "cell_type": "code",
      "source": [
        "l=np.array([1,2,3,4,5])\n",
        "v=np.ndarray.view(l)\n",
        "l+=1\n",
        "print(l,v)"
      ],
      "metadata": {
        "colab": {
          "base_uri": "https://localhost:8080/"
        },
        "id": "aAvcdBl4xXCd",
        "outputId": "c20ab945-4c04-404f-c694-cd96a62a91ec"
      },
      "execution_count": null,
      "outputs": [
        {
          "output_type": "stream",
          "name": "stdout",
          "text": [
            "[2 3 4 5 6] [2 3 4 5 6]\n"
          ]
        }
      ]
    },
    {
      "cell_type": "markdown",
      "source": [
        "Question 18)concatination of 2 array along specified axis"
      ],
      "metadata": {
        "id": "Z6vUnH1zx5yU"
      }
    },
    {
      "cell_type": "code",
      "source": [
        "import numpy as np\n",
        "\n",
        "def concat(arr1, arr2):\n",
        "    # Concatenate along columns (axis=1)\n",
        "    k1 = np.concatenate((arr1, arr2), axis=1)\n",
        "    return k1\n",
        "\n",
        "# Example with compatible shapes for axis=1 concatenation\n",
        "arr1 = np.array([[1, 2], [3, 4], [5, 6], [7, 8]])  # Shape (4, 2)\n",
        "arr2 = np.array([[5, 6, 7, 8], [9, 10, 11, 12], [13, 14, 15, 16], [17, 18, 19, 20]])  # Shape (4, 4)\n",
        "\n",
        "print(concat(arr1, arr2))\n",
        "\n"
      ],
      "metadata": {
        "colab": {
          "base_uri": "https://localhost:8080/"
        },
        "id": "gMupAlYqyIfQ",
        "outputId": "d9181188-ea65-41fe-dc43-3d013792c983"
      },
      "execution_count": null,
      "outputs": [
        {
          "output_type": "stream",
          "name": "stdout",
          "text": [
            "[[ 1  2  5  6  7  8]\n",
            " [ 3  4  9 10 11 12]\n",
            " [ 5  6 13 14 15 16]\n",
            " [ 7  8 17 18 19 20]]\n"
          ]
        }
      ]
    },
    {
      "cell_type": "code",
      "source": [
        "import numpy as np\n",
        "\n",
        "def concat(arr1, arr2):\n",
        "    # Concatenate along rows (axis=0)\n",
        "    k1 = np.concatenate((arr1, arr2), axis=0)\n",
        "    return k1\n",
        "\n",
        "print(concat(np.array([[1, 2], [3, 4], [5, 6], [7, 8]]), np.array([[5, 6], [7, 8], [9, 10], [11, 12]])))\n"
      ],
      "metadata": {
        "colab": {
          "base_uri": "https://localhost:8080/"
        },
        "id": "QbkoaP0f11pp",
        "outputId": "3692f1df-928d-430c-fe90-4e155d88084a"
      },
      "execution_count": null,
      "outputs": [
        {
          "output_type": "stream",
          "name": "stdout",
          "text": [
            "[[ 1  2]\n",
            " [ 3  4]\n",
            " [ 5  6]\n",
            " [ 7  8]\n",
            " [ 5  6]\n",
            " [ 7  8]\n",
            " [ 9 10]\n",
            " [11 12]]\n"
          ]
        }
      ]
    },
    {
      "cell_type": "markdown",
      "source": [
        "Question 19)concatinate horizontaly means concatinating along axis=1 which is done in the above example"
      ],
      "metadata": {
        "id": "MFCERft-2Gf6"
      }
    },
    {
      "cell_type": "markdown",
      "source": [
        "Question 21)function using numpy to create an array of integers with in specified range"
      ],
      "metadata": {
        "id": "cqk8WMqy2ep0"
      }
    },
    {
      "cell_type": "code",
      "source": [
        "import numpy as np\n",
        "def array(start,end,step):\n",
        "  k=np.arange(start,end+step,step)\n",
        "  return k\n",
        "array(2,10,2)"
      ],
      "metadata": {
        "colab": {
          "base_uri": "https://localhost:8080/"
        },
        "id": "4ixvLQ_44Oyl",
        "outputId": "aac2d870-1c81-47a8-d42c-b075fce79a90"
      },
      "execution_count": null,
      "outputs": [
        {
          "output_type": "execute_result",
          "data": {
            "text/plain": [
              "array([ 2,  4,  6,  8, 10])"
            ]
          },
          "metadata": {},
          "execution_count": 6
        }
      ]
    },
    {
      "cell_type": "markdown",
      "source": [
        "Question 22) generating an array between 0 and 1"
      ],
      "metadata": {
        "id": "VFlz1qLR5ZXD"
      }
    },
    {
      "cell_type": "code",
      "source": [
        "\n",
        "def array(start,end,value):\n",
        "  k=np.linspace(start,end,value)\n",
        "  return k\n",
        "array(0,1,10)"
      ],
      "metadata": {
        "colab": {
          "base_uri": "https://localhost:8080/"
        },
        "id": "ipHy0_7u5j4D",
        "outputId": "d23cecf5-7865-45a0-f77e-1037a13c95dc"
      },
      "execution_count": null,
      "outputs": [
        {
          "output_type": "execute_result",
          "data": {
            "text/plain": [
              "array([0.        , 0.11111111, 0.22222222, 0.33333333, 0.44444444,\n",
              "       0.55555556, 0.66666667, 0.77777778, 0.88888889, 1.        ])"
            ]
          },
          "metadata": {},
          "execution_count": 4
        }
      ]
    },
    {
      "cell_type": "markdown",
      "source": [
        "Question 23) generating an array of logarithmically spaced"
      ],
      "metadata": {
        "id": "02NCAwC67b3m"
      }
    },
    {
      "cell_type": "code",
      "source": [
        "import numpy as np\n",
        "def array(start,end):\n",
        "  k=np.logspace(start,end)\n",
        "  return k\n",
        "array(0,2)"
      ],
      "metadata": {
        "colab": {
          "base_uri": "https://localhost:8080/"
        },
        "id": "sllo_eB07us9",
        "outputId": "0a2f2c70-2eff-4c9e-9179-afa616e5eaab"
      },
      "execution_count": null,
      "outputs": [
        {
          "output_type": "execute_result",
          "data": {
            "text/plain": [
              "array([  1.        ,   1.09854114,   1.20679264,   1.32571137,\n",
              "         1.45634848,   1.59985872,   1.75751062,   1.93069773,\n",
              "         2.12095089,   2.32995181,   2.55954792,   2.8117687 ,\n",
              "         3.0888436 ,   3.39322177,   3.72759372,   4.09491506,\n",
              "         4.49843267,   4.94171336,   5.42867544,   5.96362332,\n",
              "         6.55128557,   7.19685673,   7.90604321,   8.68511374,\n",
              "         9.54095476,  10.48113134,  11.51395399,  12.64855217,\n",
              "        13.89495494,  15.26417967,  16.76832937,  18.42069969,\n",
              "        20.23589648,  22.22996483,  24.42053095,  26.82695795,\n",
              "        29.47051703,  32.37457543,  35.56480306,  39.06939937,\n",
              "        42.9193426 ,  47.14866363,  51.79474679,  56.89866029,\n",
              "        62.50551925,  68.6648845 ,  75.43120063,  82.86427729,\n",
              "        91.0298178 , 100.        ])"
            ]
          },
          "metadata": {},
          "execution_count": 9
        }
      ]
    },
    {
      "cell_type": "markdown",
      "source": [
        "24) creating pandas datastructure"
      ],
      "metadata": {
        "id": "Y6by10P28cni"
      }
    },
    {
      "cell_type": "code",
      "source": [
        "import pandas as pd\n",
        "arr\n",
        "arr=np.random.randint(0,100,size=(5,3))\n",
        "df=pd.DataFrame(arr)\n",
        "df"
      ],
      "metadata": {
        "colab": {
          "base_uri": "https://localhost:8080/",
          "height": 206
        },
        "id": "B9OOvlum8uxS",
        "outputId": "4477b147-3e71-4e61-ccf3-48d0c197e62f"
      },
      "execution_count": null,
      "outputs": [
        {
          "output_type": "execute_result",
          "data": {
            "text/plain": [
              "    0   1   2\n",
              "0   6  67  68\n",
              "1  86  18  47\n",
              "2  32  37  82\n",
              "3  57  26  67\n",
              "4  19  89   3"
            ],
            "text/html": [
              "\n",
              "  <div id=\"df-c6cbfe3d-0a4e-40a3-b981-dc499eb86044\" class=\"colab-df-container\">\n",
              "    <div>\n",
              "<style scoped>\n",
              "    .dataframe tbody tr th:only-of-type {\n",
              "        vertical-align: middle;\n",
              "    }\n",
              "\n",
              "    .dataframe tbody tr th {\n",
              "        vertical-align: top;\n",
              "    }\n",
              "\n",
              "    .dataframe thead th {\n",
              "        text-align: right;\n",
              "    }\n",
              "</style>\n",
              "<table border=\"1\" class=\"dataframe\">\n",
              "  <thead>\n",
              "    <tr style=\"text-align: right;\">\n",
              "      <th></th>\n",
              "      <th>0</th>\n",
              "      <th>1</th>\n",
              "      <th>2</th>\n",
              "    </tr>\n",
              "  </thead>\n",
              "  <tbody>\n",
              "    <tr>\n",
              "      <th>0</th>\n",
              "      <td>6</td>\n",
              "      <td>67</td>\n",
              "      <td>68</td>\n",
              "    </tr>\n",
              "    <tr>\n",
              "      <th>1</th>\n",
              "      <td>86</td>\n",
              "      <td>18</td>\n",
              "      <td>47</td>\n",
              "    </tr>\n",
              "    <tr>\n",
              "      <th>2</th>\n",
              "      <td>32</td>\n",
              "      <td>37</td>\n",
              "      <td>82</td>\n",
              "    </tr>\n",
              "    <tr>\n",
              "      <th>3</th>\n",
              "      <td>57</td>\n",
              "      <td>26</td>\n",
              "      <td>67</td>\n",
              "    </tr>\n",
              "    <tr>\n",
              "      <th>4</th>\n",
              "      <td>19</td>\n",
              "      <td>89</td>\n",
              "      <td>3</td>\n",
              "    </tr>\n",
              "  </tbody>\n",
              "</table>\n",
              "</div>\n",
              "    <div class=\"colab-df-buttons\">\n",
              "\n",
              "  <div class=\"colab-df-container\">\n",
              "    <button class=\"colab-df-convert\" onclick=\"convertToInteractive('df-c6cbfe3d-0a4e-40a3-b981-dc499eb86044')\"\n",
              "            title=\"Convert this dataframe to an interactive table.\"\n",
              "            style=\"display:none;\">\n",
              "\n",
              "  <svg xmlns=\"http://www.w3.org/2000/svg\" height=\"24px\" viewBox=\"0 -960 960 960\">\n",
              "    <path d=\"M120-120v-720h720v720H120Zm60-500h600v-160H180v160Zm220 220h160v-160H400v160Zm0 220h160v-160H400v160ZM180-400h160v-160H180v160Zm440 0h160v-160H620v160ZM180-180h160v-160H180v160Zm440 0h160v-160H620v160Z\"/>\n",
              "  </svg>\n",
              "    </button>\n",
              "\n",
              "  <style>\n",
              "    .colab-df-container {\n",
              "      display:flex;\n",
              "      gap: 12px;\n",
              "    }\n",
              "\n",
              "    .colab-df-convert {\n",
              "      background-color: #E8F0FE;\n",
              "      border: none;\n",
              "      border-radius: 50%;\n",
              "      cursor: pointer;\n",
              "      display: none;\n",
              "      fill: #1967D2;\n",
              "      height: 32px;\n",
              "      padding: 0 0 0 0;\n",
              "      width: 32px;\n",
              "    }\n",
              "\n",
              "    .colab-df-convert:hover {\n",
              "      background-color: #E2EBFA;\n",
              "      box-shadow: 0px 1px 2px rgba(60, 64, 67, 0.3), 0px 1px 3px 1px rgba(60, 64, 67, 0.15);\n",
              "      fill: #174EA6;\n",
              "    }\n",
              "\n",
              "    .colab-df-buttons div {\n",
              "      margin-bottom: 4px;\n",
              "    }\n",
              "\n",
              "    [theme=dark] .colab-df-convert {\n",
              "      background-color: #3B4455;\n",
              "      fill: #D2E3FC;\n",
              "    }\n",
              "\n",
              "    [theme=dark] .colab-df-convert:hover {\n",
              "      background-color: #434B5C;\n",
              "      box-shadow: 0px 1px 3px 1px rgba(0, 0, 0, 0.15);\n",
              "      filter: drop-shadow(0px 1px 2px rgba(0, 0, 0, 0.3));\n",
              "      fill: #FFFFFF;\n",
              "    }\n",
              "  </style>\n",
              "\n",
              "    <script>\n",
              "      const buttonEl =\n",
              "        document.querySelector('#df-c6cbfe3d-0a4e-40a3-b981-dc499eb86044 button.colab-df-convert');\n",
              "      buttonEl.style.display =\n",
              "        google.colab.kernel.accessAllowed ? 'block' : 'none';\n",
              "\n",
              "      async function convertToInteractive(key) {\n",
              "        const element = document.querySelector('#df-c6cbfe3d-0a4e-40a3-b981-dc499eb86044');\n",
              "        const dataTable =\n",
              "          await google.colab.kernel.invokeFunction('convertToInteractive',\n",
              "                                                    [key], {});\n",
              "        if (!dataTable) return;\n",
              "\n",
              "        const docLinkHtml = 'Like what you see? Visit the ' +\n",
              "          '<a target=\"_blank\" href=https://colab.research.google.com/notebooks/data_table.ipynb>data table notebook</a>'\n",
              "          + ' to learn more about interactive tables.';\n",
              "        element.innerHTML = '';\n",
              "        dataTable['output_type'] = 'display_data';\n",
              "        await google.colab.output.renderOutput(dataTable, element);\n",
              "        const docLink = document.createElement('div');\n",
              "        docLink.innerHTML = docLinkHtml;\n",
              "        element.appendChild(docLink);\n",
              "      }\n",
              "    </script>\n",
              "  </div>\n",
              "\n",
              "\n",
              "<div id=\"df-29c38925-ebf0-4d56-bb20-2657a76ebe3f\">\n",
              "  <button class=\"colab-df-quickchart\" onclick=\"quickchart('df-29c38925-ebf0-4d56-bb20-2657a76ebe3f')\"\n",
              "            title=\"Suggest charts\"\n",
              "            style=\"display:none;\">\n",
              "\n",
              "<svg xmlns=\"http://www.w3.org/2000/svg\" height=\"24px\"viewBox=\"0 0 24 24\"\n",
              "     width=\"24px\">\n",
              "    <g>\n",
              "        <path d=\"M19 3H5c-1.1 0-2 .9-2 2v14c0 1.1.9 2 2 2h14c1.1 0 2-.9 2-2V5c0-1.1-.9-2-2-2zM9 17H7v-7h2v7zm4 0h-2V7h2v10zm4 0h-2v-4h2v4z\"/>\n",
              "    </g>\n",
              "</svg>\n",
              "  </button>\n",
              "\n",
              "<style>\n",
              "  .colab-df-quickchart {\n",
              "      --bg-color: #E8F0FE;\n",
              "      --fill-color: #1967D2;\n",
              "      --hover-bg-color: #E2EBFA;\n",
              "      --hover-fill-color: #174EA6;\n",
              "      --disabled-fill-color: #AAA;\n",
              "      --disabled-bg-color: #DDD;\n",
              "  }\n",
              "\n",
              "  [theme=dark] .colab-df-quickchart {\n",
              "      --bg-color: #3B4455;\n",
              "      --fill-color: #D2E3FC;\n",
              "      --hover-bg-color: #434B5C;\n",
              "      --hover-fill-color: #FFFFFF;\n",
              "      --disabled-bg-color: #3B4455;\n",
              "      --disabled-fill-color: #666;\n",
              "  }\n",
              "\n",
              "  .colab-df-quickchart {\n",
              "    background-color: var(--bg-color);\n",
              "    border: none;\n",
              "    border-radius: 50%;\n",
              "    cursor: pointer;\n",
              "    display: none;\n",
              "    fill: var(--fill-color);\n",
              "    height: 32px;\n",
              "    padding: 0;\n",
              "    width: 32px;\n",
              "  }\n",
              "\n",
              "  .colab-df-quickchart:hover {\n",
              "    background-color: var(--hover-bg-color);\n",
              "    box-shadow: 0 1px 2px rgba(60, 64, 67, 0.3), 0 1px 3px 1px rgba(60, 64, 67, 0.15);\n",
              "    fill: var(--button-hover-fill-color);\n",
              "  }\n",
              "\n",
              "  .colab-df-quickchart-complete:disabled,\n",
              "  .colab-df-quickchart-complete:disabled:hover {\n",
              "    background-color: var(--disabled-bg-color);\n",
              "    fill: var(--disabled-fill-color);\n",
              "    box-shadow: none;\n",
              "  }\n",
              "\n",
              "  .colab-df-spinner {\n",
              "    border: 2px solid var(--fill-color);\n",
              "    border-color: transparent;\n",
              "    border-bottom-color: var(--fill-color);\n",
              "    animation:\n",
              "      spin 1s steps(1) infinite;\n",
              "  }\n",
              "\n",
              "  @keyframes spin {\n",
              "    0% {\n",
              "      border-color: transparent;\n",
              "      border-bottom-color: var(--fill-color);\n",
              "      border-left-color: var(--fill-color);\n",
              "    }\n",
              "    20% {\n",
              "      border-color: transparent;\n",
              "      border-left-color: var(--fill-color);\n",
              "      border-top-color: var(--fill-color);\n",
              "    }\n",
              "    30% {\n",
              "      border-color: transparent;\n",
              "      border-left-color: var(--fill-color);\n",
              "      border-top-color: var(--fill-color);\n",
              "      border-right-color: var(--fill-color);\n",
              "    }\n",
              "    40% {\n",
              "      border-color: transparent;\n",
              "      border-right-color: var(--fill-color);\n",
              "      border-top-color: var(--fill-color);\n",
              "    }\n",
              "    60% {\n",
              "      border-color: transparent;\n",
              "      border-right-color: var(--fill-color);\n",
              "    }\n",
              "    80% {\n",
              "      border-color: transparent;\n",
              "      border-right-color: var(--fill-color);\n",
              "      border-bottom-color: var(--fill-color);\n",
              "    }\n",
              "    90% {\n",
              "      border-color: transparent;\n",
              "      border-bottom-color: var(--fill-color);\n",
              "    }\n",
              "  }\n",
              "</style>\n",
              "\n",
              "  <script>\n",
              "    async function quickchart(key) {\n",
              "      const quickchartButtonEl =\n",
              "        document.querySelector('#' + key + ' button');\n",
              "      quickchartButtonEl.disabled = true;  // To prevent multiple clicks.\n",
              "      quickchartButtonEl.classList.add('colab-df-spinner');\n",
              "      try {\n",
              "        const charts = await google.colab.kernel.invokeFunction(\n",
              "            'suggestCharts', [key], {});\n",
              "      } catch (error) {\n",
              "        console.error('Error during call to suggestCharts:', error);\n",
              "      }\n",
              "      quickchartButtonEl.classList.remove('colab-df-spinner');\n",
              "      quickchartButtonEl.classList.add('colab-df-quickchart-complete');\n",
              "    }\n",
              "    (() => {\n",
              "      let quickchartButtonEl =\n",
              "        document.querySelector('#df-29c38925-ebf0-4d56-bb20-2657a76ebe3f button');\n",
              "      quickchartButtonEl.style.display =\n",
              "        google.colab.kernel.accessAllowed ? 'block' : 'none';\n",
              "    })();\n",
              "  </script>\n",
              "</div>\n",
              "\n",
              "  <div id=\"id_153e1eec-e53f-49ec-9c63-68668917356d\">\n",
              "    <style>\n",
              "      .colab-df-generate {\n",
              "        background-color: #E8F0FE;\n",
              "        border: none;\n",
              "        border-radius: 50%;\n",
              "        cursor: pointer;\n",
              "        display: none;\n",
              "        fill: #1967D2;\n",
              "        height: 32px;\n",
              "        padding: 0 0 0 0;\n",
              "        width: 32px;\n",
              "      }\n",
              "\n",
              "      .colab-df-generate:hover {\n",
              "        background-color: #E2EBFA;\n",
              "        box-shadow: 0px 1px 2px rgba(60, 64, 67, 0.3), 0px 1px 3px 1px rgba(60, 64, 67, 0.15);\n",
              "        fill: #174EA6;\n",
              "      }\n",
              "\n",
              "      [theme=dark] .colab-df-generate {\n",
              "        background-color: #3B4455;\n",
              "        fill: #D2E3FC;\n",
              "      }\n",
              "\n",
              "      [theme=dark] .colab-df-generate:hover {\n",
              "        background-color: #434B5C;\n",
              "        box-shadow: 0px 1px 3px 1px rgba(0, 0, 0, 0.15);\n",
              "        filter: drop-shadow(0px 1px 2px rgba(0, 0, 0, 0.3));\n",
              "        fill: #FFFFFF;\n",
              "      }\n",
              "    </style>\n",
              "    <button class=\"colab-df-generate\" onclick=\"generateWithVariable('df')\"\n",
              "            title=\"Generate code using this dataframe.\"\n",
              "            style=\"display:none;\">\n",
              "\n",
              "  <svg xmlns=\"http://www.w3.org/2000/svg\" height=\"24px\"viewBox=\"0 0 24 24\"\n",
              "       width=\"24px\">\n",
              "    <path d=\"M7,19H8.4L18.45,9,17,7.55,7,17.6ZM5,21V16.75L18.45,3.32a2,2,0,0,1,2.83,0l1.4,1.43a1.91,1.91,0,0,1,.58,1.4,1.91,1.91,0,0,1-.58,1.4L9.25,21ZM18.45,9,17,7.55Zm-12,3A5.31,5.31,0,0,0,4.9,8.1,5.31,5.31,0,0,0,1,6.5,5.31,5.31,0,0,0,4.9,4.9,5.31,5.31,0,0,0,6.5,1,5.31,5.31,0,0,0,8.1,4.9,5.31,5.31,0,0,0,12,6.5,5.46,5.46,0,0,0,6.5,12Z\"/>\n",
              "  </svg>\n",
              "    </button>\n",
              "    <script>\n",
              "      (() => {\n",
              "      const buttonEl =\n",
              "        document.querySelector('#id_153e1eec-e53f-49ec-9c63-68668917356d button.colab-df-generate');\n",
              "      buttonEl.style.display =\n",
              "        google.colab.kernel.accessAllowed ? 'block' : 'none';\n",
              "\n",
              "      buttonEl.onclick = () => {\n",
              "        google.colab.notebook.generateWithVariable('df');\n",
              "      }\n",
              "      })();\n",
              "    </script>\n",
              "  </div>\n",
              "\n",
              "    </div>\n",
              "  </div>\n"
            ],
            "application/vnd.google.colaboratory.intrinsic+json": {
              "type": "dataframe",
              "variable_name": "df",
              "summary": "{\n  \"name\": \"df\",\n  \"rows\": 5,\n  \"fields\": [\n    {\n      \"column\": 0,\n      \"properties\": {\n        \"dtype\": \"number\",\n        \"std\": 31,\n        \"min\": 6,\n        \"max\": 86,\n        \"num_unique_values\": 5,\n        \"samples\": [\n          86,\n          19,\n          32\n        ],\n        \"semantic_type\": \"\",\n        \"description\": \"\"\n      }\n    },\n    {\n      \"column\": 1,\n      \"properties\": {\n        \"dtype\": \"number\",\n        \"std\": 29,\n        \"min\": 18,\n        \"max\": 89,\n        \"num_unique_values\": 5,\n        \"samples\": [\n          18,\n          89,\n          37\n        ],\n        \"semantic_type\": \"\",\n        \"description\": \"\"\n      }\n    },\n    {\n      \"column\": 2,\n      \"properties\": {\n        \"dtype\": \"number\",\n        \"std\": 30,\n        \"min\": 3,\n        \"max\": 82,\n        \"num_unique_values\": 5,\n        \"samples\": [\n          47,\n          3,\n          82\n        ],\n        \"semantic_type\": \"\",\n        \"description\": \"\"\n      }\n    }\n  ]\n}"
            }
          },
          "metadata": {},
          "execution_count": 4
        }
      ]
    },
    {
      "cell_type": "markdown",
      "source": [
        "25) makes changes in the specific column of dataframe"
      ],
      "metadata": {
        "id": "lB0I5hHuAMW_"
      }
    },
    {
      "cell_type": "code",
      "source": [
        "df[0].np"
      ],
      "metadata": {
        "id": "WFxcvJraAcUQ",
        "colab": {
          "base_uri": "https://localhost:8080/",
          "height": 263
        },
        "outputId": "88484278-2b82-4a94-fcb9-b7471b0ddea9"
      },
      "execution_count": null,
      "outputs": [
        {
          "output_type": "error",
          "ename": "AttributeError",
          "evalue": "'Series' object has no attribute 'np'",
          "traceback": [
            "\u001b[0;31m---------------------------------------------------------------------------\u001b[0m",
            "\u001b[0;31mAttributeError\u001b[0m                            Traceback (most recent call last)",
            "\u001b[0;32m<ipython-input-5-9b0d2d2cdd36>\u001b[0m in \u001b[0;36m<cell line: 1>\u001b[0;34m()\u001b[0m\n\u001b[0;32m----> 1\u001b[0;31m \u001b[0mdf\u001b[0m\u001b[0;34m[\u001b[0m\u001b[0;36m0\u001b[0m\u001b[0;34m]\u001b[0m\u001b[0;34m.\u001b[0m\u001b[0mnp\u001b[0m\u001b[0;34m\u001b[0m\u001b[0;34m\u001b[0m\u001b[0m\n\u001b[0m",
            "\u001b[0;32m/usr/local/lib/python3.10/dist-packages/pandas/core/generic.py\u001b[0m in \u001b[0;36m__getattr__\u001b[0;34m(self, name)\u001b[0m\n\u001b[1;32m   6297\u001b[0m         ):\n\u001b[1;32m   6298\u001b[0m             \u001b[0;32mreturn\u001b[0m \u001b[0mself\u001b[0m\u001b[0;34m[\u001b[0m\u001b[0mname\u001b[0m\u001b[0;34m]\u001b[0m\u001b[0;34m\u001b[0m\u001b[0;34m\u001b[0m\u001b[0m\n\u001b[0;32m-> 6299\u001b[0;31m         \u001b[0;32mreturn\u001b[0m \u001b[0mobject\u001b[0m\u001b[0;34m.\u001b[0m\u001b[0m__getattribute__\u001b[0m\u001b[0;34m(\u001b[0m\u001b[0mself\u001b[0m\u001b[0;34m,\u001b[0m \u001b[0mname\u001b[0m\u001b[0;34m)\u001b[0m\u001b[0;34m\u001b[0m\u001b[0;34m\u001b[0m\u001b[0m\n\u001b[0m\u001b[1;32m   6300\u001b[0m \u001b[0;34m\u001b[0m\u001b[0m\n\u001b[1;32m   6301\u001b[0m     \u001b[0;34m@\u001b[0m\u001b[0mfinal\u001b[0m\u001b[0;34m\u001b[0m\u001b[0;34m\u001b[0m\u001b[0m\n",
            "\u001b[0;31mAttributeError\u001b[0m: 'Series' object has no attribute 'np'"
          ]
        }
      ]
    },
    {
      "cell_type": "markdown",
      "source": [
        "26) accessing the elements of the array"
      ],
      "metadata": {
        "id": "J0g3Z8xTAyk9"
      }
    },
    {
      "cell_type": "code",
      "source": [
        "arr=np.array([10,20,30,40,50])\n",
        "arr[2]"
      ],
      "metadata": {
        "colab": {
          "base_uri": "https://localhost:8080/"
        },
        "id": "GRQ0BBBJA5YK",
        "outputId": "ee4e350f-9896-439a-825c-a16f97507c82"
      },
      "execution_count": null,
      "outputs": [
        {
          "output_type": "execute_result",
          "data": {
            "text/plain": [
              "30"
            ]
          },
          "metadata": {},
          "execution_count": 26
        }
      ]
    },
    {
      "cell_type": "markdown",
      "source": [
        "27) accessing the elements of the 2D array\n"
      ],
      "metadata": {
        "id": "9pxuGwtDBGKh"
      }
    },
    {
      "cell_type": "code",
      "source": [
        "arr_2d=np.array([[1,2,3],\n",
        "                 [4,5,6],\n",
        "                 [7,8,9]])\n",
        "arr_2d[1][2]"
      ],
      "metadata": {
        "colab": {
          "base_uri": "https://localhost:8080/"
        },
        "id": "L2_6Z1QvBPl7",
        "outputId": "7cd81f18-30ae-4e13-9577-b91c67f5650f"
      },
      "execution_count": null,
      "outputs": [
        {
          "output_type": "execute_result",
          "data": {
            "text/plain": [
              "6"
            ]
          },
          "metadata": {},
          "execution_count": 27
        }
      ]
    },
    {
      "cell_type": "markdown",
      "source": [
        "28)using boolean indexing"
      ],
      "metadata": {
        "id": "WovY1h0zBk-T"
      }
    },
    {
      "cell_type": "code",
      "source": [
        "arr=np.array([3,8,2,10,5,7])\n",
        "arr[arr>5]"
      ],
      "metadata": {
        "colab": {
          "base_uri": "https://localhost:8080/"
        },
        "id": "FSwRjF9aFNNt",
        "outputId": "a0e0e765-44e1-4ac8-f412-6c0fa814488e"
      },
      "execution_count": null,
      "outputs": [
        {
          "output_type": "execute_result",
          "data": {
            "text/plain": [
              "array([ 8, 10,  7])"
            ]
          },
          "metadata": {},
          "execution_count": 28
        }
      ]
    },
    {
      "cell_type": "markdown",
      "source": [
        "29)index slicing"
      ],
      "metadata": {
        "id": "fLpkZBClFZWg"
      }
    },
    {
      "cell_type": "code",
      "source": [
        "arr=np.array([1,2,3,4,5,6,7,8,9])\n",
        "arr[2:6]"
      ],
      "metadata": {
        "colab": {
          "base_uri": "https://localhost:8080/"
        },
        "id": "fG1AkMwVFnEX",
        "outputId": "72897ff2-6863-4c8c-e6ac-1d5048d63ef1"
      },
      "execution_count": null,
      "outputs": [
        {
          "output_type": "execute_result",
          "data": {
            "text/plain": [
              "array([3, 4, 5, 6])"
            ]
          },
          "metadata": {},
          "execution_count": 6
        }
      ]
    },
    {
      "cell_type": "markdown",
      "source": [
        "30)slicing of 2D array"
      ],
      "metadata": {
        "id": "M9dsB9G2F2Q9"
      }
    },
    {
      "cell_type": "code",
      "source": [
        "arr_2d = np.array([[1, 2, 3],\n",
        "                   [4, 5, 6],\n",
        "                   [7, 8, 9]])\n",
        "arr_2d[0:2,1:3]\n"
      ],
      "metadata": {
        "colab": {
          "base_uri": "https://localhost:8080/"
        },
        "id": "aMYqR2Z0F6Ri",
        "outputId": "fdfbcaf0-48d9-4746-9c92-f28f14a845b5"
      },
      "execution_count": null,
      "outputs": [
        {
          "output_type": "execute_result",
          "data": {
            "text/plain": [
              "array([[2, 3],\n",
              "       [5, 6]])"
            ]
          },
          "metadata": {},
          "execution_count": 8
        }
      ]
    },
    {
      "cell_type": "markdown",
      "source": [
        "31) numpy function to extract elements in specific order from 2D array"
      ],
      "metadata": {
        "id": "0l7OkjU9Vkzm"
      }
    },
    {
      "cell_type": "code",
      "source": [
        "import numpy as np\n",
        "l=[[1,2],[3,2],[2,1]]\n",
        "arr=np.array(l)\n",
        "def twod_array(a,b):\n",
        "  for i in b:\n",
        "    print(a[i[0]][i[1]])\n",
        "\n",
        "array_2d=np.array([[1,2,3],\n",
        "                   [4,5,6],\n",
        "                   [7,8,9],\n",
        "                   [10,11,12]])\n",
        "twod_array(array_2d,arr)\n"
      ],
      "metadata": {
        "colab": {
          "base_uri": "https://localhost:8080/"
        },
        "id": "Uivm1psyVwXb",
        "outputId": "ef8dd77d-c2ed-4c3f-e8ee-42d5c6dd7b8f"
      },
      "execution_count": null,
      "outputs": [
        {
          "output_type": "stream",
          "name": "stdout",
          "text": [
            "6\n",
            "12\n",
            "8\n"
          ]
        }
      ]
    },
    {
      "cell_type": "markdown",
      "source": [
        "32)numpy function to filter elments using boolean indexing"
      ],
      "metadata": {
        "id": "MpYcHGpCX9wb"
      }
    },
    {
      "cell_type": "code",
      "source": [
        "def filter(num,arr):\n",
        "     return arr[arr>num]\n",
        "\n",
        "filter(1,np.array([1,2,3,4]))"
      ],
      "metadata": {
        "colab": {
          "base_uri": "https://localhost:8080/"
        },
        "id": "76DPuHLhYg_T",
        "outputId": "6bb9a5a1-7e5a-47c0-c90e-30b9a088b7ec"
      },
      "execution_count": null,
      "outputs": [
        {
          "output_type": "execute_result",
          "data": {
            "text/plain": [
              "array([2, 3, 4])"
            ]
          },
          "metadata": {},
          "execution_count": 6
        }
      ]
    },
    {
      "cell_type": "markdown",
      "source": [
        "33)numpy function to extract elements in specific order from 3D array"
      ],
      "metadata": {
        "id": "NFnD5ve6Y5NN"
      }
    },
    {
      "cell_type": "code",
      "source": [
        "def threed_array(a,b,c,d):\n",
        "  for i in range(len(b)):\n",
        "    print(a[b[i]][c[i]][d[i]])\n",
        "a=np.array([0,0,0])\n",
        "b=np.array([0,2,0])\n",
        "c=np.array([0,1,1])\n",
        "array_3d=np.array([[[1,2,3],\n",
        "                   [4,5,6],\n",
        "                   [7,8,9],\n",
        "                   [10,11,12]]])\n",
        "threed_array(array_3d,a,b,c)"
      ],
      "metadata": {
        "colab": {
          "base_uri": "https://localhost:8080/"
        },
        "id": "bZGz5c-JZOL3",
        "outputId": "e3ea3c8a-cb15-4cbb-fab8-111581239f1c"
      },
      "execution_count": null,
      "outputs": [
        {
          "output_type": "stream",
          "name": "stdout",
          "text": [
            "1\n",
            "8\n",
            "2\n"
          ]
        }
      ]
    },
    {
      "cell_type": "markdown",
      "source": [
        "34)numpy function to filter elments using boolean indexing"
      ],
      "metadata": {
        "id": "UtOeKBRLbsfA"
      }
    },
    {
      "cell_type": "code",
      "source": [
        "def filter(num,arr):\n",
        "     return arr[np.logical_and(arr>num,arr%2==0)]\n",
        "\n",
        "filter(1,np.array([1,2,3,4]))"
      ],
      "metadata": {
        "colab": {
          "base_uri": "https://localhost:8080/"
        },
        "id": "kNn443cXbuSP",
        "outputId": "4a9a0b9c-756e-4f40-ccbb-345c6179cfe2"
      },
      "execution_count": null,
      "outputs": [
        {
          "output_type": "execute_result",
          "data": {
            "text/plain": [
              "array([2, 4])"
            ]
          },
          "metadata": {},
          "execution_count": 16
        }
      ]
    },
    {
      "cell_type": "markdown",
      "source": [],
      "metadata": {
        "id": "MRUCeaL0bTgj"
      }
    },
    {
      "cell_type": "markdown",
      "source": [
        "35) extracting exlements from 2d array using row and column indices provided by separate arrays is solved above"
      ],
      "metadata": {
        "id": "__ZQDik4fnwn"
      }
    },
    {
      "cell_type": "markdown",
      "source": [
        "36)adding scalar element to matrix"
      ],
      "metadata": {
        "id": "srAJk1Z9f7lM"
      }
    },
    {
      "cell_type": "code",
      "source": [
        "array_2d=np.array([[1,2,3],\n",
        "                   [4,5,6],\n",
        "                   [7,8,9]])\n",
        "array_2d+5"
      ],
      "metadata": {
        "colab": {
          "base_uri": "https://localhost:8080/"
        },
        "id": "aBdri-NzgEzj",
        "outputId": "07ac79e1-b1b0-493e-a43d-536e9bbc5bc6"
      },
      "execution_count": null,
      "outputs": [
        {
          "output_type": "execute_result",
          "data": {
            "text/plain": [
              "array([[ 6,  7,  8],\n",
              "       [ 9, 10, 11],\n",
              "       [12, 13, 14]])"
            ]
          },
          "metadata": {},
          "execution_count": 18
        }
      ]
    },
    {
      "cell_type": "markdown",
      "source": [
        "37)numpy broadcasting"
      ],
      "metadata": {
        "id": "B6p-E9bHgSHt"
      }
    },
    {
      "cell_type": "code",
      "source": [
        "arr1=np.array([[1,2,3]])\n",
        "arr2=np.array([[1,2,3,10],\n",
        "               [4,5,6,11],\n",
        "               [7,8,9,12]])\n",
        "arr1*arr2.T"
      ],
      "metadata": {
        "colab": {
          "base_uri": "https://localhost:8080/"
        },
        "id": "qV6MQi-wgnPH",
        "outputId": "770a7496-c273-47ec-e2db-9a39e9ecf0e1"
      },
      "execution_count": null,
      "outputs": [
        {
          "output_type": "execute_result",
          "data": {
            "text/plain": [
              "array([[ 1,  8, 21],\n",
              "       [ 2, 10, 24],\n",
              "       [ 3, 12, 27],\n",
              "       [10, 22, 36]])"
            ]
          },
          "metadata": {},
          "execution_count": 23
        }
      ]
    },
    {
      "cell_type": "markdown",
      "source": [
        "38)"
      ],
      "metadata": {
        "id": "SYHGRnGJkjen"
      }
    },
    {
      "cell_type": "code",
      "source": [
        "arr1+arr2.T"
      ],
      "metadata": {
        "colab": {
          "base_uri": "https://localhost:8080/"
        },
        "id": "nH0DOo8Vk-5L",
        "outputId": "23eaa9f5-759d-4f62-be19-10fddb8affaa"
      },
      "execution_count": null,
      "outputs": [
        {
          "output_type": "execute_result",
          "data": {
            "text/plain": [
              "array([[ 2,  6, 10],\n",
              "       [ 3,  7, 11],\n",
              "       [ 4,  8, 12],\n",
              "       [11, 13, 15]])"
            ]
          },
          "metadata": {},
          "execution_count": 24
        }
      ]
    },
    {
      "cell_type": "markdown",
      "source": [
        "39)broadcasting"
      ],
      "metadata": {
        "id": "9IbCmGQ5lJ3l"
      }
    },
    {
      "cell_type": "code",
      "source": [
        "arr1=np.array([[1],\n",
        "      [2],\n",
        "      [3]])\n",
        "arr2=np.array([[1,2,3]])\n",
        "arr1+arr2"
      ],
      "metadata": {
        "colab": {
          "base_uri": "https://localhost:8080/"
        },
        "id": "T_9QUcEIlVyb",
        "outputId": "cc01827e-551e-4dcb-e528-cfc4a02bf40f"
      },
      "execution_count": null,
      "outputs": [
        {
          "output_type": "execute_result",
          "data": {
            "text/plain": [
              "array([[2, 3, 4],\n",
              "       [3, 4, 5],\n",
              "       [4, 5, 6]])"
            ]
          },
          "metadata": {},
          "execution_count": 27
        }
      ]
    },
    {
      "cell_type": "markdown",
      "source": [
        "40) broadcasting"
      ],
      "metadata": {
        "id": "RK2eODQTmOK4"
      }
    },
    {
      "cell_type": "code",
      "source": [
        "import numpy as np\n",
        "\n",
        "# Define the arrays\n",
        "arr1 = np.array([\n",
        "    [1, 2, 3],\n",
        "    [4, 5, 6]\n",
        "])  # Shape (2, 3)\n",
        "\n",
        "arr2 = np.array([\n",
        "    [7, 8],\n",
        "    [9, 10]\n",
        "])  # Shape (2, 2)\n",
        "\n",
        "# Repeat or tile arr2 to match arr1's shape\n",
        "# We reshape arr2 to (2, 1) and broadcast it to (2, 3)\n",
        "arr2_expanded = np.repeat(arr2, 3, axis=1)\n",
        "arr1=np.repeat(arr1,2,axis=1)\n",
        "\n",
        "# Element-wise multiplication\n",
        "result = arr1 * arr2_expanded\n",
        "\n",
        "print(result)\n",
        "\n"
      ],
      "metadata": {
        "colab": {
          "base_uri": "https://localhost:8080/"
        },
        "id": "9AsVsC4EmSh5",
        "outputId": "8672f902-d717-4748-bcf9-a7cf513e8bbe"
      },
      "execution_count": null,
      "outputs": [
        {
          "output_type": "stream",
          "name": "stdout",
          "text": [
            "[[ 7  7 14 16 24 24]\n",
            " [36 36 45 50 60 60]]\n"
          ]
        }
      ]
    },
    {
      "cell_type": "markdown",
      "source": [
        "Question 41) calculating column wise mean"
      ],
      "metadata": {
        "id": "fRxJBqyQp-oQ"
      }
    },
    {
      "cell_type": "code",
      "source": [
        "arr = np.array([[1, 2, 3], [4, 5, 6]])\n",
        "# arr[0:2,0].mean()\n",
        "# np.shape(arr)[0]\n",
        "def column_mean(a):\n",
        "  for i in range(np.size(a[0])):\n",
        "    print(f\"column {i} average=\",{a[0:np.shape(a)[0],i].mean()})\n",
        "column_mean(arr)"
      ],
      "metadata": {
        "colab": {
          "base_uri": "https://localhost:8080/"
        },
        "id": "UNy5xEqGqRlm",
        "outputId": "76250a62-a09f-4382-c496-7d4b53b8f7d9"
      },
      "execution_count": null,
      "outputs": [
        {
          "output_type": "stream",
          "name": "stdout",
          "text": [
            "column 0 average= {2.5}\n",
            "column 1 average= {3.5}\n",
            "column 2 average= {4.5}\n"
          ]
        }
      ]
    },
    {
      "cell_type": "markdown",
      "source": [
        "Question 42) finding maximun in each row"
      ],
      "metadata": {
        "id": "k7tR7354tAEG"
      }
    },
    {
      "cell_type": "code",
      "source": [
        "arr = np.array([[1, 2, 3], [4, 5, 6]])\n",
        "arr[0].max()\n",
        "def row_max(a):\n",
        "  for i in range(np.shape(a)[0]):\n",
        "    print(a[i].max())\n",
        "row_max(arr)"
      ],
      "metadata": {
        "colab": {
          "base_uri": "https://localhost:8080/"
        },
        "id": "W7NzQPPStKge",
        "outputId": "54bf537b-4de8-43d4-f0f2-2b7466f950ba"
      },
      "execution_count": null,
      "outputs": [
        {
          "output_type": "stream",
          "name": "stdout",
          "text": [
            "3\n",
            "6\n"
          ]
        }
      ]
    },
    {
      "cell_type": "markdown",
      "source": [
        "Question 43)finding the indices of max value in each column"
      ],
      "metadata": {
        "id": "7V7HjyckuC8j"
      }
    },
    {
      "cell_type": "code",
      "source": [
        "arr = np.array([[1, 2, 3], [4, 5, 6]])\n",
        "def column_max(a):\n",
        "  for i in range(np.size(a[0])):\n",
        "    print(f\"column {i} average=\",{a[0:np.shape(a)[0],i].max()})\n",
        "column_mean(arr)"
      ],
      "metadata": {
        "id": "FwE3P_zsu2Bv"
      },
      "execution_count": null,
      "outputs": []
    },
    {
      "cell_type": "markdown",
      "source": [
        "Question 44)"
      ],
      "metadata": {
        "id": "xEASK_zEjutq"
      }
    },
    {
      "cell_type": "markdown",
      "source": [
        "Question 45) checking if all the elemnets in the row are even"
      ],
      "metadata": {
        "id": "K4o58r7Imi6-"
      }
    },
    {
      "cell_type": "code",
      "source": [
        "import numpy as np\n",
        "arr=np.array([[2,4,6],[3,5,7]])\n",
        "for i in range(np.shape(arr)[1]):\n",
        "  flag=True\n",
        "  for j in range(np.shape(arr)[0]):\n",
        "    if(arr[j][i]%2!=0):\n",
        "      flag=False\n",
        "      break\n",
        "  if(flag==False):\n",
        "    print(f\"the column {i} is not even \")\n",
        "  else:\n",
        "    print(f\"the column {i} even\")\n"
      ],
      "metadata": {
        "colab": {
          "base_uri": "https://localhost:8080/"
        },
        "id": "syPcoz_Imqn9",
        "outputId": "6ebc4eb0-2230-44f7-9acd-82f603011180"
      },
      "execution_count": null,
      "outputs": [
        {
          "output_type": "stream",
          "name": "stdout",
          "text": [
            "the column 0 is not even \n",
            "the column 1 is not even \n",
            "the column 2 is not even \n"
          ]
        }
      ]
    },
    {
      "cell_type": "markdown",
      "source": [
        "Question 46)reshaping a matrix"
      ],
      "metadata": {
        "id": "_Ob4J_6IpJo_"
      }
    },
    {
      "cell_type": "code",
      "source": [
        "arr=np.array([1,2,3,4,5,6])\n",
        "np.reshape(arr,(2,3))\n",
        "np.reshape(arr,(3,2))"
      ],
      "metadata": {
        "colab": {
          "base_uri": "https://localhost:8080/"
        },
        "id": "RoK1CgPIpYSN",
        "outputId": "4194a888-5a03-4c81-f220-356d64d4a6e9"
      },
      "execution_count": null,
      "outputs": [
        {
          "output_type": "execute_result",
          "data": {
            "text/plain": [
              "array([[1, 2],\n",
              "       [3, 4],\n",
              "       [5, 6]])"
            ]
          },
          "metadata": {},
          "execution_count": 7
        }
      ]
    },
    {
      "cell_type": "markdown",
      "source": [
        "Question 47)function that return s flattened array"
      ],
      "metadata": {
        "id": "HslZshHKrD3j"
      }
    },
    {
      "cell_type": "code",
      "source": [
        "arr=np.array([[1,2,3],[4,5,6]])\n",
        "def flat(a):\n",
        "  return a.flatten()\n",
        "flat(arr)"
      ],
      "metadata": {
        "colab": {
          "base_uri": "https://localhost:8080/"
        },
        "id": "JzJjIwUNrNz0",
        "outputId": "cae296f0-3ea7-42fb-9bc7-c6d4d7e2dee0"
      },
      "execution_count": null,
      "outputs": [
        {
          "output_type": "execute_result",
          "data": {
            "text/plain": [
              "array([1, 2, 3, 4, 5, 6])"
            ]
          },
          "metadata": {},
          "execution_count": 8
        }
      ]
    },
    {
      "cell_type": "markdown",
      "source": [
        "Question 48) concatination of 2 arrays along certain axis"
      ],
      "metadata": {
        "id": "F-iNZ-2Erx22"
      }
    },
    {
      "cell_type": "code",
      "source": [
        "array1 = np.array([[1, 2], [3, 4]])\n",
        "array2 = np.array([[5, 6], [7, 8]])\n",
        "def concat(a,b,c):\n",
        "  return np.concatenate((a,b),axis=c)\n",
        "concat(array1,array2,1)"
      ],
      "metadata": {
        "colab": {
          "base_uri": "https://localhost:8080/"
        },
        "id": "TR3261aEsFH4",
        "outputId": "6af659d7-1b1c-41a4-db93-cb14aace1fe4"
      },
      "execution_count": null,
      "outputs": [
        {
          "output_type": "execute_result",
          "data": {
            "text/plain": [
              "array([[1, 2, 5, 6],\n",
              "       [3, 4, 7, 8]])"
            ]
          },
          "metadata": {},
          "execution_count": 12
        }
      ]
    },
    {
      "cell_type": "markdown",
      "source": [
        "Question 49)splitting of an array"
      ],
      "metadata": {
        "id": "olpsh8xUtJeG"
      }
    },
    {
      "cell_type": "code",
      "source": [
        "arr=np.array([[1, 2, 3], [4, 5, 6], [7, 8, 9]])\n",
        "np.split(arr,3,axis=1)"
      ],
      "metadata": {
        "colab": {
          "base_uri": "https://localhost:8080/"
        },
        "id": "LbVUp8Iat6Qu",
        "outputId": "1273e2e6-da51-4db2-f25a-7f94bf442095"
      },
      "execution_count": null,
      "outputs": [
        {
          "output_type": "execute_result",
          "data": {
            "text/plain": [
              "[array([[1],\n",
              "        [4],\n",
              "        [7]]),\n",
              " array([[2],\n",
              "        [5],\n",
              "        [8]]),\n",
              " array([[3],\n",
              "        [6],\n",
              "        [9]])]"
            ]
          },
          "metadata": {},
          "execution_count": 20
        }
      ]
    },
    {
      "cell_type": "markdown",
      "source": [
        "Question 50) modification of array"
      ],
      "metadata": {
        "id": "f8mO3KCDulkH"
      }
    },
    {
      "cell_type": "code",
      "source": [
        "import numpy as np\n",
        "\n",
        "def modify_array(original_array, indices_to_insert, values_to_insert, indices_to_delete):\n",
        "    array_with_inserts = np.insert(original_array, indices_to_insert, values_to_insert)\n",
        "    final_array = np.delete(array_with_inserts, indices_to_delete)\n",
        "    return final_array\n",
        "\n",
        "original_array = np.array([1, 2, 3, 4, 5])\n",
        "indices_to_insert = [2, 4]\n",
        "values_to_insert = [10, 11]\n",
        "indices_to_delete = [1, 3]\n",
        "\n",
        "result = modify_array(original_array, indices_to_insert, values_to_insert, indices_to_delete)\n",
        "print(\"Final array:\", result)\n"
      ],
      "metadata": {
        "colab": {
          "base_uri": "https://localhost:8080/"
        },
        "id": "WJkjgXc83B1o",
        "outputId": "7948b346-d8a7-43f7-d757-007c54c5c105"
      },
      "execution_count": null,
      "outputs": [
        {
          "output_type": "stream",
          "name": "stdout",
          "text": [
            "Final array: [ 1 10  4 11  5]\n"
          ]
        }
      ]
    },
    {
      "cell_type": "markdown",
      "source": [
        "Question 51)"
      ],
      "metadata": {
        "id": "cH_sOP0Q3OE-"
      }
    },
    {
      "cell_type": "code",
      "source": [
        "arr1=np.array([1,5,7,3,8,9,4,6,3,2])\n",
        "arr2=np.arange(1,11)\n",
        "arr1+arr2"
      ],
      "metadata": {
        "colab": {
          "base_uri": "https://localhost:8080/"
        },
        "id": "Uoh7jv9F3XZ1",
        "outputId": "15db3a91-1bfe-4c5b-8472-c7e760667d16"
      },
      "execution_count": null,
      "outputs": [
        {
          "output_type": "execute_result",
          "data": {
            "text/plain": [
              "array([ 2,  7, 10,  7, 13, 15, 11, 14, 12, 12])"
            ]
          },
          "metadata": {},
          "execution_count": 30
        }
      ]
    },
    {
      "cell_type": "markdown",
      "source": [
        "Question 52)"
      ],
      "metadata": {
        "id": "7EUYoyJ2468q"
      }
    },
    {
      "cell_type": "code",
      "source": [
        "arr1=np.linspace(10,1,10,dtype=int)\n",
        "arr2=np.linspace(1,10,10,dtype=int)\n",
        "arr1-arr2"
      ],
      "metadata": {
        "colab": {
          "base_uri": "https://localhost:8080/"
        },
        "id": "498lcPbj49uA",
        "outputId": "09105965-d452-4cc2-8647-153159eca46a"
      },
      "execution_count": null,
      "outputs": [
        {
          "output_type": "execute_result",
          "data": {
            "text/plain": [
              "array([ 9,  7,  5,  3,  1, -1, -3, -5, -7, -9])"
            ]
          },
          "metadata": {},
          "execution_count": 36
        }
      ]
    },
    {
      "cell_type": "markdown",
      "source": [
        "Question 53)"
      ],
      "metadata": {
        "id": "CCXKu7_F66yr"
      }
    },
    {
      "cell_type": "code",
      "source": [
        "arr1=np.random.randint(0,100,size=5)\n",
        "arr2=np.linspace(1,5,5,dtype=int)\n",
        "arr1*arr2"
      ],
      "metadata": {
        "colab": {
          "base_uri": "https://localhost:8080/"
        },
        "id": "e--qL0pE653z",
        "outputId": "c424cdae-e0c3-45fd-c832-61bf4e7139b0"
      },
      "execution_count": null,
      "outputs": [
        {
          "output_type": "execute_result",
          "data": {
            "text/plain": [
              "array([ 91,  76, 213,  68, 290])"
            ]
          },
          "metadata": {},
          "execution_count": 42
        }
      ]
    },
    {
      "cell_type": "markdown",
      "source": [
        "Question 54)"
      ],
      "metadata": {
        "id": "LaiVAS3-38U2"
      }
    },
    {
      "cell_type": "code",
      "source": [
        "import numpy as np\n",
        "arr1=np.linspace(2,10,5,dtype=int)\n",
        "arr2=np.linspace(1,5,5,dtype=int)\n",
        "arr1/arr2"
      ],
      "metadata": {
        "colab": {
          "base_uri": "https://localhost:8080/"
        },
        "id": "9on80NTZ4KN8",
        "outputId": "de13dd72-2ad7-45d9-8db7-b0df9b385a6f"
      },
      "execution_count": null,
      "outputs": [
        {
          "output_type": "execute_result",
          "data": {
            "text/plain": [
              "array([2., 2., 2., 2., 2.])"
            ]
          },
          "metadata": {},
          "execution_count": 5
        }
      ]
    },
    {
      "cell_type": "markdown",
      "source": [
        "Question 55)"
      ],
      "metadata": {
        "id": "Jlp3pNSb5Vf8"
      }
    },
    {
      "cell_type": "code",
      "source": [
        "arr1=np.linspace(1,5,5,dtype=float)\n",
        "arr2=np.linspace(5,1,5,dtype=float)\n",
        "np.power(arr1,arr2)"
      ],
      "metadata": {
        "colab": {
          "base_uri": "https://localhost:8080/"
        },
        "id": "zlRQt7ft5hY0",
        "outputId": "2189a60d-b731-4446-d8e6-cd810e372e3a"
      },
      "execution_count": null,
      "outputs": [
        {
          "output_type": "execute_result",
          "data": {
            "text/plain": [
              "array([ 1., 16., 27., 16.,  5.])"
            ]
          },
          "metadata": {},
          "execution_count": 12
        }
      ]
    },
    {
      "cell_type": "markdown",
      "source": [
        "Question 56)"
      ],
      "metadata": {
        "id": "6wQPcgAZ7FDd"
      }
    },
    {
      "cell_type": "code",
      "source": [
        "arr = np.array(['hello', 'world', 'hello', 'numpy', 'hello'])\n",
        "def count(a):\n",
        "  cnt=0\n",
        "  for i in range(len(arr)):\n",
        "    if(arr[i]==a):\n",
        "      cnt=cnt+1\n",
        "  return cnt\n",
        "count('world')\n"
      ],
      "metadata": {
        "colab": {
          "base_uri": "https://localhost:8080/"
        },
        "id": "GE2wXwvX7IVX",
        "outputId": "4e4a7552-12ab-408c-eb8d-0c43649bd8f9"
      },
      "execution_count": null,
      "outputs": [
        {
          "output_type": "execute_result",
          "data": {
            "text/plain": [
              "1"
            ]
          },
          "metadata": {},
          "execution_count": 18
        }
      ]
    },
    {
      "cell_type": "markdown",
      "source": [
        "Question 57)"
      ],
      "metadata": {
        "id": "If7zVsvY8mr3"
      }
    },
    {
      "cell_type": "code",
      "source": [
        "import numpy as np\n",
        "\n",
        "arr = np.array(['Hello', 'World', 'OpenAI', 'GPT'])\n",
        "\n",
        "def extract(arr):\n",
        "    l = []  # Initialize the list to store uppercase characters\n",
        "    for i in arr:\n",
        "        for j in i:\n",
        "            if j.isupper():  # Use str.isupper() to check if a character is uppercase\n",
        "                l.append(j)\n",
        "    return l\n",
        "\n",
        "# Call the function\n",
        "result = extract(arr)\n",
        "print(result)\n",
        "\n"
      ],
      "metadata": {
        "colab": {
          "base_uri": "https://localhost:8080/"
        },
        "id": "Kw5WhZ4X8pdB",
        "outputId": "a66f60fe-0fdf-43c2-b079-caf2a9de0bf2"
      },
      "execution_count": null,
      "outputs": [
        {
          "output_type": "stream",
          "name": "stdout",
          "text": [
            "['H', 'W', 'O', 'A', 'I', 'G', 'P', 'T']\n"
          ]
        }
      ]
    },
    {
      "cell_type": "markdown",
      "source": [
        "Question 59)"
      ],
      "metadata": {
        "id": "4c0AUIlaFBKA"
      }
    },
    {
      "cell_type": "code",
      "source": [
        "arr1 = np.array(['Hello', 'World'])\n",
        "arr2 = np.array(['Open', 'AI'])\n",
        "l=\"\"\n",
        "for i in range(len(arr1)):\n",
        "  l=l+arr1[i]+\" \"\n",
        "  l=l+arr2[i]+\" \"\n",
        "print(l)"
      ],
      "metadata": {
        "colab": {
          "base_uri": "https://localhost:8080/"
        },
        "id": "ZaSIlOTEFD9t",
        "outputId": "fcc0354f-3786-4051-edf9-2140a54f68a5"
      },
      "execution_count": null,
      "outputs": [
        {
          "output_type": "stream",
          "name": "stdout",
          "text": [
            "Hello Open World AI \n"
          ]
        }
      ]
    },
    {
      "cell_type": "markdown",
      "source": [
        "Question 60)"
      ],
      "metadata": {
        "id": "7AdKMTuYLL9-"
      }
    },
    {
      "cell_type": "code",
      "source": [
        "arr = np.array(['apple', 'banana', 'grape', 'pineapple'])\n",
        "s=\"\"\n",
        "for i in arr:\n",
        "  if len(i)>=len(s):\n",
        "    s=i\n",
        "print(i)"
      ],
      "metadata": {
        "colab": {
          "base_uri": "https://localhost:8080/"
        },
        "id": "zpHHijWhLNyE",
        "outputId": "7103588d-c302-43c6-cb9a-d171cba30e70"
      },
      "execution_count": null,
      "outputs": [
        {
          "output_type": "stream",
          "name": "stdout",
          "text": [
            "pineapple\n"
          ]
        }
      ]
    },
    {
      "cell_type": "markdown",
      "source": [
        "Question 61)"
      ],
      "metadata": {
        "id": "ZX4VuL4PLnfD"
      }
    },
    {
      "cell_type": "code",
      "source": [
        "import numpy as np\n",
        "import pandas as pd\n",
        "arr1=np.random.randint(1,1000,size=100)\n",
        "df=pd.DataFrame(arr1)"
      ],
      "metadata": {
        "id": "6YNxT7doLrXv"
      },
      "execution_count": null,
      "outputs": []
    },
    {
      "cell_type": "code",
      "source": [
        "df.describe()"
      ],
      "metadata": {
        "colab": {
          "base_uri": "https://localhost:8080/",
          "height": 597
        },
        "id": "lqRhX6_NsISi",
        "outputId": "e00d0876-09d1-4977-abba-3f6dbe4edf0c"
      },
      "execution_count": null,
      "outputs": [
        {
          "output_type": "execute_result",
          "data": {
            "text/plain": [
              "                0\n",
              "count  100.000000\n",
              "mean   540.960000\n",
              "std    289.403633\n",
              "min      3.000000\n",
              "25%    287.750000\n",
              "50%    528.000000\n",
              "75%    819.250000\n",
              "max    990.000000"
            ],
            "text/html": [
              "\n",
              "  <div id=\"df-79c00089-ca43-471f-b5d7-c0aab7b1c294\" class=\"colab-df-container\">\n",
              "    <div>\n",
              "<style scoped>\n",
              "    .dataframe tbody tr th:only-of-type {\n",
              "        vertical-align: middle;\n",
              "    }\n",
              "\n",
              "    .dataframe tbody tr th {\n",
              "        vertical-align: top;\n",
              "    }\n",
              "\n",
              "    .dataframe thead th {\n",
              "        text-align: right;\n",
              "    }\n",
              "</style>\n",
              "<table border=\"1\" class=\"dataframe\">\n",
              "  <thead>\n",
              "    <tr style=\"text-align: right;\">\n",
              "      <th></th>\n",
              "      <th>0</th>\n",
              "    </tr>\n",
              "  </thead>\n",
              "  <tbody>\n",
              "    <tr>\n",
              "      <th>count</th>\n",
              "      <td>100.000000</td>\n",
              "    </tr>\n",
              "    <tr>\n",
              "      <th>mean</th>\n",
              "      <td>540.960000</td>\n",
              "    </tr>\n",
              "    <tr>\n",
              "      <th>std</th>\n",
              "      <td>289.403633</td>\n",
              "    </tr>\n",
              "    <tr>\n",
              "      <th>min</th>\n",
              "      <td>3.000000</td>\n",
              "    </tr>\n",
              "    <tr>\n",
              "      <th>25%</th>\n",
              "      <td>287.750000</td>\n",
              "    </tr>\n",
              "    <tr>\n",
              "      <th>50%</th>\n",
              "      <td>528.000000</td>\n",
              "    </tr>\n",
              "    <tr>\n",
              "      <th>75%</th>\n",
              "      <td>819.250000</td>\n",
              "    </tr>\n",
              "    <tr>\n",
              "      <th>max</th>\n",
              "      <td>990.000000</td>\n",
              "    </tr>\n",
              "  </tbody>\n",
              "</table>\n",
              "</div>\n",
              "    <div class=\"colab-df-buttons\">\n",
              "\n",
              "  <div class=\"colab-df-container\">\n",
              "    <button class=\"colab-df-convert\" onclick=\"convertToInteractive('df-79c00089-ca43-471f-b5d7-c0aab7b1c294')\"\n",
              "            title=\"Convert this dataframe to an interactive table.\"\n",
              "            style=\"display:none;\">\n",
              "\n",
              "  <svg xmlns=\"http://www.w3.org/2000/svg\" height=\"24px\" viewBox=\"0 -960 960 960\">\n",
              "    <path d=\"M120-120v-720h720v720H120Zm60-500h600v-160H180v160Zm220 220h160v-160H400v160Zm0 220h160v-160H400v160ZM180-400h160v-160H180v160Zm440 0h160v-160H620v160ZM180-180h160v-160H180v160Zm440 0h160v-160H620v160Z\"/>\n",
              "  </svg>\n",
              "    </button>\n",
              "\n",
              "  <style>\n",
              "    .colab-df-container {\n",
              "      display:flex;\n",
              "      gap: 12px;\n",
              "    }\n",
              "\n",
              "    .colab-df-convert {\n",
              "      background-color: #E8F0FE;\n",
              "      border: none;\n",
              "      border-radius: 50%;\n",
              "      cursor: pointer;\n",
              "      display: none;\n",
              "      fill: #1967D2;\n",
              "      height: 32px;\n",
              "      padding: 0 0 0 0;\n",
              "      width: 32px;\n",
              "    }\n",
              "\n",
              "    .colab-df-convert:hover {\n",
              "      background-color: #E2EBFA;\n",
              "      box-shadow: 0px 1px 2px rgba(60, 64, 67, 0.3), 0px 1px 3px 1px rgba(60, 64, 67, 0.15);\n",
              "      fill: #174EA6;\n",
              "    }\n",
              "\n",
              "    .colab-df-buttons div {\n",
              "      margin-bottom: 4px;\n",
              "    }\n",
              "\n",
              "    [theme=dark] .colab-df-convert {\n",
              "      background-color: #3B4455;\n",
              "      fill: #D2E3FC;\n",
              "    }\n",
              "\n",
              "    [theme=dark] .colab-df-convert:hover {\n",
              "      background-color: #434B5C;\n",
              "      box-shadow: 0px 1px 3px 1px rgba(0, 0, 0, 0.15);\n",
              "      filter: drop-shadow(0px 1px 2px rgba(0, 0, 0, 0.3));\n",
              "      fill: #FFFFFF;\n",
              "    }\n",
              "  </style>\n",
              "\n",
              "    <script>\n",
              "      const buttonEl =\n",
              "        document.querySelector('#df-79c00089-ca43-471f-b5d7-c0aab7b1c294 button.colab-df-convert');\n",
              "      buttonEl.style.display =\n",
              "        google.colab.kernel.accessAllowed ? 'block' : 'none';\n",
              "\n",
              "      async function convertToInteractive(key) {\n",
              "        const element = document.querySelector('#df-79c00089-ca43-471f-b5d7-c0aab7b1c294');\n",
              "        const dataTable =\n",
              "          await google.colab.kernel.invokeFunction('convertToInteractive',\n",
              "                                                    [key], {});\n",
              "        if (!dataTable) return;\n",
              "\n",
              "        const docLinkHtml = 'Like what you see? Visit the ' +\n",
              "          '<a target=\"_blank\" href=https://colab.research.google.com/notebooks/data_table.ipynb>data table notebook</a>'\n",
              "          + ' to learn more about interactive tables.';\n",
              "        element.innerHTML = '';\n",
              "        dataTable['output_type'] = 'display_data';\n",
              "        await google.colab.output.renderOutput(dataTable, element);\n",
              "        const docLink = document.createElement('div');\n",
              "        docLink.innerHTML = docLinkHtml;\n",
              "        element.appendChild(docLink);\n",
              "      }\n",
              "    </script>\n",
              "  </div>\n",
              "\n",
              "\n",
              "<div id=\"df-dc3ebca2-4d70-4be7-a737-dc52a633d430\">\n",
              "  <button class=\"colab-df-quickchart\" onclick=\"quickchart('df-dc3ebca2-4d70-4be7-a737-dc52a633d430')\"\n",
              "            title=\"Suggest charts\"\n",
              "            style=\"display:none;\">\n",
              "\n",
              "<svg xmlns=\"http://www.w3.org/2000/svg\" height=\"24px\"viewBox=\"0 0 24 24\"\n",
              "     width=\"24px\">\n",
              "    <g>\n",
              "        <path d=\"M19 3H5c-1.1 0-2 .9-2 2v14c0 1.1.9 2 2 2h14c1.1 0 2-.9 2-2V5c0-1.1-.9-2-2-2zM9 17H7v-7h2v7zm4 0h-2V7h2v10zm4 0h-2v-4h2v4z\"/>\n",
              "    </g>\n",
              "</svg>\n",
              "  </button>\n",
              "\n",
              "<style>\n",
              "  .colab-df-quickchart {\n",
              "      --bg-color: #E8F0FE;\n",
              "      --fill-color: #1967D2;\n",
              "      --hover-bg-color: #E2EBFA;\n",
              "      --hover-fill-color: #174EA6;\n",
              "      --disabled-fill-color: #AAA;\n",
              "      --disabled-bg-color: #DDD;\n",
              "  }\n",
              "\n",
              "  [theme=dark] .colab-df-quickchart {\n",
              "      --bg-color: #3B4455;\n",
              "      --fill-color: #D2E3FC;\n",
              "      --hover-bg-color: #434B5C;\n",
              "      --hover-fill-color: #FFFFFF;\n",
              "      --disabled-bg-color: #3B4455;\n",
              "      --disabled-fill-color: #666;\n",
              "  }\n",
              "\n",
              "  .colab-df-quickchart {\n",
              "    background-color: var(--bg-color);\n",
              "    border: none;\n",
              "    border-radius: 50%;\n",
              "    cursor: pointer;\n",
              "    display: none;\n",
              "    fill: var(--fill-color);\n",
              "    height: 32px;\n",
              "    padding: 0;\n",
              "    width: 32px;\n",
              "  }\n",
              "\n",
              "  .colab-df-quickchart:hover {\n",
              "    background-color: var(--hover-bg-color);\n",
              "    box-shadow: 0 1px 2px rgba(60, 64, 67, 0.3), 0 1px 3px 1px rgba(60, 64, 67, 0.15);\n",
              "    fill: var(--button-hover-fill-color);\n",
              "  }\n",
              "\n",
              "  .colab-df-quickchart-complete:disabled,\n",
              "  .colab-df-quickchart-complete:disabled:hover {\n",
              "    background-color: var(--disabled-bg-color);\n",
              "    fill: var(--disabled-fill-color);\n",
              "    box-shadow: none;\n",
              "  }\n",
              "\n",
              "  .colab-df-spinner {\n",
              "    border: 2px solid var(--fill-color);\n",
              "    border-color: transparent;\n",
              "    border-bottom-color: var(--fill-color);\n",
              "    animation:\n",
              "      spin 1s steps(1) infinite;\n",
              "  }\n",
              "\n",
              "  @keyframes spin {\n",
              "    0% {\n",
              "      border-color: transparent;\n",
              "      border-bottom-color: var(--fill-color);\n",
              "      border-left-color: var(--fill-color);\n",
              "    }\n",
              "    20% {\n",
              "      border-color: transparent;\n",
              "      border-left-color: var(--fill-color);\n",
              "      border-top-color: var(--fill-color);\n",
              "    }\n",
              "    30% {\n",
              "      border-color: transparent;\n",
              "      border-left-color: var(--fill-color);\n",
              "      border-top-color: var(--fill-color);\n",
              "      border-right-color: var(--fill-color);\n",
              "    }\n",
              "    40% {\n",
              "      border-color: transparent;\n",
              "      border-right-color: var(--fill-color);\n",
              "      border-top-color: var(--fill-color);\n",
              "    }\n",
              "    60% {\n",
              "      border-color: transparent;\n",
              "      border-right-color: var(--fill-color);\n",
              "    }\n",
              "    80% {\n",
              "      border-color: transparent;\n",
              "      border-right-color: var(--fill-color);\n",
              "      border-bottom-color: var(--fill-color);\n",
              "    }\n",
              "    90% {\n",
              "      border-color: transparent;\n",
              "      border-bottom-color: var(--fill-color);\n",
              "    }\n",
              "  }\n",
              "</style>\n",
              "\n",
              "  <script>\n",
              "    async function quickchart(key) {\n",
              "      const quickchartButtonEl =\n",
              "        document.querySelector('#' + key + ' button');\n",
              "      quickchartButtonEl.disabled = true;  // To prevent multiple clicks.\n",
              "      quickchartButtonEl.classList.add('colab-df-spinner');\n",
              "      try {\n",
              "        const charts = await google.colab.kernel.invokeFunction(\n",
              "            'suggestCharts', [key], {});\n",
              "      } catch (error) {\n",
              "        console.error('Error during call to suggestCharts:', error);\n",
              "      }\n",
              "      quickchartButtonEl.classList.remove('colab-df-spinner');\n",
              "      quickchartButtonEl.classList.add('colab-df-quickchart-complete');\n",
              "    }\n",
              "    (() => {\n",
              "      let quickchartButtonEl =\n",
              "        document.querySelector('#df-dc3ebca2-4d70-4be7-a737-dc52a633d430 button');\n",
              "      quickchartButtonEl.style.display =\n",
              "        google.colab.kernel.accessAllowed ? 'block' : 'none';\n",
              "    })();\n",
              "  </script>\n",
              "</div>\n",
              "\n",
              "    </div>\n",
              "  </div>\n"
            ],
            "application/vnd.google.colaboratory.intrinsic+json": {
              "type": "dataframe",
              "summary": "{\n  \"name\": \"df\",\n  \"rows\": 8,\n  \"fields\": [\n    {\n      \"column\": 0,\n      \"properties\": {\n        \"dtype\": \"number\",\n        \"std\": 341.53264666884513,\n        \"min\": 3.0,\n        \"max\": 990.0,\n        \"num_unique_values\": 8,\n        \"samples\": [\n          540.96,\n          528.0,\n          100.0\n        ],\n        \"semantic_type\": \"\",\n        \"description\": \"\"\n      }\n    }\n  ]\n}"
            }
          },
          "metadata": {},
          "execution_count": 7
        },
        {
          "output_type": "display_data",
          "data": {
            "text/plain": [
              "<google.colab._quickchart_helpers.SectionTitle at 0x7b0b26670310>"
            ],
            "text/html": [
              "<h4 class=\"colab-quickchart-section-title\">Distributions</h4>\n",
              "<style>\n",
              "  .colab-quickchart-section-title {\n",
              "      clear: both;\n",
              "  }\n",
              "</style>"
            ]
          },
          "metadata": {}
        },
        {
          "output_type": "display_data",
          "data": {
            "text/plain": [
              "from matplotlib import pyplot as plt\n",
              "_df_0[0].plot(kind='hist', bins=20, title=0)\n",
              "plt.gca().spines[['top', 'right',]].set_visible(False)"
            ],
            "text/html": [
              "      <div class=\"colab-quickchart-chart-with-code\" id=\"chart-ed31db5e-b2fc-481b-827f-d661ea66ac4a\">\n",
              "        <img style=\"width: 180px;\" src=\"data:image/png;base64,iVBORw0KGgoAAAANSUhEUgAAAjEAAAGZCAYAAAB4yGDqAAAAOXRFWHRTb2Z0d2FyZQBNYXRwbG90\n",
              "bGliIHZlcnNpb24zLjguMCwgaHR0cHM6Ly9tYXRwbG90bGliLm9yZy81sbWrAAAACXBIWXMAAA9h\n",
              "AAAPYQGoP6dpAAAi0klEQVR4nO3de3BU5eH/8c+S2BUtCQRIE12SFHKhXEyykEwKFnUchmg10EBH\n",
              "rDgSzAUtQ504g80gVbAaOiOMtDNMgmSolhbEEGwGio54a6hIghhUqEAiSwJNSEfbJFCIuZzvH/zc\n",
              "uj9yYdM9SR55v2bODHvOs2efPVnX9+ye5Dgsy7IEAABgmGGDPQEAAID+IGIAAICRiBgAAGAkIgYA\n",
              "ABiJiAEAAEYiYgAAgJGIGAAAYCQiBgAAGImIAQAARvrWR8yGDRsGewoAAMAG3/qIOX369GBPAQAA\n",
              "2OBbHzEAAODbiYgBAABGImIAAICRiBgAAGAkIgYAABiJiAEAAEYiYgAAgJGIGAAAYCQiBgAAGImI\n",
              "AQAARiJiAACAkYgYAABgJNsi5tKlS5o3b57i4+OVmJio2bNnq6amptuxu3fv1sSJExUXF6fMzEy1\n",
              "tLRc1TYAAHDtsvWTmNzcXB0/flxHjhzR3LlzlZ2dfcWY8+fP6+GHH9Zrr72mkydP6qabbtIzzzzT\n",
              "5zYAAHBtsy1irr/+et19991yOBySpLS0NHk8nivG7d27V8nJyZo4caIk6dFHH9W2bdv63NadtrY2\n",
              "tbS0+CydnZ0BfmYAAGAoCB6oB9qwYYPmzp17xfq6ujpFR0d7b8fExKihoUEdHR29bgsOvnLqhYWF\n",
              "Wr16tc+6tLS0AD4LfJvE/HKPbfv2rP2xbfvGf9n1M+TnB5hhQE7sfe6551RTU6PCwkJbH6egoEDN\n",
              "zc0+S2pqqq2PCQAABoftEfP888+rrKxMe/fu1Q033HDF9qioKJ0+fdp72+PxKDIyUsHBwb1u647T\n",
              "6VRISIjPEhQUFPgnBQAABp2tEbN+/Xpt27ZNb775pkaOHNntmPT0dB0+fFifffaZJGnjxo1auHBh\n",
              "n9sAAMC1zbZzYs6cOaPHH39c48eP1x133CHp8iclBw8e1K9+9SvddNNNWrp0qUaMGKHNmzdr3rx5\n",
              "6ujo0JQpU/TSSy9JUq/bAADAtc22iHG5XLIsq9tta9as8bmdkZGhjIyMbsf2tg0AAFy7+Iu9AADA\n",
              "SEQMAAAwEhEDAACMRMQAAAAjETEAAMBIRAwAADASEQMAAIxExAAAACMRMQAAwEhEDAAAMBIRAwAA\n",
              "jETEAAAAIxExAADASEQMAAAwEhEDAACMRMQAAAAjETEAAMBIRAwAADASEQMAAIxExAAAACMRMQAA\n",
              "wEhEDAAAMBIRAwAAjETEAAAAIxExAADASEQMAAAwEhEDAACMRMQAAAAjETEAAMBIRAwAADASEQMA\n",
              "AIxExAAAACMRMQAAwEhEDAAAMBIRAwAAjGRrxCxfvlwxMTFyOByqrq7udsyWLVuUlJTkXcaMGaPM\n",
              "zExJksfjUVBQkM/22tpaO6cMAAAMEWznzhcsWKAVK1bo1ltv7XFMVlaWsrKyvLenTJmiBx54wHt7\n",
              "xIgRPQYQAAC4dtkaMbNmzfJr/MGDB9XU1KSMjIx+PV5bW5va2tp81nV2dvZrXwAAYGgbUufElJSU\n",
              "6MEHH9R1113nXXfhwgWlpKTI7XZrzZo1vUZJYWGhQkNDfZbKysqBmDoAABhgQyZiLly4oO3bt+vh\n",
              "hx/2rouMjNTZs2dVVVWlffv2qaKiQuvWretxHwUFBWpubvZZUlNTB2L6AABggA2ZiHn11Vc1efJk\n",
              "TZo0ybvO6XQqPDxckhQWFqYlS5aooqKix304nU6FhIT4LEFBQbbPHQAADLwhEzElJSU+n8JIUlNT\n",
              "k9rb2yVdPt+lrKxMycnJgzE9AAAwxNgaMXl5eXK5XDpz5ozmzJmj2NhYSVJ2drbKy8u9444fP67q\n",
              "6mrdd999Pvffv3+/kpOTlZiYKLfbrYiICK1cudLOKQMAAEPY+ttJxcXF3a7fvHmzz+2EhAS1trZe\n",
              "MS4zM9P7N2MAAAC+ach8nQQAAOAPIgYAABiJiAEAAEYiYgAAgJGIGAAAYCQiBgAAGImIAQAARiJi\n",
              "AACAkYgYAABgJCIGAAAYiYgBAABGImIAAICRiBgAAGAkIgYAABiJiAEAAEYiYgAAgJGIGAAAYCQi\n",
              "BgAAGImIAQAARiJiAACAkYgYAABgJCIGAAAYiYgBAABGImIAAICRiBgAAGAkIgYAABiJiAEAAEYi\n",
              "YgAAgJGIGAAAYCQiBgAAGImIAQAARiJiAACAkYgYAABgJCIGAAAYiYgBAABGsjVili9frpiYGDkc\n",
              "DlVXV3c75t1339Xw4cOVlJTkXS5evOjdXlJSori4OE2YMEE5OTlqb2+3c8oAAMAQtkbMggULtH//\n",
              "fkVHR/c6LiEhQdXV1d5l+PDhkqRTp05p1apVqqioUE1Njc6dO6dNmzbZOWUAAGAIWyNm1qxZcrlc\n",
              "/b5/aWmpMjIyFBERIYfDoaVLl2rbtm09jm9ra1NLS4vP0tnZ2e/HBwAAQ9eQOCemtrZWbrdbKSkp\n",
              "2rhxo3d9XV2dz6c4MTExqqur63E/hYWFCg0N9VkqKyttnTsAABgcgx4xbrdbZ86c0eHDh7Vr1y4V\n",
              "FRVpx44d/dpXQUGBmpubfZbU1NQAzxgAAAwFgx4xISEhCg0NlSS5XC7df//9qqiokCRFRUXp9OnT\n",
              "3rEej0dRUVE97svpdCokJMRnCQoKsvcJAACAQTHoEdPQ0KCuri5JUmtrq3bv3q3k5GRJ0vz581Ve\n",
              "Xq7GxkZZlqWioiItXLhwMKcLAACGCFsjJi8vTy6XS2fOnNGcOXMUGxsrScrOzlZ5ebkkaefOnZo6\n",
              "daoSExOVlpam2bNnKysrS5I0fvx4rV69WjNnzlRsbKzGjh2rvLw8O6cMAAAM4bAsyxrsSdgpPz9f\n",
              "69evH+xpYAiK+eUe2/btWftj2/aN/7LrZ8jPDzDDoH+dBAAA0B9EDAAAMBIRAwAAjETEAAAAIxEx\n",
              "AADASEQMAAAwEhEDAACMRMQAAAAjETEAAMBIRAwAADASEQMAAIxExAAAACMRMQAAwEhEDAAAMBIR\n",
              "AwAAjETEAAAAIxExAADASEQMAAAwEhEDAACMRMQAAAAjETEAAMBIRAwAADASEQMAAIxExAAAACMR\n",
              "MQAAwEhEDAAAMBIRAwAAjETEAAAAIxExAADASEQMAAAwEhEDAACMRMQAAAAjETEAAMBIRAwAADAS\n",
              "EQMAAIxka8QsX75cMTExcjgcqq6u7nbM22+/rdTUVE2aNEmTJ0/WihUr1NXVJUnyeDwKCgpSUlKS\n",
              "d6mtrbVzygAAwBC2RsyCBQu0f/9+RUdH9zhm1KhR2r59u44dO6YPP/xQ77//vl5++WXv9hEjRqi6\n",
              "utq7TJgwwc4pAwAAQwTbufNZs2b1OSY5Odn77+uvv15JSUnyeDz9ery2tja1tbX5rOvs7OzXvgAA\n",
              "wNA2pM6JaWxsVGlpqe655x7vugsXLiglJUVut1tr1qzpNUoKCwsVGhrqs1RWVg7E1AEAwAAbMhHT\n",
              "0tKie++9VytWrND06dMlSZGRkTp79qyqqqq0b98+VVRUaN26dT3uo6CgQM3NzT5LamrqQD0FAAAw\n",
              "gIZExLS2tio9PV1z585Vfn6+d73T6VR4eLgkKSwsTEuWLFFFRUWP+3E6nQoJCfFZgoKCbJ8/AAAY\n",
              "eIMeMefPn1d6errS09P15JNP+mxrampSe3u7pMvnu5SVlfmcQwMAAK5dtkZMXl6eXC6Xzpw5ozlz\n",
              "5ig2NlaSlJ2drfLycknShg0bVFlZqbKyMu+vUT/77LOSpP379ys5OVmJiYlyu92KiIjQypUr7Zwy\n",
              "AAAwhMOyLGuwJ2Gn/Px8rV+/frCngSEo5pd7bNu3Z+2Pbds3/suunyE/P8AMg/51EgAAQH8QMQAA\n",
              "wEhEDAAAMBIRAwAAjOR3xLzxxht2zAMAAMAvfkfMmjVrlJCQoA0bNqilpcWOOQEAAPTJ74j529/+\n",
              "pu3bt+vTTz9VfHy8Hn30UR07dsyOuQEAAPSoX+fEJCcn68UXX9Trr7+u3bt365ZbbtHs2bP1ySef\n",
              "BHp+AAAA3epXxOzbt09z585VZmamfv7zn6uxsVF5eXn6yU9+Euj5AQAAdCvY3zv84Ac/0JgxY7R8\n",
              "+XJlZmZ6L7C4YMEClZSUBHyCAAAA3fE7YrZu3app06Z1u23v3r3/84QAAACuht9fJ3344Yf68ssv\n",
              "vbe/+OILvfjiiwGdFAAAQF/8jpiNGzcqLCzMe3v06NHauHFjQCcFAADQF78jpruLXnd2dgZkMgAA\n",
              "AFfL74iJjIzUjh07vLdfeeUVRUZGBnRSAAAAffH7xN4XXnhBc+fO1YoVKyRJN9xwg/785z8HfGIA\n",
              "AAC98TtiJk6cqGPHjun48eOSpISEBO+vWQMAAAwUvyNGkhwOh0aOHKmOjg6dPXtWkhQVFRXQiQEA\n",
              "APTG74j5/e9/r+XLl+u6667TsGGXT6lxOBxqamoK+OQAAAB64nfEPPPMM6qqqlJCQoId8wEAALgq\n",
              "fv920pgxYwgYAAAw6PyOmHnz5umFF15QU1OTWlpavAsAAMBA8vvrpJUrV0qS8vPz5XA4ZFmWHA4H\n",
              "f/AOAAAMKL8jpqury455AAAA+MXvr5OkyxeB/MMf/iBJ+ve//62GhoaATgoAAKAv/boA5JIlS/T0\n",
              "009LunwV65/97GeBnhcAAECv/I6YTZs26YMPPlBISIgkacKECfrnP/8Z8IkBAAD0xu+IcTqdGj58\n",
              "uM+64OB+/eFfAACAfvM7YsaOHasTJ07I4XBIuvwXfLnkAAAAGGj9uor1/fffr88++0zjxo1TSEiI\n",
              "du/ebcfcAAAAeuR3xMTGxurgwYM6fvy4LMviKtYAAGBQ+B0xdXV1kqQbb7xRkriKNQAAGBR+R8y0\n",
              "adO8f6n30qVL+s9//qPRo0dzFWsAADCg/I6Y///XqcvKynTkyJGATQgAAOBq9Osv9n5TZmam9uzZ\n",
              "E4i5AAAAXDW/I+abV67+17/+pddff73Hq1gvX75cMTExcjgcqq6u7nGfJSUliouL04QJE5STk6P2\n",
              "9var2gYAAK5dfkfMyJEjNWrUKI0cOVLh4eHKz8/Xb3/7227HLliwQPv371d0dHSP+zt16pRWrVql\n",
              "iooK1dTU6Ny5c9q0aVOf2wAAwLXN74jp6upSZ2enurq61N7ermPHjik9Pb3bsbNmzZLL5ep1f6Wl\n",
              "pcrIyFBERIQcDoeWLl2qbdu29bmtO21tbT6fFLW0tKizs9PfpwgAAAww6NcLqKur8/mkJiYmxvtr\n",
              "3L1t605hYaFWr17tsy4tLS3AM/5/c/mleecBedb+eLCnAAADws73aBPfS+06HoN9LPz+JGbYsGEK\n",
              "Cgq6Yvl6/WAqKChQc3Ozz5KamjqocwIAAPbw+5OYNWvW6OLFi3rkkUckSUVFRRo+fLgee+yxfk0g\n",
              "KipKtbW13tsej8f7h/N629Ydp9Mpp9Pps26wwwoAANjD709idu3apWeffVYul0sul0u//vWvVVZW\n",
              "phtvvNH7V3z9MX/+fJWXl6uxsVGWZamoqEgLFy7scxsAALi2+R0xra2tPn+dt6mpSa2trd2OzcvL\n",
              "k8vl0pkzZzRnzhzFxsZKkrKzs1VeXi5JGj9+vFavXq2ZM2cqNjZWY8eOVV5eXp/bAADAtc3vr5Me\n",
              "f/xxJSYm6u6775Ykvf7663r66ae7HVtcXNzt+s2bN/vczsnJUU5OTrdje9sGAACuXX5HTF5enmbO\n",
              "nKl33nlHkpSfn6/JkycHfGIAAAC96devWI8ePVpTp07V7bffro6ODn311Vf6zne+E+i5AQAA9Mjv\n",
              "c2JKS0uVlpamrKwsSdLRo0c1b968QM8LAACgV35HTGFhoQ4fPqyRI0dKkhITE3X69OlAzwsAAKBX\n",
              "fkdMUFCQRo8e7bOOr5IAAMBA8ztiRowYoXPnzsnhcEiS3nrrLYWFhQV8YgAAAL3x+8Te3/zmN7rr\n",
              "rrv0+eef69Zbb9WpU6e0Z4951xECAABm8ytivr6C9TvvvKP3339flmVpxowZ3vNjAAAABopfETNs\n",
              "2DDl5ubqyJEjuuuuu+yaEwAAQJ/8PicmLi5ONTU1dswFAADgqvl9TsyXX36ppKQkzZgxQ9/97ne9\n",
              "68vKygI6MQAAgN5cdcTk5uZq06ZNeuihh5SRkaFRo0bZOS8AAIBeXXXEHDp0SJL00EMPye126/Dh\n",
              "w7ZNCgAAoC9+nxMjSZZlBXoeAAAAfrnqT2IuXryoTz75RJZl6dKlS95/f+2WW26xZYIAAADd8Sti\n",
              "MjIyvLe/+W+Hw6HPP/88sDMDAADoxVVHjMfjsXEaAAAA/unXOTEAAACDjYgBAABGImIAAICRiBgA\n",
              "AGAkIgYAABiJiAEAAEYiYgAAgJGIGAAAYCQiBgAAGImIAQAARiJiAACAkYgYAABgJCIGAAAYiYgB\n",
              "AABGImIAAICRiBgAAGAkIgYAABiJiAEAAEayNWJOnjypGTNmKD4+XikpKTp69OgVY7Zs2aKkpCTv\n",
              "MmbMGGVmZkqSPB6PgoKCfLbX1tbaOWUAAGCIYDt3npeXp9zcXC1evFilpaVavHixqqqqfMZkZWUp\n",
              "KyvLe3vKlCl64IEHvLdHjBih6upqO6cJAAAMZNsnMU1NTTp06JAWLVokSZo/f77q6+tVU1PT430O\n",
              "HjyopqYmZWRk9Osx29ra1NLS4rN0dnb2a18AAGBosy1i6uvrFRkZqeDgyx/2OBwORUVFqa6ursf7\n",
              "lJSU6MEHH9R1113nXXfhwgWlpKTI7XZrzZo1vUZJYWGhQkNDfZbKysrAPSkAADBkDJkTey9cuKDt\n",
              "27fr4Ycf9q6LjIzU2bNnVVVVpX379qmiokLr1q3rcR8FBQVqbm72WVJTUwdi+gAAYIDZFjHjxo1T\n",
              "Q0ODOjo6JEmWZamurk5RUVHdjn/11Vc1efJkTZo0ybvO6XQqPDxckhQWFqYlS5aooqKix8d0Op0K\n",
              "CQnxWYKCggL4rAAAwFBhW8SEh4fL7XZr69atkqSdO3fK5XIpNja22/ElJSU+n8JIl8+raW9vl3T5\n",
              "fJeysjIlJyfbNWUAAGAQW79OKi4uVnFxseLj47V27Vpt2bJFkpSdna3y8nLvuOPHj6u6ulr33Xef\n",
              "z/3379+v5ORkJSYmyu12KyIiQitXrrRzygAAwBC2/op1QkKCDhw4cMX6zZs3XzGutbX1inGZmZne\n",
              "vxkDAADwTUPmxF4AAAB/EDEAAMBIRAwAADASEQMAAIxExAAAACMRMQAAwEhEDAAAMBIRAwAAjETE\n",
              "AAAAIxExAADASEQMAAAwEhEDAACMRMQAAAAjETEAAMBIRAwAADASEQMAAIxExAAAACMRMQAAwEhE\n",
              "DAAAMBIRAwAAjETEAAAAIxExAADASEQMAAAwEhEDAACMRMQAAAAjETEAAMBIRAwAADASEQMAAIxE\n",
              "xAAAACMRMQAAwEhEDAAAMBIRAwAAjETEAAAAIxExAADASEQMAAAwkq0Rc/LkSc2YMUPx8fFKSUnR\n",
              "0aNHrxjz7rvvavjw4UpKSvIuFy9e9G4vKSlRXFycJkyYoJycHLW3t9s5ZQAAYAhbIyYvL0+5ubk6\n",
              "ceKEnnjiCS1evLjbcQkJCaqurvYuw4cPlySdOnVKq1atUkVFhWpqanTu3Dlt2rTJzikDAABD2BYx\n",
              "TU1NOnTokBYtWiRJmj9/vurr61VTU3PV+ygtLVVGRoYiIiLkcDi0dOlSbdu2rcfxbW1tamlp8Vk6\n",
              "Ozv/5+cCAACGHtsipr6+XpGRkQoODpYkORwORUVFqa6u7oqxtbW1crvdSklJ0caNG73r6+rqFB0d\n",
              "7b0dExPT7f2/VlhYqNDQUJ+lsrIygM8KAAAMFYN+Yq/b7daZM2d0+PBh7dq1S0VFRdqxY0e/9lVQ\n",
              "UKDm5mafJTU1NcAzBgAAQ4FtETNu3Dg1NDSoo6NDkmRZlurq6hQVFeUzLiQkRKGhoZIkl8ul+++/\n",
              "XxUVFZKkqKgonT592jvW4/Fccf9vcjqdCgkJ8VmCgoIC/dQAAMAQYFvEhIeHy+12a+vWrZKknTt3\n",
              "yuVyKTY21mdcQ0ODurq6JEmtra3avXu3kpOTJV0+j6a8vFyNjY2yLEtFRUVauHChXVMGAAAGsfXr\n",
              "pOLiYhUXFys+Pl5r167Vli1bJEnZ2dkqLy+XdDlupk6dqsTERKWlpWn27NnKysqSJI0fP16rV6/W\n",
              "zJkzFRsbq7FjxyovL8/OKQMAAEME27nzhIQEHThw4Ir1mzdv9v572bJlWrZsWY/7yMnJUU5Oji3z\n",
              "AwAA5hr0E3sBAAD6g4gBAABGImIAAICRiBgAAGAkIgYAABiJiAEAAEYiYgAAgJGIGAAAYCQiBgAA\n",
              "GImIAQAARiJiAACAkYgYAABgJCIGAAAYiYgBAABGImIAAICRiBgAAGAkIgYAABiJiAEAAEYiYgAA\n",
              "gJGIGAAAYCQiBgAAGImIAQAARiJiAACAkYgYAABgJCIGAAAYiYgBAABGImIAAICRiBgAAGAkIgYA\n",
              "ABiJiAEAAEYiYgAAgJGIGAAAYCQiBgAAGImIAQAARiJiAACAkWyNmJMnT2rGjBmKj49XSkqKjh49\n",
              "esWYt99+W6mpqZo0aZImT56sFStWqKurS5Lk8XgUFBSkpKQk71JbW2vnlAEAgCFsjZi8vDzl5ubq\n",
              "xIkTeuKJJ7R48eIrxowaNUrbt2/XsWPH9OGHH+r999/Xyy+/7N0+YsQIVVdXe5cJEybYOWUAAGAI\n",
              "2yKmqalJhw4d0qJFiyRJ8+fPV319vWpqanzGJScna/z48ZKk66+/XklJSfJ4PP16zLa2NrW0tPgs\n",
              "nZ2d/9PzAAAAQ5NtEVNfX6/IyEgFBwdLkhwOh6KiolRXV9fjfRobG1VaWqp77rnHu+7ChQtKSUmR\n",
              "2+3WmjVreo2SwsJChYaG+iyVlZWBe1IAAGDIGDIn9ra0tOjee+/VihUrNH36dElSZGSkzp49q6qq\n",
              "Ku3bt08VFRVat25dj/soKChQc3Ozz5KamjpQTwEAAAwg2yJm3LhxamhoUEdHhyTJsizV1dUpKirq\n",
              "irGtra1KT0/X3LlzlZ+f713vdDoVHh4uSQoLC9OSJUtUUVHR42M6nU6FhIT4LEFBQQF+ZgAAYCiw\n",
              "LWLCw8Pldru1detWSdLOnTvlcrkUGxvrM+78+fNKT09Xenq6nnzySZ9tTU1Nam9vl3T5fJeysjIl\n",
              "JyfbNWUAAGAQW79OKi4uVnFxseLj47V27Vpt2bJFkpSdna3y8nJJ0oYNG1RZWamysjLvr1E/++yz\n",
              "kqT9+/crOTlZiYmJcrvdioiI0MqVK+2cMgAAMESwnTtPSEjQgQMHrli/efNm779XrlzZY5hkZmYq\n",
              "MzPTtvkBAABzDZkTewEAAPxBxAAAACMRMQAAwEhEDAAAMBIRAwAAjETEAAAAIxExAADASEQMAAAw\n",
              "EhEDAACMRMQAAAAjETEAAMBIRAwAADASEQMAAIxExAAAACMRMQAAwEhEDAAAMBIRAwAAjETEAAAA\n",
              "IxExAADASEQMAAAwEhEDAACMRMQAAAAjETEAAMBIRAwAADASEQMAAIxExAAAACMRMQAAwEhEDAAA\n",
              "MBIRAwAAjETEAAAAIxExAADASEQMAAAwEhEDAACMRMQAAAAjETEAAMBItkbMyZMnNWPGDMXHxysl\n",
              "JUVHjx7tdlxJSYni4uI0YcIE5eTkqL29/aq2AQCAa5etEZOXl6fc3FydOHFCTzzxhBYvXnzFmFOn\n",
              "TmnVqlWqqKhQTU2Nzp07p02bNvW5DQAAXNtsi5impiYdOnRIixYtkiTNnz9f9fX1qqmp8RlXWlqq\n",
              "jIwMRUREyOFwaOnSpdq2bVuf27rT1tamlpYWn6Wzs9OupwgAAAZRsF07rq+vV2RkpIKDLz+Ew+FQ\n",
              "VFSU6urqFBsb6x1XV1en6Oho7+2YmBjV1dX1ua07hYWFWr16tc+6iRMnKj8/PyDPSZI6OztVWVmp\n",
              "uampCgoKCth+B0J+/luDPQW/fH2sU2061pkB3+N/mXasJfuPtx3s+hna/fMz8Vib5puvjUAfbxP/\n",
              "+x6o/1YCeayjo6P1i1/8otcxtkXMYCgoKLgiWJxOp5xOZ8Aeo6WlRaGhoXrjjTcUEhISsP3iShzr\n",
              "gcXxHjgc64HF8R44A32sbYuYcePGqaGhQR0dHQoODpZlWaqrq1NUVJTPuKioKNXW1npvezwe75je\n",
              "tnUn0MECAACGLtvOiQkPD5fb7dbWrVslSTt37pTL5fL5Kkm6fK5MeXm5GhsbZVmWioqKtHDhwj63\n",
              "AQCAa5utv51UXFys4uJixcfHa+3atdqyZYskKTs7W+Xl5ZKk8ePHa/Xq1Zo5c6ZiY2M1duxY5eXl\n",
              "9bkNAABc22w9JyYhIUEHDhy4Yv3mzZt9bufk5CgnJ6fbffS2bTA4nU499dRTfG01ADjWA4vjPXA4\n",
              "1gOL4z1wBvpYOyzLsgbkkQAAAAKIyw4AAAAjETEAAMBIRAwAADASEeOHq72gJa7OpUuXNG/ePMXH\n",
              "xysxMVGzZ8/2XpaiqalJ6enpiouL05QpU/TXv/7Ve7/etqFvW7ZskcPh0GuvvSaJY22HtrY2LVu2\n",
              "THFxcZo6dar38iu9vYfw/tJ/f/nLX+R2u5WUlKQpU6bopZdeksRrOxCWL1+umJgYORwOVVdXe9f3\n",
              "97Uc8Ne5hat2xx13WFu2bLEsy7JeffVVa/r06YM7IcNdvHjR2rNnj9XV1WVZlmX97ne/s2677TbL\n",
              "siwrKyvLeuqppyzLsqzKykrr5ptvtr766qs+t6F3p06dsn74wx9aaWlp1q5duyzL4ljb4bHHHrOW\n",
              "LVvmfW03NDRYltX7ewjvL/3T1dVljRo1yjpy5IhlWZdf406n02ppaeG1HQDvvfeeVV9fb0VHR1sf\n",
              "ffSRd31/X8uBfp0TMVfp3Llz1ogRI6z29nbLsi7/h/O9733POnny5CDP7NujqqrKio6OtizLsm68\n",
              "8UbvG79lWVZKSor15ptv9rkNPevs7LTuvPNO69ChQ9Ztt93mjRiOdWCdP3/eGjFihNXc3Oyzvrf3\n",
              "EN5f+q+rq8sKCwuz3nvvPcuyLOvIkSPWTTfdZLW1tfHaDqBvRkx/X8t2vM75Oukq9XZBSwTGhg0b\n",
              "NHfuXH3xxRdqb29XRESEd9vXF//sbRt6t379es2cOVPTpk3zruNYB15tba3CwsL03HPPafr06frR\n",
              "j36kt956q9f3EN5f+s/hcOiVV15RZmamoqOjdeutt+qll15Sa2srr22b9Pe1bMfr/Ft1AUiY67nn\n",
              "nlNNTY3eeustXbx4cbCn863z6aefaufOnXzvPwA6Ojp0+vRpTZo0SWvXrtVHH32k2bNna8+ePYM9\n",
              "tW+ljo4O/frXv1ZZWZlmzZqlqqoqZWRk+Jy/gW8vPom5St+8oKWkHi9oCf89//zzKisr0969e3XD\n",
              "DTdo9OjRCg4OVmNjo3fM1xf/7G0belZRUSGPx6O4uDjFxMTogw8+UG5urnbs2MGxDrCoqCgNGzZM\n",
              "DzzwgCQpOTlZ3//+93X69Oke30N4f+m/6upq/eMf/9CsWbMkSSkpKXK5XPr44495bdukt9drf7f1\n",
              "FxFzla72gpbwz/r167Vt2za9+eabGjlypHf9T3/6UxUVFUmSqqqqdPbsWd122219bkP3HnnkETU0\n",
              "NMjj8cjj8SgtLU2bNm3SI488wrEOsDFjxujOO+/UG2+8IUk6deqUTp06pZkzZ/b4HsL7S/99/T/G\n",
              "v//975Kkmpoa1dbWKiEhgde2TXp7vfZ3W7/1+2yaa9Bnn31mpaWlWXFxcda0adOsjz/+eLCnZLT6\n",
              "+npLkjV+/HgrMTHRSkxMtFJTUy3LsqzGxkZr9uzZVmxsrDVp0iTr7bff9t6vt224Ot88sZdjHXi1\n",
              "tbXW7bffbk2ZMsW65ZZbrNLSUsuyen8P4f2l//70pz95j/WUKVOsP/7xj5Zl8doOhNzcXOvmm2+2\n",
              "goKCrPDwcGvChAmWZfX/tRzo1znXTgIAAEbi6yQAAGAkIgYAABiJiAEAAEYiYgAAgJGIGAAAYCQi\n",
              "BgAAGImIAQAARiJiAACAkYgYAABgJCIGAAAYiYgBAABG+j8Gjn6JRRaOjQAAAABJRU5ErkJggg==\n",
              "\">\n",
              "      </div>\n",
              "      <script type=\"text/javascript\">\n",
              "        (() => {\n",
              "          const chartElement = document.getElementById(\"chart-ed31db5e-b2fc-481b-827f-d661ea66ac4a\");\n",
              "          async function getCodeForChartHandler(event) {\n",
              "            const chartCodeResponse =  await google.colab.kernel.invokeFunction(\n",
              "                'getCodeForChart', [\"chart-ed31db5e-b2fc-481b-827f-d661ea66ac4a\"], {});\n",
              "            const responseJson = chartCodeResponse.data['application/json'];\n",
              "            await google.colab.notebook.addCell(responseJson.code, 'code');\n",
              "          }\n",
              "          chartElement.onclick = getCodeForChartHandler;\n",
              "        })();\n",
              "      </script>\n",
              "      <style>\n",
              "        .colab-quickchart-chart-with-code  {\n",
              "            display: block;\n",
              "            float: left;\n",
              "            border: 1px solid transparent;\n",
              "        }\n",
              "\n",
              "        .colab-quickchart-chart-with-code:hover {\n",
              "            cursor: pointer;\n",
              "            border: 1px solid #aaa;\n",
              "        }\n",
              "      </style>"
            ]
          },
          "metadata": {}
        },
        {
          "output_type": "display_data",
          "data": {
            "text/plain": [
              "<google.colab._quickchart_helpers.SectionTitle at 0x7b0b26673220>"
            ],
            "text/html": [
              "<h4 class=\"colab-quickchart-section-title\">Values</h4>\n",
              "<style>\n",
              "  .colab-quickchart-section-title {\n",
              "      clear: both;\n",
              "  }\n",
              "</style>"
            ]
          },
          "metadata": {}
        },
        {
          "output_type": "display_data",
          "data": {
            "text/plain": [
              "from matplotlib import pyplot as plt\n",
              "_df_1[0].plot(kind='line', figsize=(8, 4), title=0)\n",
              "plt.gca().spines[['top', 'right']].set_visible(False)"
            ],
            "text/html": [
              "      <div class=\"colab-quickchart-chart-with-code\" id=\"chart-50bf4cd5-18cf-4ef4-a007-d72ca8ad8054\">\n",
              "        <img style=\"width: 180px;\" src=\"data:image/png;base64,iVBORw0KGgoAAAANSUhEUgAAAqUAAAFbCAYAAADsqPfGAAAAOXRFWHRTb2Z0d2FyZQBNYXRwbG90\n",
              "bGliIHZlcnNpb24zLjguMCwgaHR0cHM6Ly9tYXRwbG90bGliLm9yZy81sbWrAAAACXBIWXMAAA9h\n",
              "AAAPYQGoP6dpAABLWklEQVR4nO3de3yO9ePH8dd97+i0Yc5sRtvIZuY0M0kK6UQhIkrO1LeTCt9S\n",
              "SZHyVf06kyhyKqcOIkqInM/nDTOHMYZtxg73fV+/P6aVQg73dt339n4+HvfjYfd1H97X5b6vvXd9\n",
              "7vv6WAzDMBARERERMZHV7AAiIiIiIiqlIiIiImI6lVIRERERMZ1KqYiIiIiYTqVUREREREynUioi\n",
              "IiIiplMpFRERERHTqZSKiIiIiOncvpS+9957ZkcQERERkRvk9qX04MGDZkcQERERkRvk9qVURERE\n",
              "RNyfSqmIiIiImE6lVERERERMp1IqIiIiIqZTKRURERER06mUioiIiIjprqmUPvnkkwQHB2OxWNi8\n",
              "eXPe9XFxccTGxhIWFkbjxo3ZsWPHDS8TERERkaLjmkppp06d+O2336hevfpF1/fv359+/fqxd+9e\n",
              "hgwZQs+ePW94mYiIiIgUHRbDMIxrvVNwcDDz5s0jKiqK5ORkQkJCOHXqFJ6enhiGQeXKlfntt9/w\n",
              "8/O7rmUhISGXfN6srCyysrIuum748OGa1UlERETEzd3wZ0oPHTpE5cqV8fT0BMBisRAUFERiYuJ1\n",
              "L7uc0aNH4+/vf9Fl7dq1N7oKIiIiImIyt/qi07Bhw0hNTb3oEh0dbXYsEREREbeRZbObHeGSbriU\n",
              "BgYGkpSUhM1mA8AwDBITEwkKCrruZZfj4+ODn5/fRRcPD48bXQURERGRQs8wDBZuP8btY5exdHey\n",
              "2XH+4YZLaYUKFWjQoAFTp04FYPbs2VSrVo2QkJDrXiYiIiIiznPgZAY9J61jwNQNHDlzngkr9psd\n",
              "6R+u6YtO/fv354cffuDYsWMEBARQqlQp4uPj2bNnDz179iQlJQU/Pz8mTZpE3bp1Aa572dV69tln\n",
              "GTdu3DXdR0RERKQoOJ9t56Nf4/l02X6y7Q68Paz0u7Umj7cMoZi3a402X9e3712JSqmIiIjIxQzD\n",
              "YPHO44z4bidHzpwH4Naw8oxoF06NciVMTndpnmYHEBERERHnOZiSwavf7mDpnhMAVPH35eX76nBn\n",
              "eCUsFovJ6S5PpVRERESkEMjMsfPRr/v4ZNk+sm0OvDws9G1ekyduD6G4t+tXPtdPKCIiIiJXtGTn\n",
              "cV79bgeHT+cO1TcPLcer7cK5qXxJk5NdPZVSERERETeVmHKOEd/t4OcLp3iq7O/Ly/fWoW2Eaw/V\n",
              "X4pKqYiIiIibycyx88myfXz0659D9X2a1+SJliGU8HHPeueeqUVERESKqF92H+fVb3eSeOocAM1C\n",
              "AhjRLoKQCu4zVH8pKqUiIiIibuDQqXOM+G4nS3YdB6CSny8v3Xsz99St7HZD9ZeiUioiIiLiwjJz\n",
              "7Ixfvp8Pl8aTZXPgabXQ+5YaPHlHqNsO1V9K4VkTERERkUJm6Z5kXv12BwdTcofqm9YM4LX24YRW\n",
              "LGVyMudTKRURERFxMYdOnWPk9zv5aWfuUH2FUj68dG8d7ossHEP1l6JSKiIiIuIismx2JizfzwdL\n",
              "48nMyR2qf6xZME+1CqNkIRqqv5TCvXYiIiIibmLZ3hO8+u0ODpzMAKBJjbKMvD+CsEI4VH8pKqUi\n",
              "IiIiJjpy5jwjv9vJwh3HAChfyoeX7rmZdvWqFNqh+ktRKRURERExQZbNzmcrDvDBL/Gcz7HjYbXw\n",
              "WGwwT7UKpZSvl9nxCpxKqYiIiEgBWxF3glfm72D/haH66BplGdk+glqVisZQ/aWolIqIiIgUkKNn\n",
              "zvP6DztZsC13qL5cSR9evKc290dVLVJD9ZeiUioiIiKSz7JtDib+doD/+zmO8zl2rBZ4NDaYZ1qH\n",
              "4VcEh+ovRaVUREREJB+tjD/Jy/O3s+9E7lB94+AyvNY+gpsr+5mczLWolIqIiIjkg6TU87z+wy5+\n",
              "2JoEQLmS3gy762Y6NNBQ/aWolIqIiIg4UbbNwaSVB3jv5zjOZecO1T/SNHeo3r+YhuovR6VURERE\n",
              "xElWxZ/k5W93EJ98FoCG1cvwWvtwwqv4m5zM9amUioiIiNygY6mZvLFgF99tOQpAQAlvht5Vm44N\n",
              "qmG1aqj+aqiUioiIiFynHLuDySsTeHfJXjIuDNV3j6nO4Na18C+uofproVIqIiIich1+35fCy/O3\n",
              "E3dhqL5+UGlGto8goqqG6q+HSqmIiIjINUhOyx2qn785d6i+bAlvhratTaeGGqq/ESqlIiIiIlfB\n",
              "ZncweVUC7y6J42yWDYsFHm4SxHNtalG6uLfZ8dyeSqmIiIjIv1izP4WX5+9gz/F0AKICc4fq61bT\n",
              "UL2zqJSKiIiIXEZyeiajF+xm7qYjAJQp7sWQtrXp3ChQQ/VOplIqIiIi8jc2u4Mvfz/IO4v3kn5h\n",
              "qL5rdBDPt6lFmRIaqs8PKqUiIiIif7Eu4RTD521n97HcofrIav6MbB9BvcDS5gYr5FRKRURERIAT\n",
              "6Vm8+eNuZm88DEDp4l68cGdtujQOxEND9flOpVRERESKNJvdwVdrEhn70x7SM3OH6h9qHMjzd9am\n",
              "rIbqC4xKqYiIiBRZGw6eYvi8HexMSgOgblV/XmsfTv2gMiYnK3pUSkVERKTIOXk2izE/7ubrDblD\n",
              "9f7FvHj+zlp0jQ7SUL1JVEpFRESkyLA7DKatOcjbi/aQlmkDoEujQIbcpaF6s6mUioiISJGw4eBp\n",
              "Xp6/nR1Hc4fqw6v4MfL+CBpoqN4lqJSKiIhIoZZyNosxC3cza33uUL2fryfP31mLbk2qa6jehaiU\n",
              "ioiISKFkdxhMW5vI2EV7SD2fA8CDDasx5K7alCvpY3I6+TuVUhERESl0Nh86w/B529l2JBWAOpX9\n",
              "GHl/OA2rlzU5mVyOSqmIiIgUGqcysnl70W5mrDuEYUApX0+ea1OLh5sE4elhNTueXIFKqYiIiLg9\n",
              "u8Ng5rpDvLVoN2fO5Q7Vd2xQjaF31aZ8KQ3VuwOVUhEREXFrWw6d4eX529lyOHeovnalUoy8P4LG\n",
              "wRqqdycqpSIiIuKWTmdk8/ZPe5i+NjF3qN7Hk2fbhNEjprqG6t2QSqmIiIi4FYfDYNb6Q4xZuJvT\n",
              "F4bqO9SvytC7a1OhlK/J6eR6qZSKiIiI29h+JJUX521ny6EzQO5Q/Yh24TSpGWBuMLlhKqUiIiLi\n",
              "FlbGn6TX5HVk2RyU9PHkmdZhPNpUQ/WFhUqpiIiIuLw1+1Po/UVuIW0RVp63O0VSwU9D9YWJSqmI\n",
              "iIi4tA0HT/HY5HVk5ji4rVZ5Pu3REB9PD7NjiZM59Xj3ggULaNCgAVFRUURERPDFF18AkJycTNu2\n",
              "bQkNDSUiIoLly5fn3edKy0RERKRo23LoDD0/X8e5bDu3hJTjk+4qpIWV046UGoZB9+7d+fXXX4mM\n",
              "jCQhIYHatWvToUMHhg4dSkxMDAsXLmTdunU88MADHDhwAC8vrysuExERkaJr+5FUekxcQ3qWjZia\n",
              "ZZnwSCN8vVRICyunDt9bLBbOnDkDQFpaGgEBAfj4+DBr1izi4+MBaNy4MVWqVGHZsmW0atXqisv+\n",
              "Lisri6ysrIuus9vtzlwFERERcQG7j6XRfeIa0jJtNKpehomPNqaYtwppYea0UmqxWJg5cyYdOnSg\n",
              "RIkSnD59mjlz5pCenk5OTg6VKlXKu21wcDCJiYmkpKRcdtmljB49mhEjRlx0XUxMjLNWQURERFxA\n",
              "3PF0Hp6whjPncogKLM2kxxpTwkdfgynsnPaZUpvNxuuvv86cOXM4ePAgP//8Mz169MBmsznrKRg2\n",
              "bBipqakXXaKjo532+CIiImKu/SfO0u2zNaRkZBNR1Y8vekVTylcf6SsKnPZnx+bNmzl69Ci33nor\n",
              "kDsUX61aNbZu3YqnpyfHjh3LOyKakJBAUFAQAQEBl112KT4+Pvj4+Fx0nYeHDuWLiIgUBgdTMug2\n",
              "YQ0n0rOoXakUU3o1wb+YCmlR4bQjpYGBgSQlJbFr1y4A4uPj2bdvH7Vq1eLBBx/kk08+AWDdunUc\n",
              "OXKEFi1aAFxxmYiIiBQNh0+fo9uENRxLyyS0Qkm+6tOEMiW8zY4lBchpR0orVqzI+PHj6dy5M1ar\n",
              "FYfDwQcffEBQUBBjxoyhR48ehIaG4u3tzdSpU/O+XX+lZSIiIlL4JaWep9uENRw5c56a5UrwVd8m\n",
              "BJT0+fc7SqFiMQzDMDvEjXj22WcZN26c2TFERETkOiSnZdJl/GoOnMygekBxZvZrSiV/zdRUFGmy\n",
              "WBERETHFybNZdPtsDQdOZlCtTDGm9Y1RIS3CVEpFRESkwJ3OyKb7Z2uITz5LZX9fpveNoWrpYmbH\n",
              "EhOplIqIiEiBSj2XQ/eJa9h9LJ0KpXyY1jeGwLLFzY4lJlMpFRERkQKTlpnDI5+vYcfRNMqV9GZa\n",
              "3xhqlCthdixxASqlIiIiUiDOZtl4bNI6thxOpUxxL77qE0NIhZJmxxIXoVIqIiIi+e5cto1ek9ex\n",
              "4eBp/It5MbVPE2pVKmV2LHEhKqUiIiKSrzJz7PT9cj1rD5yilI8nU3pHE17F3+xY4mJUSkVERCTf\n",
              "ZNns9J+ygZXxKZTw9mByr2giq5U2O5a4IJVSERERyRfZNgePf7WRZXtPUMzLg0mPRdOwehmzY4mL\n",
              "UikVERERp8uxO3hy+iaW7ErGx9PKxEcbEV2jrNmxxIWplIqIiIhT2ewOnp21hYU7juHtYWX8I42I\n",
              "DSlndixxcSqlIiIi4jR2h8EL32zluy1H8fKw8HH3BrQIK292LHEDKqUiIiLiFA6HwX/nbGPOpiN4\n",
              "WC2837UBd9xc0exY4iZUSkVEROSGGYbBy99uZ+b6Q1gt8N5DUbSNqGR2LHEjKqUiIiJyQwzD4LXv\n",
              "dzJ1dSIWC4zrHMW9kVXMjiVuRqVURERErpthGLz5424mrUwAYEzHSO6vX9XcUOKWVEpFRETkuo1b\n",
              "vJdPl+8H4I0HIujcKNDkROKuVEpFRETkuvzfz3G8/0s8AK/eV4eHm1Q3OZG4M5VSERERuWYf/7qP\n",
              "cYv3AvDi3TfTs1kNkxOJu1MpFRERkWvy2Yr9jFm4G4Dn76xF31trmpxICgOVUhEREblqU35P4PUf\n",
              "dgHw1B2hPN4yxOREUliolIqIiMhVmbE2keHzdwAw6LabeLpVqMmJpDBRKRUREZF/9c2Gwwybuw2A\n",
              "PrfU4Pk7a2GxWExOJYWJSqmIiIhc0fzNR3jhmy0YBjzatDov3nOzCqk4nUqpiIiIXNaP25J4dtYW\n",
              "HAZ0jQ7ilfvCVUglX6iUioiIyCUt3nmc/0zfhN1h0KlhNd64PwKrVYVU8odKqYiIiPzD0j3JDPpq\n",
              "AzaHQfuoKozpGKlCKvlKpVREREQu8lvcSfpP2UCO3eCeupX534P18FAhlXymUioiIiJ5Vu9Poc+X\n",
              "68i2OWhdpyLvPhSFp4fqguQ/vcpEREQEgPUJp+g1eR2ZOQ5a1irPB93q46VCKgVErzQRERFhU+Jp\n",
              "ek5ax7lsO81Dy/Fx94b4eHqYHUuKEJVSERGRIm77kVQe+XwtZ7NsNK0ZwPgejfD1UiGVgqVSKiIi\n",
              "UoTtPJpG94lrSM+00Ti4DJ892ohi3iqkUvBUSkVERIqovcfT6T5xDWfO5RAVWJrPezamhI+n2bGk\n",
              "iFIpFRERKYL2nThLtwlrOJWRTd2q/nzRK5pSvl5mx5IiTKVURESkiEk4mUG3Cas5eTaLmyv7MaV3\n",
              "NP7FVEjFXCqlIiIiRcihU+foNmE1x9OyCKtYkqm9oyld3NvsWCIqpSIiIkXF0TPn6fbZao6mZlKz\n",
              "fAm+6hNDQEkfs2OJACqlIiIiRcLxtEy6TVjNoVPnqR5QnGl9YihfSoVUXIdKqYiISCF3Ij2LbhNW\n",
              "k5ByjmplijGtbwyV/H3NjiVyEZVSERGRQuxURjbdP1vDvhMZVPH3ZXrfGKqWLmZ2LJF/UCkVEREp\n",
              "pM6cyy2ke46nU6GUD9P6xhBYtrjZsUQuSaVURESkEErLzOGRz9eyMymNciVzC2lwuRJmxxK5LJVS\n",
              "ERGRQuZslo1HP1/L1sOplC3hzVd9mhBSoaTZsUSuSKVURESkEDmXbeOxSWvZlHgG/2JeTO3dhFqV\n",
              "SpkdS+RfqZSKiIgUEuez7fSevJ51Cacp5evJ1N5NqFPFz+xYIldFpVRERKQQyMyx02/Ken7fn0IJ\n",
              "bw++6BVN3Wr+ZscSuWoqpSIiIm4u2+Zg0FcbWRF3kmJeHkzuFU2DoDJmxxK5Jk4tpVlZWTzxxBOE\n",
              "hoZSt25dunfvDkBcXByxsbGEhYXRuHFjduzYkXefKy0TERGRK8uxO3hi2kZ+2Z2Mj6eViT0b0Ti4\n",
              "rNmxRK6ZU0vp0KFDsVgs7N27l23btjF27FgA+vfvT79+/di7dy9DhgyhZ8+eefe50jIRERG5PJvd\n",
              "wdMzN/PTzuN4e1qZ8EgjYm8qZ3YsketiMQzDcMYDZWRkULlyZQ4fPoyf358fqk5OTiYkJIRTp07h\n",
              "6emJYRhUrlyZ3377DT8/v8suCwkJ+cdzZGVlkZWVddF1w4cP57333nPGKoiIiLgNu8Ng8KzNzNt8\n",
              "FC8PC+N7NKJl7QpmxxK5bk47Urpv3z7Kli3LqFGjaNSoEc2bN+fnn3/m0KFDVK5cGU9PTwAsFgtB\n",
              "QUEkJiZecdmljB49Gn9//4sua9euddYqiIiIuAWHw2Do7K3M23wUT6uFD7s1UCEVt+e0Umqz2Th4\n",
              "8CB16tRh/fr1/N///R9dunTBZrM56ykYNmwYqampF12io6Od9vgiIiKuzjAMXpq/na83HMZqgfce\n",
              "qk+b8EpmxxK5YZ7OeqCgoCCsVisPP/wwAPXr16dGjRocPHiQpKQkbDZb3hB9YmIiQUFB+Pn5XXbZ\n",
              "pfj4+ODj43PRdR4eHs5aBREREZdmGAYjvtvJtDWJWCzwTpco7omsbHYsEadw2pHScuXKcccdd7Bo\n",
              "0SIADhw4wIEDB2jWrBkNGjRg6tSpAMyePZtq1aoREhJChQoVLrtMRERE/mQYBqMW7GLyqgQA3uoY\n",
              "SfuoquaGEnEip33RCWD//v307t2bkydPYrVaefnll+nYsSN79uyhZ8+epKSk4Ofnx6RJk6hbty7A\n",
              "FZddjWeffZZx48Y5axVERERcjmEYjP1pDx8u3QfAqAfq0q3JpUcVRdyVU0upGVRKRUSksHtvSRzv\n",
              "LNkLwIh24TwaG2xuIJF8oBmdREREXNhHv8bnFdKX7rlZhVQKLZVSERERF/XZiv28tXAPAC+0rUWf\n",
              "5jVNTiSSf1RKRUREXNAXqxJ4/YddADzdKpRBt+lLwFK4qZSKiIi4mGlrEnnl2x0APN7yJp66I9Tk\n",
              "RCL5T6VURETEhXy9/hD/nbsNgL7Na/Bcm1pYLBaTU4nkP5VSERERFzFv0xFemL0VgJ6xwfz37ptV\n",
              "SKXIUCkVERFxAT9sTeLZWZsxDOjWJIhX7qujQipFikqpiIiIyRbtOMZTMzbhMODBhtV4vX2ECqkU\n",
              "OSqlIiIiJvpl93GemLYRm8PggfpVebNjJFarCqkUPSqlUmAyc+z8FneSbJvD7CgiIi5h+d4TDJi6\n",
              "kRy7wT2RlXm7UyQeKqRSRHmaHUCKBsMwGDh1A0v3nCCmZlk+7dEI/2JeZscSETHNqn0n6fvlerJt\n",
              "Du4Mr8i7XaLw9NCxIim69OqXAjF/81GW7jkBwOr9p+j8ye8cPXPe5FQiIuZYe+AUvSevJ8vm4Pba\n",
              "FXi/awO8VEiliNM7QPJdytksRnyXexLoLo0CqVDKhz3H0+nw0Sp2H0szOZ2ISMHamHiaxyat5XyO\n",
              "neah5fjo4QZ4e+rXsYjeBZLvXvt+J6fP5VC7UilefyCCuY83I6RCSY6lZfLgx7+zat9JsyOKiBSI\n",
              "jYmnefTztWRk22laM4AJjzTC18vD7FgiLkGlVPLVL7uPM3/zUawWeKtTJF4eVqqWLsbsAbFEB5cl\n",
              "PcvGo5+vZf7mI2ZHFRHJV99tOcpD41eTnmkjOrgsE3uqkIr8lUqp5JuzWTZemrsdgN631CCyWum8\n",
              "Zf7FvfiydzT31K1Mjt3gqRmbGb98H4ZhmJRWRCR/GIbBe0vi+M/0TWTbHNxRuwKTHmtMcW9911jk\n",
              "r1RKJd+8vXA3R1MzCSxbjGdah/1jua+XB+93rU+vZjUAGLVgNyO+24ndoWIqIoVDZo6dZ2Zu5p0l\n",
              "e4HcP9DHP9KIEj4qpCJ/p3eF5IsNB0/x5eqDAIx+IPKyRwSsVgsv31eHKqV9ef2HXUxelcDxtEze\n",
              "6RKlYS0RcWspZ7PoP2UD6w+exsNq4bX24TzcpLrZsURclo6UitNl2ewMmb0N48J0ebeElvvX+/Rp\n",
              "XpP3u9bH28PKj9uP0f2zNZw5l10AaUVEnC/ueDr3f7SS9QdPU8rXky8ei1YhFfkXKqXidB/+Ek98\n",
              "8lnKlfThpXvqXPX97qtXhS96RVPK15P1B0/T8eNVHDp1Lh+Tiog43/K9J+jw0SoOnTpPUNnizB0U\n",
              "e1V/nIsUdSql4lS7j6Xx0a/7AHitfTj+xa9t1qamNwUwe2Aslf192Xcigw4fr2L7kdT8iCoi4nRT\n",
              "Vh/kscnrSM+y0Ti4DPMeb0ZIhVJmxxJxCyql4jR2h8HQ2duwOQxa16nIXRGVrutxwiqWYu6gZtSu\n",
              "VIoT6Vl0+fR3lu894eS0IiLOY3cYjPhuB8PnbcfuMOhQvypT+zShbAlvs6OJuA2VUnGayasS2Hzo\n",
              "DKV8PBnZPgKLxXLdj1XJ35dZA5oSe1MAGdl2ek1ex+wNh52YVkTEOc5m2ejzxTomrUwA4Pk7a/G/\n",
              "zvXw8dSXNUWuhUqpOMWhU+cYu2gPAMPuvplK/r43/Jh+vl5Mfiya9lFVsDkMBn+9hQ+XxutcpiLi\n",
              "Mo6cOU+nj1exdM8JfDytfNitAY+3DLmhP8pFiiqVUrlhhmHw37nbOJ9jp0mNsjzUONBpj+3taeWd\n",
              "zlH0b1ETgLcX7eGledux2R1Oew4RkeuxKfE07T9Yye5j6ZQr6cPM/k25J7Ky2bFE3JZKqdywORuP\n",
              "sCLuJN6eVkZ3qIvV6twjBFarhWF33cyIduFYLPDVmkQGTN3A+Wy7U59HRORqfb81d8rQk2ezqF2p\n",
              "FPOfaEZUYGmzY4m4NZVSuSEnz2Yx8oedADzdKpSa5Uvm23M9GhvMxw83wMfTypJdyXSdsJqUs1n5\n",
              "9nwiIn9nGAbv/xzHE9M2kWVzcHvtCnwzMJaqpYuZHU3E7amUyg159dsdnDmXQ53KfvRtXjPfn69t\n",
              "RGW+6tOE0sW92HzoDB0/XsXBlIx8f14RkSybnWdnbeF/i/+cMnTCI40oqSlDRZxCpVSu25Kdx/l+\n",
              "axIeVgtvdYrEy6NgXk6NgsvyzYBYqpUpRkLKOTp8tIoth84UyHOLSNGUcjaLhyesYe6mI3hYLbx+\n",
              "fwTD762Dh5M/riRSlKmUynVJz8zhpXnbAejTvAYRVf0L9PlDKpRkzqBYwqv4kZKRzUPjV/PL7uMF\n",
              "mkFEioa/Txk6+bHGdI/RlKEizqZSKtdlzMLdHEvLpHpAcZ6+I8yUDBVK+TKzf1Oah5bjfI6dvl9u\n",
              "YMbaRFOyiEjhtCLuBB0+zp0yNLBsMeYOiqV5aHmzY4kUSiqlcs3WHjjF1NW55W90h7oU8zbvBNEl\n",
              "fTz5vGdjOjaoljuj1JxtvLN4r85lKiI3bOrqg/SctI70zAtThg7SlKEi+UmlVK5JZo6dobO3AvBQ\n",
              "40BibypnciLw8rAy9sFI/nN7CADv/RzHkNlbydG5TEXkOtgdBq99t5OXLkwZ+sCFKUMDSvqYHU2k\n",
              "UNNXBuWafPBLPPtPZlC+lA/D7r7Z7Dh5LBYLg9vUopK/L8PnbWfW+sMcT8vio4cbUELfjBWRq3Q2\n",
              "y8aT0zfxy+5kAJ5rE6YZmkQKiI6UylXblZTGJ8v2ATCyfTj+xbxMTvRPDzepzvgejfD1srJs7wke\n",
              "Gr+aE+k6l6mI/Ls/pgz9ZXcyPp5WPuhWnyduD1UhFSkgKqVyVWx2B0Nmb8XmMGgbXom2Ea47lV6r\n",
              "OhWZ0a8pZUt4s+1IKh0+Xsm+E2fNjiUiLmzzoTMXTRk6o18M90ZWMTuWSJGiUipXZdLKBLYeTsXP\n",
              "15PX2oebHedfRQWWZs7AWKoHFOfQqdyjHxsOnjY7loi4oB+2JtHl09/zpgyd93gs9YPKmB1LpMhR\n",
              "KZV/dTAlg/8t3gPAi/fcTAU/X5MTXZ3gciWYPTCWetX8OX0uh24TVrNoxzGzY4mIizAMgw9+iePx\n",
              "aRsvmjK0WpniZkcTKZJUSuWKDMPgv3O3kZnjIPamADo3CjQ70jUpV9KH6f1iuL12BbJsDgZO3cCU\n",
              "1QfNjiUiJsuy2Rk8awtjf8qdMrRXM00ZKmI2lVK5oq83HGZlfAo+nlZGPVDXLT/wX9zbk/E9GtI1\n",
              "OhCHAcPnbWfMwt06l6lIEXUqI5vun61hzl+mDH35Pk0ZKmI2/Ukol5Wcnsnr3+8E4NnWYQSXK2Fy\n",
              "ouvn6ZFbqiv7F2Pc4r18/Os+jqVmMqZjJN6e+ttMpKiIT06n1+T1JJ46RykfTz58uAG3hmmGJhFX\n",
              "oN/GclmvfruDtEwbdav60/uWGmbHuWEWi4Un7wjlrU6ReFgtzN10hF6T15GemWN2NBEpAL/FneSB\n",
              "j1aReOocgWWLMWdQrAqpiAtRKZVLWrTjGAu2HcPDauHNjnXx9Cg8L5XOjQL5vGdjint78Fv8SR78\n",
              "5HeOp2WaHUtE8tFXaw7y6KS1pGfaaFQ9d8rQ0IqaMlTElRSepiFOk5aZw8vztwPQ79aahFfxNzmR\n",
              "87UIK8/Mfk0pV9KH3cfSeeDDlcQdTzc7log42R9Thr44988pQ7/qqylDRVyRSqn8w+gFuzmelkWN\n",
              "ciV46o5Qs+Pkm7rV/Jk7KJaa5UpwNDWTjh+vYu2BU2bHEhEnOZtlo9+X6/l85QEg97Px4zrXw8fT\n",
              "w+RkInIpKqVykdX7U5i+NhGANzvUxdercO+8A8sW55uBsTQIKk1apo3uE9ewYFuS2bFE5AYdvTBl\n",
              "6M8Xpgx9v2t9nrxDU4aKuDKVUsmTmWNn6OytAHRrEkSTmgEmJyoYZUt4M61vDG3qVCTb5uDxaRuZ\n",
              "+NsBs2OJyHXafOgM7T/8Y8pQb2b0i+G+epoyVMTVOb2UTpo0CYvFwrx58wBITk6mbdu2hIaGEhER\n",
              "wfLly/Nue6VlUvDe+zmOhJRzVPTzYehdtc2OU6B8vTz4uHtDHmlaHcOAkd/v5PXvd+Jw6FymIu5k\n",
              "wbbcKUNPpP8xZWgzTRkq4iacWkoTEhKYMGECMTExedcNHTqUmJgY4uLimDRpEt26dSMnJ+dfl0nB\n",
              "2n4klfHL9wMwsn0Efr5eJicqeB5WCyPahTOkbW4h/+y3Azw5YxNZNrvJyUTk3xiGwYdL4xn0Ve6U\n",
              "oS1rlefrAU01ZaiIG3FaKXU4HPTp04f3338fH58/v9U4a9YsBgwYAEDjxo2pUqUKy5Yt+9dlUnBs\n",
              "dgdD52zF7jC4p25l2oRXMjuSaSwWCwNvu4l3u0Th5WHh+61JPDJxLann9MeSiKvKstkZ/PUW3l60\n",
              "B4DHmgUz4ZFGlCqCf1yLuDOnzeg0btw4mjVrRsOGDfOuS0lJIScnh0qV/iw5wcHBJCYmXnHZ5WRl\n",
              "ZZGVlXXRdXa7jmLdqM9+O8D2I2n4F/Pi1XbhZsdxCffXr0r5Uj70n7KBNQdO8eCnq5j8WDRVShcz\n",
              "O5qI/MWpjGwGTNnA2oRTeFgtvNounB4x1c2OJSLXwSlHSrdv387s2bN56aWXnPFwlzV69Gj8/f0v\n",
              "uqxduzZfn7OwSziZwTuL9wLw0j03U76Uzt33h2Yh5ZjVvykV/XzYe/wsD3y0kl1JaWbHEpEL4pNz\n",
              "35drE05RyseTz3s2ViEVcWNOKaUrVqwgISGB0NBQgoODWb16Nf369WPWrFl4enpy7NixvNsmJCQQ\n",
              "FBREQEDAZZddzrBhw0hNTb3oEh0d7YxVKJIMw2DYnG1k2RzcElKOTg2rmR3J5dSp4secQc0IrVCS\n",
              "42lZdP7kd1bFnzQ7lkiRlztl6EoOppyjWplizB4USwtNGSri1pxSSgcOHEhSUhIJCQkkJCQQExPD\n",
              "+PHjGThwIA8++CCffPIJAOvWrePIkSO0aNEC4IrLLsXHxwc/P7+LLh4ehfs8mvlp5rpD/L4/hWJe\n",
              "Hox6oK7O33cZVUsX45sBsUTXKEt6lo1HJ61l/uYjZscSKbKmrUnMmzK0YfUyzH+8GWGaMlTE7Tnt\n",
              "M6WXM2bMGHr06EFoaCje3t5MnToVLy+vf10m+et4WiZvLNgFwOA2YQQF6BuqV+Jf3Isve0Uz+Ost\n",
              "/LA1iadmbCYpNZP+t9ZUmRcpIHaHwagFu/LOI3x/VBXe7BhZ6Cf5ECkqLIZhuPWJGJ999lnGjRtn\n",
              "dgy303/KehbtOE69av7MGdQMD6uK1dVwOAze+MsvxUebVufl+8K1/UTyWUaWjadmbGLJrmQgd8rQ\n",
              "/9weoj8KRQqRfD9SKq5n4fYkFu04jqfVwpsdI1WoroHVamH4vXWo7O/L6z/s4ovfD3IsLZP3Hqqv\n",
              "ozUi+eTomfP0/mI9u5LS8Pa0MvbBerTTDE0ihY6mGS1iUs/lMHz+DgAGtLiJmyv7mZzIPfVpXpMP\n",
              "utXH28PKoh3HefizNZzOyDY7lkihs+XClKG7ktLypgxVIRUpnFRKi5hRC3ZxIj2LmuVL8MTtIWbH\n",
              "cWv3Rlbhy97R+Pl6suHgaTp+sopDp86ZHUuk0FiwLYku43OnDK1VMXfK0AaaMlSk0FIpLUJWxZ9k\n",
              "5vpDAIzRlwOcIqZmAN8MjKWKvy/7T2TwwEer2H4k1exYIm7tr1OGZuY4uK1Web4ZqClDRQo7ldIi\n",
              "4ny2nWFztwHQI6Y6jYPLmpyo8AirWIo5g5pRu1IpTp7Nosunv7Ns7wmzY4m4pSybnee+3po3ZWjP\n",
              "2GA+05ShIkWCSmkR8e6SvRxMOUdlf19eaFvL7DiFTiV/X2YNaEqzkAAysu30nryOry8clRaRq3Mq\n",
              "I5sen61l9sbDeFgtvNY+nFfbhePpoV9VIkWB3ulFwLbDqUxYsR+A1++P0BGHfOLn68WkntHcH1UF\n",
              "m8Pg+W+28v7Pcbj5WddECsSlpgx9pGmw2bFEpACplBZyOXYHL8zeisOA++pV4Y6bK5odqVDz9rQy\n",
              "rnMUA1rcBMD/Fu/lv3O3Y7M7TE4m4rpWxp+kg6YMFSnyVEoLufHL97MrKY3Sxb145b46ZscpEqxW\n",
              "C0Pvqs1r7cOxWGD62kT6T9nAuWyb2dFEXM70tYk8+vla0jJtNAgqzTxNGSpSZKmUFmL7T5zlvZ/j\n",
              "AHj53jqUK+ljcqKi5ZGmwXz8cEN8PK38vDuZrhPWcPJsltmxRFyC3WHw+vc7GTZnGzaHQfuoKkzr\n",
              "G6P9lEgRplJaSDkcBkPnbCPb5qB5aDkeqF/V7EhFUtuISkzr24TSxb3YcugMHT9eRcLJDLNjiZgq\n",
              "I8tG/ykb+OzCdL3PtArj3S5ROk2dSBGnUlpITV+XyNoDpyju7cGoB+pqfmgTNaxeltkDY6lWphgH\n",
              "U87R8eNVbD50xuxYIqZISj3Pg5/8zpJdx/H2tPJ/XevzVKtQ7aNERKW0MDqWmsmbC3YD8FybWgSW\n",
              "1QmnzXZT+ZLMGRRLRFU/UjKy6Tp+NT/vOm52LJECtfXwGdp/sJKdmjJURC5BpbSQMQyDl+ZtJz3L\n",
              "RlRgaR6NDTY7klxQoZQvM/o15daw8pzPsdP3y/VMX5todiyRAvHjtiQ6f/o7yelZhFUsydxBmjJU\n",
              "RC6mUlrILNh2jCW7juPlYWFMx0g8rBoScyUlfTyZ+GgjOjWshsOAYXO2Me6nPTqXqRRaf0wZOvDC\n",
              "lKEtwsoze2CsRnBE5B9USguRM+eyeeXb7QAMvC2EWpV0WhVX5OVh5e1OkTx5ewgA//dLPM9/s5Uc\n",
              "nctUCplsm4Pnv/lzytBHm1Zn4qOaMlRELs3T7ADiPK//sIuTZ7MJqVCSx1veZHYcuQKLxcKzbWpR\n",
              "yb8YL83bxjcbDpOcnsVHDzegpI/eluL+Tmdk03/qBtYeOIXVAq/cF66PE4nIFelIaSGxIu4E32w4\n",
              "jMUCYzpG4uOpU6u4g25NgpjwSCOKeXmwfO8JHhr/O8npmWbHErkh+05cmDL0wClKXpgyVIVURP6N\n",
              "SmkhcC7bxn/nbgPg0abBNKyuLw+4kztursj0fjEElPBm+5E0Ony0in0nzpodS+S6rIo/yQMfriTh\n",
              "jylDB8ZyW60KZscSETegUloIjPtpL4dOnaeKvy/P3VnL7DhyHaICSzN7YCzBAcU5fPo8HT9exYaD\n",
              "p8yOJXJNZqxN5JG/TRmqz7aLyNVSKXVzWw6d4fOVubOivNGhrj6P6MaCy5Vg9sBY6gWW5sy5HLpN\n",
              "WMPC7cfMjiXyr+wOg1ELdjH0wpSh7eppylARuXYqpW4s2+ZgyOytOAy4P6oKLTVE5vYCSvowvW8T\n",
              "7qhdgSybg4FfbeDL3xPMjiVyWX9MGTp++X4Anm4VynsPacpQEbl2KqVu7NNl+9h9LJ2yJbx5+b5w\n",
              "s+OIkxT39uTTHg3pGh2EYcDL83fw5o+7cTh0LlNxLX+fMvS9h6J4ulWYpgwVkeuiUuqm4pPP8v4v\n",
              "8QC8fG8dypbwNjmROJOnh5VRD0QwuHUYAJ8s28ezszaTbdO5TMU1bDucmjdlaEAJb6b3bUL7qKpm\n",
              "xxIRN6ZS6oYcDoNhc7aSbXdwW63ytI/S3NGFkcVi4T93hPJ2p0g8rRbmbT5Kz0lrScvMMTuaFHEL\n",
              "tyfx4Ker8qYMnfd4MxpWL2t2LBFxcyqlbuirNQdZl3CaEt4evPFAXQ2VFXIPNgpkYs/GlPD2YNW+\n",
              "FLp8uppTGdlmx5Ii6pNl+xgw9c8pQ7/RlKEi4iQqpW7m6JnzvPnjbgBeaFubqqWLmZxICkKLsPLM\n",
              "7N+UciV92JWURvfP1nBaxVQK2LtL9ubtf/6YMtRPU4aKiJOolLoRwzAYPm87Gdl2GgSVpkdMdbMj\n",
              "SQGKqOrPjH5NKFfSm51JaXSfuIYz51RMpWC8u2Qv7y6JA2DoXbUZ0T4CTw/9ChER59EexY18tzWJ\n",
              "n3cn4+1hZUzHSKxWDdsXNSEVSjG9b+7sTzuOptFj4lpSz+kzppK/3lsSl1dIh91VmwEtbjI5kYgU\n",
              "RiqlbuJ0RjYjvt0BwOMtQwitqFlSiqrQiqWY1jeGsiW82XYklR6fryH1vIqp5I//+zmOd5bsBXKP\n",
              "kPZXIRWRfKJS6iZGfr+TlIxsalUsxcDb9EuhqKtVqRTT+jahTHEvth5O5ZGJa/StfHG693+OY9zi\n",
              "3EI6pK2OkIpI/lIpdQO/7klmzqYjWCzwZse6eHvqv02gdiU/vuoTQ+niXmw5nMojE9eSrmIqTvLB\n",
              "L3H870IhfaFtLf0xLCL5Tu3GxWVk2Xhx7nYAHoutQf2gMiYnEldSp4ofX/Vpgn8xLzYfOsOjn6uY\n",
              "yo37cGk8Y3/6s5AOui3E5EQiUhSolLq4sT/t4ciZ81QtXYzBbcLMjiMuKLyKf14x3Zh4hp6T1nE2\n",
              "y2Z2LHFTHy6N5+1FewB4/k4VUhEpOCqlLmxj4mkmr0oAYHSHupTw8TQ3kLisiKr+TO3dBD9fTzYc\n",
              "PM1jk9aSoWIq1+jvhfTxliqkIlJwVEpdVLbNwdDZWzEM6NCgKreGlTc7kri4utX8mdqnCaV8PVmX\n",
              "cJrHJq1TMZWr9tGvfxbS59qEqZCKSIFTKXVRH/+6j73HzxJQwpvh99QxO464ichqpZnSuwmlfDxZ\n",
              "m3CKXpPXcS5bxVSu7ONf9/HWwtxCOrh1GE/cHmpyIhEpilRKXVDc8XQ+WJp7oupX2oVTpoS3yYnE\n",
              "nUQFlubL3tGU9PFkzYFT9J68nvPZdrNjiYv6ZNk+xizMnTp0cOsw/nOHCqmImEOl1MXYHQZDZm8l\n",
              "x25wR+0K3BdZ2exI4obqB5Xhi17RlPD24Pf9KfT+Yp2KqfzDp8v25c1l/6wKqYiYTKXUxUz5PYGN\n",
              "iWco6ePJ6w9EYLFoKlG5Pg2r/1lMV+1Loe+X68nMUTGVXJ8u28foC4X0mVZhPKlCKiImUyl1IYdP\n",
              "n+OtC180GHJXbSr7FzM5kbi7RsFlmdwrmuLeHvwWf1LFVAAYv/zPQvp0q1CeaqVCKiLmUyl1EYZh\n",
              "8NK87ZzLttM4uAwPRweZHUkKicbBZZnUszHFvDxYEXeS/lM2qJgWYROW72fUgtxC+tQdoTzdSuc/\n",
              "FhHXoFLqIuZvPsqve07g7WFldIdIrFYN24vzNKkZwKTHcovpsr0nGDB1A1k2FdOi5rMV+3ljwS4g\n",
              "t5A+01qFVERch0qpC0g5m8WI73YA8OQdIYRUKGlyIimMYmoGMLFnI3y9rPy65wQDp25UMS1CPlux\n",
              "n9d/yC2kT6qQiogLUil1Aa99v5PT53KoXakU/VvcZHYcKcRibyrH5482xsfTyi+7k3n8q41k2xxm\n",
              "x5J8dlEhvT2EZ/QZUhFxQSqlJlu6O5n5m49itcCYjpF4eei/RPJXbEg5Jl4opkt2JfP4NBXTwmzi\n",
              "bwfyCul/bg/hmdZhOquHiLgkNSATnc2y8eLcbQD0alaDeoGlzQ0kRcYtoeWY8EgjvD2tLN55nP9M\n",
              "30iOXcW0sJn42wFGfr8TgCdahvCsCqmIuDCVUhO9vXA3R1MzCSxbjGfb6PNdUrBuDSufV0wX7TjO\n",
              "k9M3qZgWIp//rZAObqNCKiKuzWmlNDMzk/vvv5+wsDDq1atH69atiY+PByA5OZm2bdsSGhpKREQE\n",
              "y5cvz7vflZYVZhsOnuLL1QcBGP1AJMW9PU1OJEVRi7DyfNqjId4eVn7cfoynZqiYFgaTVh7gtQuF\n",
              "9PGWN6mQiohbcOqR0n79+rFnzx62bNlC+/bt6dOnDwBDhw4lJiaGuLg4Jk2aRLdu3cjJyfnXZYVV\n",
              "ls3OkNnbMAx4sGE1bgktZ3YkKcJa1qrAJz0a4OVhYcG2Yzw9czM2FVO3NXnlAUZ8l1tIB912E8+1\n",
              "qaVCKiJuwWml1NfXl7vvvjtv5xcTE0NCQgIAs2bNYsCAAQA0btyYKlWqsGzZsn9d9ndZWVmkpaVd\n",
              "dLHb3e+UNh8u3Ud88lnKlfThxXtuNjuOCLfXrsjHDzfEy8PCD1uTeGbWFhVTN/TFqgRevVBIB952\n",
              "E8/fqUIqIu4j3z5T+t5779G+fXtSUlLIycmhUqVKecuCg4NJTEy84rJLGT16NP7+/hdd1q5dm1+r\n",
              "kC/2HEvn419zP9Ywol04pYt7m5xIJFerOhX5sFsDPK0WvttylMFfb8HuMMyOJVfpy98TeOXb3PMd\n",
              "D2hxEy+okIqIm8mXUjpq1Cji4+MZPXq0Ux932LBhpKamXnSJjo526nPkJ7vDYMjsreTYDVrXqcjd\n",
              "dSv9+51EClCb8Ep8cKGYzt98lOdUTN3Cl78n8PL83ELav0VNhrRVIRUR9+P0Ujp27FjmzJnDjz/+\n",
              "SPHixQkICMDT05Njx47l3SYhIYGgoKArLrsUHx8f/Pz8Lrp4eHg4exXyzeRVCWw+dIZSPp6MbB+h\n",
              "XxriktpGVOKDbvXxsFqYu+kIz3+jYurKpvytkA5tW1v7FhFxS04tpePGjWP69OksXryY0qVL513/\n",
              "4IMP8sknnwCwbt06jhw5QosWLf51WWFy6NQ5xi7aA8Cwu2+mkr+vyYlELq9tRGXe75pbTOdsPMKQ\n",
              "2VtxqJi6nCmrDzL8j0J6qwqpiLg3p52H6PDhwwwePJiaNWvSsmVLIPfI5po1axgzZgw9evQgNDQU\n",
              "b29vpk6dipeXF8AVlxUWhmHw37nbOJ9jJ7pGWR5qHGh2JJF/dXfdyjgMg6dmbOabDYexWuDNDpFY\n",
              "rSo9rmDq6oMMn7cdgH631mToXSqkIuLenFZKq1WrhmFc+khKxYoV+emnn655WWExZ+MRVsSdxNvT\n",
              "ypsd6uqXuriNeyOr4DDg6RmbmLX+MFaLhVEP6DVstq/WHOSlC4W0b/MaDFMhFZFCQDM65bOTZ7MY\n",
              "+UPuKVqebhVKzfIlTU4kcm3a1avCO12isFpgxrpDvDhvu4byTTRtTSIvzs0tpH1uqcF/775ZhVRE\n",
              "CgWV0nz26rc7OHMuhzqV/ejbvKbZcUSuS/uoqvyvcz0sFpi+NpHh87dfdmRE8s+0NYn8d+42ILeQ\n",
              "vniPCqmIFB4qpfloyc7jfL81CQ+rhbc6ReLloc0t7uuB+tUY2ym3mH61JpGX5+9QMS1Afy2kvVVI\n",
              "RaQQUkvKJ+mZOQyf/+cQW0RVf5MTidy4jg2r8faFYjpl9UFGfLdTxbQATF/7ZyHt1awGL6mQikgh\n",
              "pFKaT8Ys3E1SaibVA4rzdKsws+OIOE2nhtUY0yESyD337mvfq5jmpxlrExk2J7eQPtYsmOH3qpCK\n",
              "SOGkUpoP1h44xdTVuVOlju5Ql2Le7nOCf5Gr0blxIG92qAvApJUJvP7DLhXTfDBzXSJD/1JIX763\n",
              "jgqpiBRaKqVOlpljZ+icrQA81DiQ2JvKmZxIJH88FB3EqAdyi+nE3w4waoGKqTPNWncor5D2jFUh\n",
              "FZHCT6XUyT74JZ79JzIoX8qHYXfdbHYckXzVrUkQbzwQAcCEFQd488fdKqZOMGvdIYbM2Yph5BbS\n",
              "V+5TIRWRwk+l1Il2JaXxybJ9AIxsH45/8cI1M5XIpTzcpDoj24cD8Ony/by1aI+K6Q2YtV6FVESK\n",
              "JpVSJ7HZHQyZvRWbw6BteCXaRlQ2O5JIgenRNJgR7XKL6ce/7mPsTyqm1+Pr9YcYMju3kD7atLoK\n",
              "qYgUKSqlTjJpZQJbD6fi5+vJaxeOGokUJY9eOKoH8OHSfYxbvFfF9Bp8s+EwL1wopI80rc6r7cJV\n",
              "SEWkSFEpdYLElHP8b/EeAF6852Yq+PmanEjEHI81q8Hwe3OL6fu/xPPukjiTE7mHbzYc5vlvtmAY\n",
              "0COmOiNUSEWkCFIpvUGGYfDfudvIzHHQtGYAnRsFmh1JxFS9b8k9uTvAez/H8Z6K6RXN/ksh7R4T\n",
              "xGvtVUhFpGhSKb1BX284zG/xJ/HxtDK6Q139MhEB+jSvyX/vrg3AO0v28v7PKqaXMmfjYZ77SyEd\n",
              "2T5C+xARKbJUSm9Acnomr3+/E4BnW4cRXK6EyYlEXEe/W29iSNvcYvq/xXv5cGm8yYlcy5yNhxn8\n",
              "dW4hfbhJEK+1UyEVkaJNpfQGjPh2J2mZNiKq+tH7lhpmxxFxOQNvu4nn76wFwNuL9vDxr/tMTuQa\n",
              "5m76s5B2a5J7hNRqVSEVkaJNpfQ6/bTjGD9sS8LDamFMx0g8PbQpRS7l8ZYhPNcmDIAxC3fz6bKi\n",
              "XUznbTrC4Fm5hbRrdBCvq5CKiAAqpdclLTOH4fO3A9Dv1pqEV/E3OZGIa3vi9lCeaZVbTEf/uJsJ\n",
              "y/ebnMgc8zcf4dlZm3EY0DU6kDfuVyEVEfmDSul1GL1gN8fTsqhRrgRP3RFqdhwRt/BUq9C898sb\n",
              "C3bx2YqiVUznbz7CMzP/WkjrqpCKiPyFSuk1Wr0/helrEwF4s0NdfL08TE4k4j6ebhXKk7eHAPD6\n",
              "D7uYtPKAyYkKxl8L6UONVUhFRC5FpfQaZObYGTZnG5D75YQmNQNMTiTiXiwWC8+0DuOJlrnFdMR3\n",
              "O/liVYK5ofLZ3wvpqAdUSEVELkWl9Bq893McB05mUNHPh6F31TY7johbslgsDG4TxsDbbgLglW93\n",
              "MOX3BHND5ZNvtxzNK6RdGqmQiohciUrpVdp+JJXxF76cMbJ9BH6+XiYnEnFfFouFF+6sRf8WNQEY\n",
              "Pn8HU1cfNDmVc3235ShPz9iEw4DOjaoxuoMKqYjIlXiaHcBd+BfzokmNspQp7k2b8EpmxxFxexaL\n",
              "haFta2MYMH75fl6atx2rxUK3JkFmR7th3289ytMXjpA+2LAab3aIVCEVEfkXKqVXKbBscb7q04Tz\n",
              "OXazo4gUGhaLhWF31cbuMJj42wH+O3cbVgs8FO2+xfSHrUk8NWMzdofBgw2rMaajCqmIyNXQ8P01\n",
              "sFgsFPdWjxdxJovFwkv33MxjzYIBGDZ3G7PWHTI31HX6YWsST87YhN1h0EmFVETkmqiUiojpLBYL\n",
              "L99bh56xwRgGDJmzla/Xu1cx/Wsh7dhAhVRE5FqplIqIS7BYLLxyXx0eaVodw4AXZm9l9obDZse6\n",
              "Kgu2/VlIOzSoyludIvFQIRURuSYqpSLiMiwWCyPahdM9JgjDgOe+2cLcTa5dTH/clsR/pl8opPWr\n",
              "8naneiqkIiLXQaVURFyKxWLhtXYRdGuSW0wHz9rC/M1HzI51SQu3/62QPqhCKiJyvVRKRcTlWK0W\n",
              "Xm8fQdfoQBwGPDNzM99uOWp2rIss3H6MJ6ZtwqZCKiLiFCqlIuKSrFYLb9xfly6Ncovp0zM28f1W\n",
              "1yimuYV0IzaHwQMqpCIiTqFSKiIuy2q1MLpDXTo1rIbDgKdmbGbBtiRTM/21kN4fVYWxKqQiIk6h\n",
              "k26KiEuzWi2M6RiJYcDsjYf5z/RNWIC76lYu8CyLdvxZSNtHVeF/naNUSEVEnERHSkXE5XlYLbzV\n",
              "KZIO9atidxj8Z/omFm4/VqAZftpxjMe/+ksh1RFSERGnUikVEbfgYbXw9oP1aB9VBZvD4IlpG/lp\n",
              "R8EU08U7j/P4hSOk7erlFlJPD+0+RUScSXtVEXEbHlYL/3uwHu3q5RbTx6dtZMnO4/n6nEt2HmfQ\n",
              "VxvIsRvcV68K4zqrkIqI5AftWUXErXh6WBnXuR73RlYmx24w8KsN/LI7f4rpkp3HGfiXQvqOCqmI\n",
              "SL7R3lVE3I6nh5V3u0RxT93cYjpgykaW7kl26nP8tZDeG1lZhVREJJ9pDysibsnTw8q7D0VxV0Ql\n",
              "su0O+k/ZwK9OKqY/7/qzkN4TWZl3u0SpkIqI5DPtZUXEbXl5WPm/rvW5M7wi2TYH/aZsYPneEzf0\n",
              "mL/sPs7AqRvzCul7KqQiIgVCe1oRcWteHlbe79qA1nVyi2nfL9fzW9zJ63qspbuTGTBlI9l2B/fU\n",
              "VSEVESlI2tuKiNvz9rTyYbcGtLq5Alk2B72/WMfK+Gsrpkt3J9N/ygay7Q7urluJdx9SIRURKUja\n",
              "44pIoeDtaeXDhxtwR+0/i+mqfVdXTJfu+bOQ3hVRifceqo+XCqmISIHSXldECg0fTw8+6t6AlrXK\n",
              "k5njoNfkdazen3LF+yzdk0z/L/8spP/XVYVURMQM2vOKSKHi4+nBx90b0iIst5g+Nmkday5TTH/9\n",
              "yxHStuEqpCIiZtLeV0QKHV8vDz7t0ZDmoeU4n2PnscnrWJdw6qLbLNt7gn5TNpBtyy2k73dTIRUR\n",
              "MZP2wCJSKPl6eTDhkUY0Dy3HuWw7PT9fy/oLxXTZ3hP0/XI92TYHd4ZXVCEVEXEBLrEXjouLIzY2\n",
              "lrCwMBo3bsyOHTvMjiQihYCvlwfjezSiWUgAGdl2ek5ax/jl+/IKaZs6FXm/awMVUhERF+ASe+L+\n",
              "/fvTr18/9u7dy5AhQ+jZs6fZkUSkkCjm7cFnjzSmac0AzmbZGLVgN9k2B63rVOSDbg3w9nSJ3aCI\n",
              "SJFn+t44OTmZ9evX0717dwA6duzIoUOHiI+P/8dts7KySEtLu+hit9sLOrKIuJli3h5M7NmImJpl\n",
              "AWhdpyIfqpCKiLgUT7MDHDp0iMqVK+PpmRvFYrEQFBREYmIiISEhF9129OjRjBgx4qLrYmJiCiyr\n",
              "iLiv4t6eTOndhO1HUomsVhoPq8XsSCIi8hdudZhg2LBhpKamXnSJjo42O5aIuAkvDyv1g8qokIqI\n",
              "uCDTj5QGBgaSlJSEzWbD09MTwzBITEwkKCjoH7f18fHBx8fnous8PDwKKqqIiIiI5BPTj5RWqFCB\n",
              "Bg0aMHXqVABmz55NtWrV/jF0LyIiIiKFl+lHSgE+/fRTevbsyahRo/Dz82PSpElmRxIRERGRAuQS\n",
              "pbRWrVr8/vvvZscQEREREZOYPnwvIiIiIqJSKiIiIiKmUykVEREREdOplIqIiIiI6VRKRURERMR0\n",
              "KqUiIiIiYjqVUhERERExncUwDMPsEDeiQ4cOBAcHF8hz2e121q5dS3R0tKY3vQ7afjdO2/DGaPvd\n",
              "OG3DG6dteGO0/W6cGduwevXqPPXUU1e8jduX0oKUlpaGv78/qamp+Pn5mR3H7Wj73Thtwxuj7Xfj\n",
              "tA1vnLbhjdH2u3Guug01fC8iIiIiplMpFRERERHTqZSKiIiIiOlUSq+Bj48Pr7zyCj4+PmZHcUva\n",
              "fjdO2/DGaPvdOG3DG6dteGO0/W6cq25DfdFJREREREynI6UiIiIiYjqVUhERERExnUqpiIiIiJhO\n",
              "pVRERERETKdSms/effddjh07ZnYMcXMJCQl88sknV7xNo0aN+PXXXwsmkJs7evQozZs3NzuGy8jM\n",
              "zOT+++8nLCyMevXq0bp1a+Lj4wG47bbbqFGjBlFRUURFRfHOO+/k3a9///7UrVuX22+/ndTUVAAM\n",
              "w+Cuu+5i3759pqyLmYKDg6lVq1betpo5cyYAcXFxxMbGEhYWRuPGjdmxYwcAOTk53H///dSrV48O\n",
              "HTpgs9mA3P+PW2+9ldOnT5u2LmZISUnJ23ZRUVGEhYXh6enJqVOn9DosIlRK85lKqTjD1ZRSuXpV\n",
              "qlRhxYoVZsdwKf369WPPnj1s2bKF9u3b06dPn7xl77zzDps3b2bz5s0888wzAGzfvp24uDi2bdvG\n",
              "bbfdxpQpUwD47LPPaNmyJTfddJMp62G2mTNn5m2rLl26ALmlqV+/fuzdu5chQ4bQs2dPABYtWkTZ\n",
              "smXZsmULpUuXZuHChQCMHDmSJ554gjJlypi1GqYICAjI23abN2+mX79+3HXXXZQtWxbQ67AoKLKl\n",
              "9Pfff+eWW26hXr16REZGMn/+fNavX09sbCyRkZFER0ezcuVKILcQlC5dOu++Z8+exWKx5P1ssVgY\n",
              "NWoU0dHR1KhRg0mTJgHw2muvcfToUbp06UJUVBSbN28uyFXMVxaLhTfeeIMmTZoQHBzMvHnzGD16\n",
              "NI0aNSI0NPSiI3aLFi3illtuoWHDhkRHR7N06VIAjh07RsuWLWnYsCHh4eE88cQTOBwOACZPnkyr\n",
              "Vq3o2rUrdevWpVGjRuzfv9+MVS1w58+fp0uXLtSpU4d69erRpk0bBgwYwJ49e4iKiqJdu3YArFq1\n",
              "iqioKCIiInjsscfyjrIUZVf7uvz7e/py7+GiwtfXl7vvvjtvvxYTE0NCQsIV7+Pl5UVWVhYOh4OM\n",
              "jAy8vb1JSkpi+vTpPPvsswWQ2j0kJyezfv16unfvDkDHjh05dOgQ8fHxeHl5ce7cOQDOnTuHt7c3\n",
              "W7duZffu3XTu3NnM2C5h4sSJ9O7d+4q30evwT1e7/7PZbNx55500atSI8PBwunXrRkZGBgBfffUV\n",
              "jRo1IisrC8MwuO+++3jjjTcKbiWMIiglJcWoUKGCsXz5csMwDMNutxvHjx83AgMDjYULFxqGYRgr\n",
              "VqwwKlasaKSnpxsHDhww/P398+6fnp5u/HXTAcbYsWMNwzCMXbt2GSVLljRycnIMwzCM6tWrG5s2\n",
              "bSqYFStAgPHuu+8ahmEYS5YsMUqUKGFMmjTJMAzDmDVrltGoUSPDMAxj3759RkxMjJGammoYhmHE\n",
              "xcUZlSpVMjIzM43z588b6enphmEYhs1mM+655x5j+vTphmEYxqRJkww/Pz9j//79hmEYxpAhQ4x+\n",
              "/foV5CqaZs6cOUabNm3yfk5JSTGWLl1q1KtXL++6rKwso1q1asbixYsNwzCMRYsWGYCxdOnSAk7r\n",
              "Wq72dfn39/SV3sNFUffu3Y0nn3zSMAzDaNGihVGrVi0jIiLC6Ny5s7Fv376827344otGvXr1jE6d\n",
              "OhkZGRlGly5djPXr15sV23TVq1c36tata0RERBi9evUykpOTjfXr1xthYWEX3a5x48bGzz//bNjt\n",
              "dqNPnz5GZGSk0a9fPyMnJ8e44447jEOHDpm0Bq5j5cqVRsWKFfPeh3od/rur3f85HA7j5MmTef8e\n",
              "MGCAMXr06LzH6devn/H4448bb731ltG2bVvD4XAU3DoU2DO5kO+//95o3rz5Rddt3brVqF69+kXX\n",
              "RUZGGitWrLiqUpqUlJT3c+nSpfN2KoW5lP6xzmfOnDEA4/z584ZhGEZCQkLe9vrwww+NcuXKGfXq\n",
              "1cu7VKlSxdi7d6+RkZFhDBo0yIiMjDTq1q1rVKxY0RgyZIhhGLml9M4778x7vnnz5hl33HFHwa6k\n",
              "Sfbt22cEBgYaAwcONGbMmGGkpaX9o5Ru2bLFCA4Ovuh+NWvWVCm9ytflpUrp5d7DRc0bb7xhxMTE\n",
              "GBkZGYZhGEZiYqJhGLm/vN5//33j5ptvvuT95s2bZzz33HPGyZMnjZ49exodOnQwZsyYUWC5XcHB\n",
              "gwcNwzCM7Oxs44UXXjDuuuuuK5bSv3vnnXeM999/3zhw4IDRtWtXo0OHDpe8XVHQq1cv4/nnn8/7\n",
              "Wa/Df3e1+z+73W68+OKLRlRUlBEREWEEBgYaXbp0yXuc8+fPG5GRkUZgYKBx4sSJAl2HIjt8fzX+\n",
              "GMry9PTEbrfnXZ+ZmfmP2/r6+ub928PDo0gMpf6xzh4eHv/4+Y/1NwyD1q1bX/Q5oSNHjhAaGsq4\n",
              "ceNITk5mzZo1bN26lW7dul20bYviNgWoWbMmO3fupG3btqxcuZKIiIir+sLDXz9SUpRdzevySve7\n",
              "mtsWVmPHjmXOnDn8+OOPFC9eHIDAwEAg9/X1xBNPsH//flJSUi66X1paGmPHjmXEiBG8++67tGjR\n",
              "gpkzZ/Laa69x/vz5Al8PswQFBQG5Q8pPP/00K1asIDAwkKSkpIv2iYmJiXm3/cPBgwdZsGABgwYN\n",
              "Yvjw4fTr14/Jkyfzn//8p8DXw2xnz55l1qxZ9OrVK+86vQ6vztXs/6ZNm8Yvv/zCsmXL2LZtG889\n",
              "99xFv3uTk5M5ffo0DoeDM2fOFGj+IllKY2NjiYuLy/uig8PhoGLFijgcDhYvXgzkfl7v2LFjREVF\n",
              "UalSJQzDYOfOnQB8+eWXV/1cfn5+ed8GLIruvPNOlixZwtatW/OuW7t2LQCnT5+mUqVK+Pr6cuzY\n",
              "Mb7++muzYrqUw4cPY7FYaNeuHWPHjsUwDAICAi56HdWuXRubzZb3+dwlS5boW6ZyQ8aNG8f06dNZ\n",
              "vHhx3udtbTYbx48fz7vN7NmzqVixIgEBARfdd+jQobz88ssUL16cjIwMLBYLFouFnJwcsrOzC3I1\n",
              "TJORkXHRL/Dp06dTv359KlSoQIMGDZg6dSqQuw2rVatGSEjIRfd/6qmneOedd7BarXnb8I9/FzUz\n",
              "Z86kXr161K5dG9Dr0NlOnz5NuXLl8PPzIz09ncmTJ+cts9lsPPTQQ4wcOZJx48bRuXNnsrKyCiyb\n",
              "Z4E9kwspU6YMc+fOZfDgwaSnp2O1Whk5ciRz5szhySefZPDgwfj6+vLNN99QsmRJAN5//33uvfde\n",
              "AgIC6NSp01U/15NPPknfvn0pXrw4kydPJioqKp/WyjWFhIQwbdo0+vfvz7lz58jOzqZ+/fpMmzaN\n",
              "p556ik6dOhEeHk6VKlVo1aqV2XFdwrZt2xg2bBiGYWCz2ejRowexsbGEh4cTERFBzZo1+fbbb5k5\n",
              "cyaDBg3CbrfTuHFj6tWrZ3Z0cVOHDx9m8ODB1KxZk5YtWwLg4+PDL7/8wj333ENWVhZWq5Vy5crx\n",
              "7bffXnTflStXcv78eVq3bg3A448/TteuXRkzZgw9evTA39+/wNfHDMePH6djx47Y7XYMw6BmzZp5\n",
              "BzA+/fRTevbsyahRo/Dz8/vHF+mmTZtGvXr1CA8PB3LLVd++fcnOzmb48OEFvi5mmzhxIn379s37\n",
              "OSsrS69DJ3rkkUeYP38+tWrVonz58jRv3pyDBw8Cua+9WrVq8eijjwKwbNkynn76aT7++OMCyWYx\n",
              "DMMokGcSEREREbmMIjl8LyIiIiKuRaVUREREREynUioiIiIiplMpFRERERHTqZSKiIiIiOlUSkVE\n",
              "RETEdCqlIiIiImI6lVIRERERMZ1KqYiIiIiYTqVUREREREz3//UmFvoHQLodAAAAAElFTkSuQmCC\n",
              "\">\n",
              "      </div>\n",
              "      <script type=\"text/javascript\">\n",
              "        (() => {\n",
              "          const chartElement = document.getElementById(\"chart-50bf4cd5-18cf-4ef4-a007-d72ca8ad8054\");\n",
              "          async function getCodeForChartHandler(event) {\n",
              "            const chartCodeResponse =  await google.colab.kernel.invokeFunction(\n",
              "                'getCodeForChart', [\"chart-50bf4cd5-18cf-4ef4-a007-d72ca8ad8054\"], {});\n",
              "            const responseJson = chartCodeResponse.data['application/json'];\n",
              "            await google.colab.notebook.addCell(responseJson.code, 'code');\n",
              "          }\n",
              "          chartElement.onclick = getCodeForChartHandler;\n",
              "        })();\n",
              "      </script>\n",
              "      <style>\n",
              "        .colab-quickchart-chart-with-code  {\n",
              "            display: block;\n",
              "            float: left;\n",
              "            border: 1px solid transparent;\n",
              "        }\n",
              "\n",
              "        .colab-quickchart-chart-with-code:hover {\n",
              "            cursor: pointer;\n",
              "            border: 1px solid #aaa;\n",
              "        }\n",
              "      </style>"
            ]
          },
          "metadata": {}
        }
      ]
    },
    {
      "cell_type": "markdown",
      "source": [
        "Question 62 is same as 61"
      ],
      "metadata": {
        "id": "I9K7DczTsaUR"
      }
    },
    {
      "cell_type": "markdown",
      "source": [
        "Question 63)"
      ],
      "metadata": {
        "id": "hZrJy-eDsiFW"
      }
    },
    {
      "cell_type": "code",
      "source": [
        "arr1=np.array([1,2,3,4,5,8])\n",
        "arr2=np.array([10,45,35,56,71,81])\n",
        "np.corrcoef(arr1,arr2)"
      ],
      "metadata": {
        "colab": {
          "base_uri": "https://localhost:8080/"
        },
        "id": "7-PdRPipsvyW",
        "outputId": "1fbe53c3-d539-4ac4-b429-e41b11fbd3aa"
      },
      "execution_count": null,
      "outputs": [
        {
          "output_type": "execute_result",
          "data": {
            "text/plain": [
              "array([[1.       , 0.9098429],\n",
              "       [0.9098429, 1.       ]])"
            ]
          },
          "metadata": {},
          "execution_count": 12
        }
      ]
    },
    {
      "cell_type": "markdown",
      "source": [
        "Question 64)"
      ],
      "metadata": {
        "id": "EmIOWJs6D8QL"
      }
    },
    {
      "cell_type": "code",
      "source": [
        "import numpy as np\n",
        "m1=np.array([[1,2,3],[4,5,6],[7,8,9]])\n",
        "m2=np.array([[1,2,3],[4,5,6],[7,8,9]])\n",
        "np.dot(m1,m2)"
      ],
      "metadata": {
        "colab": {
          "base_uri": "https://localhost:8080/"
        },
        "id": "Riinu9fCD_ZP",
        "outputId": "f9aedc81-4176-42f4-a961-053dcd355da6"
      },
      "execution_count": null,
      "outputs": [
        {
          "output_type": "execute_result",
          "data": {
            "text/plain": [
              "array([[ 30,  36,  42],\n",
              "       [ 66,  81,  96],\n",
              "       [102, 126, 150]])"
            ]
          },
          "metadata": {},
          "execution_count": 1
        }
      ]
    },
    {
      "cell_type": "markdown",
      "source": [
        "Question 65)"
      ],
      "metadata": {
        "id": "TJ7S2GxzEpR-"
      }
    },
    {
      "cell_type": "code",
      "source": [
        "arr1=np.random.randint(10,1000,size=50)\n",
        "np.percentile(arr1,[10,50,90])"
      ],
      "metadata": {
        "colab": {
          "base_uri": "https://localhost:8080/"
        },
        "id": "xS_kc_MwErdC",
        "outputId": "e5b04f04-9177-4e47-a1a5-b2e272d740a5"
      },
      "execution_count": null,
      "outputs": [
        {
          "output_type": "execute_result",
          "data": {
            "text/plain": [
              "array([104.4, 527.5, 861. ])"
            ]
          },
          "metadata": {},
          "execution_count": 3
        }
      ]
    },
    {
      "cell_type": "code",
      "source": [
        "np.quantile(arr1,[0.25,0.75])"
      ],
      "metadata": {
        "colab": {
          "base_uri": "https://localhost:8080/"
        },
        "id": "5X3YB_yJF-LB",
        "outputId": "9f4987e6-8cf1-43f9-a763-b1bfd1102ba7"
      },
      "execution_count": null,
      "outputs": [
        {
          "output_type": "execute_result",
          "data": {
            "text/plain": [
              "array([197.5 , 741.25])"
            ]
          },
          "metadata": {},
          "execution_count": 6
        }
      ]
    },
    {
      "cell_type": "code",
      "source": [
        "arr1"
      ],
      "metadata": {
        "colab": {
          "base_uri": "https://localhost:8080/"
        },
        "id": "ZY6zpt6aHCyh",
        "outputId": "8c6c364e-269f-4e4a-83f6-c44207ce0844"
      },
      "execution_count": null,
      "outputs": [
        {
          "output_type": "execute_result",
          "data": {
            "text/plain": [
              "array([212, 165, 538, 743,  90, 819, 734, 803, 403, 407, 541, 115, 764,\n",
              "       438, 871, 219, 264, 992, 860, 560, 697, 736, 303, 579, 621, 199,\n",
              "       106, 650, 870, 947, 219, 801, 197, 121, 633, 517,  11, 826,  13,\n",
              "        19, 413, 588, 158, 182, 132, 876, 551,  64, 509, 850])"
            ]
          },
          "metadata": {},
          "execution_count": 7
        }
      ]
    },
    {
      "cell_type": "markdown",
      "source": [
        "Question 66)"
      ],
      "metadata": {
        "id": "yRU05HF5GvvJ"
      }
    },
    {
      "cell_type": "code",
      "source": [
        "print(np.where(arr1==121))"
      ],
      "metadata": {
        "colab": {
          "base_uri": "https://localhost:8080/"
        },
        "id": "ZdRdmtnjG0GD",
        "outputId": "8b48bcf6-83be-45ea-db85-88a59335c5bf"
      },
      "execution_count": null,
      "outputs": [
        {
          "output_type": "stream",
          "name": "stdout",
          "text": [
            "(array([33]),)\n"
          ]
        }
      ]
    },
    {
      "cell_type": "markdown",
      "source": [
        "Question 67)"
      ],
      "metadata": {
        "id": "gCH-5vtiIw-R"
      }
    },
    {
      "cell_type": "code",
      "source": [
        "arr1=np.random.randint(10,1000,size=50)\n",
        "np.sort(arr1)"
      ],
      "metadata": {
        "colab": {
          "base_uri": "https://localhost:8080/"
        },
        "id": "HkLvLAGeI6ll",
        "outputId": "3cea9470-e447-46c2-8a85-92206be3aefa"
      },
      "execution_count": null,
      "outputs": [
        {
          "output_type": "execute_result",
          "data": {
            "text/plain": [
              "array([ 45,  73, 100, 101, 117, 119, 126, 156, 170, 182, 182, 188, 205,\n",
              "       210, 241, 251, 254, 257, 257, 258, 280, 286, 329, 345, 383, 395,\n",
              "       415, 418, 435, 458, 462, 517, 546, 560, 567, 596, 675, 710, 716,\n",
              "       723, 757, 760, 827, 846, 852, 878, 906, 913, 913, 995])"
            ]
          },
          "metadata": {},
          "execution_count": 17
        }
      ]
    },
    {
      "cell_type": "markdown",
      "source": [
        "Question 68)"
      ],
      "metadata": {
        "id": "SqoXkjToJHDe"
      }
    },
    {
      "cell_type": "code",
      "source": [
        "arr = np.array([12, 25, 6, 42, 8, 30])\n",
        "arr[arr>20]"
      ],
      "metadata": {
        "colab": {
          "base_uri": "https://localhost:8080/"
        },
        "id": "pug_EfJRJJBh",
        "outputId": "57385a6b-1197-465d-ce17-f5e219d6be1b"
      },
      "execution_count": null,
      "outputs": [
        {
          "output_type": "execute_result",
          "data": {
            "text/plain": [
              "array([25, 42, 30])"
            ]
          },
          "metadata": {},
          "execution_count": 18
        }
      ]
    },
    {
      "cell_type": "markdown",
      "source": [
        "Question 69)"
      ],
      "metadata": {
        "id": "Dzthm6_SJaua"
      }
    },
    {
      "cell_type": "code",
      "source": [
        "arr = np.array([1, 5, 8, 12, 15])\n",
        "arr[arr%3==0]"
      ],
      "metadata": {
        "colab": {
          "base_uri": "https://localhost:8080/"
        },
        "id": "CSwIDDKbJdJR",
        "outputId": "2a5d51f3-998c-4a4e-a264-9a0ff284d4be"
      },
      "execution_count": null,
      "outputs": [
        {
          "output_type": "execute_result",
          "data": {
            "text/plain": [
              "array([12, 15])"
            ]
          },
          "metadata": {},
          "execution_count": 19
        }
      ]
    },
    {
      "cell_type": "markdown",
      "source": [
        "Question 70)"
      ],
      "metadata": {
        "id": "ryoAs0PhJmE5"
      }
    },
    {
      "cell_type": "code",
      "source": [
        "arr = np.array([10, 20, 30, 40, 50])\n",
        "# arr[(arr[arr>=20])>=40]\n",
        "arr1=arr[arr>=20]\n",
        "arr1[arr1<=40]"
      ],
      "metadata": {
        "colab": {
          "base_uri": "https://localhost:8080/"
        },
        "id": "pEgXAb-7JpXW",
        "outputId": "4bc8818b-bd46-455b-d9ba-3ca37d6ddb36"
      },
      "execution_count": null,
      "outputs": [
        {
          "output_type": "execute_result",
          "data": {
            "text/plain": [
              "array([20, 30, 40])"
            ]
          },
          "metadata": {},
          "execution_count": 29
        }
      ]
    },
    {
      "cell_type": "markdown",
      "source": [
        "Question 71)"
      ],
      "metadata": {
        "id": "GyU2NhAAMKbF"
      }
    },
    {
      "cell_type": "code",
      "source": [
        "array = np.array([1, 2, 3], dtype=np.int32)\n",
        "array.dtype.byteorder\n"
      ],
      "metadata": {
        "colab": {
          "base_uri": "https://localhost:8080/",
          "height": 36
        },
        "id": "qK9hAllcMMwS",
        "outputId": "8777fb41-4113-4aa8-8ee1-0c379e1f6a75"
      },
      "execution_count": null,
      "outputs": [
        {
          "output_type": "execute_result",
          "data": {
            "text/plain": [
              "'='"
            ],
            "application/vnd.google.colaboratory.intrinsic+json": {
              "type": "string"
            }
          },
          "metadata": {},
          "execution_count": 32
        }
      ]
    },
    {
      "cell_type": "markdown",
      "source": [
        "Question 72)"
      ],
      "metadata": {
        "id": "Vt1LiOtqNytm"
      }
    },
    {
      "cell_type": "code",
      "source": [
        "array = np.array([1, 2, 3], dtype=np.int32)\n",
        "array.byteswap(inplace=True)"
      ],
      "metadata": {
        "colab": {
          "base_uri": "https://localhost:8080/"
        },
        "id": "emnVJ22_N1iy",
        "outputId": "002673b8-3ee4-4018-82b3-ec24009ace02"
      },
      "execution_count": null,
      "outputs": [
        {
          "output_type": "execute_result",
          "data": {
            "text/plain": [
              "array([16777216, 33554432, 50331648], dtype=int32)"
            ]
          },
          "metadata": {},
          "execution_count": 34
        }
      ]
    },
    {
      "cell_type": "markdown",
      "source": [
        "Question 73)"
      ],
      "metadata": {
        "id": "n7wzC_21OQUl"
      }
    },
    {
      "cell_type": "code",
      "source": [
        "arr = np.array([1, 2, 3], dtype=np.int32)\n",
        "arr.newbyteorder()"
      ],
      "metadata": {
        "colab": {
          "base_uri": "https://localhost:8080/"
        },
        "id": "Sg6h57bDOSWi",
        "outputId": "f108d672-a284-42f5-8a36-6500e49a1cd2"
      },
      "execution_count": null,
      "outputs": [
        {
          "output_type": "execute_result",
          "data": {
            "text/plain": [
              "array([16777216, 33554432, 50331648], dtype='>i4')"
            ]
          },
          "metadata": {},
          "execution_count": 35
        }
      ]
    },
    {
      "cell_type": "markdown",
      "source": [],
      "metadata": {
        "id": "H69bmC0ZaSzd"
      }
    },
    {
      "cell_type": "markdown",
      "source": [
        "Question 76)"
      ],
      "metadata": {
        "id": "i3Qey-UDabxp"
      }
    },
    {
      "cell_type": "code",
      "source": [
        "import numpy as np\n",
        "arr1=np.array([1,2,3,4,5,6,7,8,9,10])\n",
        "copy_arr=arr1\n",
        "copy_arr[0]=10\n",
        "arr1\n",
        "#shallow copy"
      ],
      "metadata": {
        "colab": {
          "base_uri": "https://localhost:8080/"
        },
        "id": "qmtSEZlIaepQ",
        "outputId": "ab6ca17b-ca31-40db-9af9-7d6b3ad537ee"
      },
      "execution_count": 1,
      "outputs": [
        {
          "output_type": "execute_result",
          "data": {
            "text/plain": [
              "array([10,  2,  3,  4,  5,  6,  7,  8,  9, 10])"
            ]
          },
          "metadata": {},
          "execution_count": 1
        }
      ]
    },
    {
      "cell_type": "markdown",
      "source": [
        "Question 77)"
      ],
      "metadata": {
        "id": "N9fIUEKkbHio"
      }
    },
    {
      "cell_type": "code",
      "source": [
        "matrix=np.array([[1,2,3],[4,5,6],[7,8,9]])\n",
        "slice_view=matrix[0:2]\n",
        "slice_view[1][0]=5\n",
        "matrix"
      ],
      "metadata": {
        "colab": {
          "base_uri": "https://localhost:8080/"
        },
        "id": "gVEFAPKDbOkp",
        "outputId": "e58ca7c1-becd-4a31-dd30-ff82296b42ef"
      },
      "execution_count": 11,
      "outputs": [
        {
          "output_type": "execute_result",
          "data": {
            "text/plain": [
              "array([[1, 2, 3],\n",
              "       [5, 5, 6],\n",
              "       [7, 8, 9]])"
            ]
          },
          "metadata": {},
          "execution_count": 11
        }
      ]
    },
    {
      "cell_type": "markdown",
      "source": [
        "Question 78)"
      ],
      "metadata": {
        "id": "4cxj4J7zdnMW"
      }
    },
    {
      "cell_type": "code",
      "source": [
        "matrix=np.array([[1,2,3,4],[5,6,7,8],[9,10,11,12]])\n",
        "slice_view=matrix[0:2]\n",
        "slice_view=slice_view+5\n",
        "print(matrix)"
      ],
      "metadata": {
        "colab": {
          "base_uri": "https://localhost:8080/"
        },
        "id": "1geaGPZEdp6W",
        "outputId": "a78e0666-bcac-4dc3-bec5-e68edd10b26f"
      },
      "execution_count": 15,
      "outputs": [
        {
          "output_type": "stream",
          "name": "stdout",
          "text": [
            "[[ 1  2  3  4]\n",
            " [ 5  6  7  8]\n",
            " [ 9 10 11 12]]\n"
          ]
        }
      ]
    },
    {
      "cell_type": "markdown",
      "source": [
        "Question 79)"
      ],
      "metadata": {
        "id": "NYy16ZujfOkQ"
      }
    },
    {
      "cell_type": "code",
      "source": [
        "matrix=np.array([[1,2],[3,4],[5,6],[7,8]])\n",
        "reshaped=np.reshape(matrix,newshape=(4,2))\n",
        "reshaped[0][1]=10\n",
        "matrix"
      ],
      "metadata": {
        "colab": {
          "base_uri": "https://localhost:8080/"
        },
        "id": "vWuHL72tfQ_9",
        "outputId": "fbda6a7f-ce90-4616-a6bd-ccc28e5d36d7"
      },
      "execution_count": 19,
      "outputs": [
        {
          "output_type": "execute_result",
          "data": {
            "text/plain": [
              "array([[ 1, 10],\n",
              "       [ 3,  4],\n",
              "       [ 5,  6],\n",
              "       [ 7,  8]])"
            ]
          },
          "metadata": {},
          "execution_count": 19
        }
      ]
    },
    {
      "cell_type": "markdown",
      "source": [
        "Question 80)"
      ],
      "metadata": {
        "id": "pA25wvDth4V1"
      }
    },
    {
      "cell_type": "code",
      "source": [
        "data=np.array([[1,2,3],[4,5,6],[7,8,9],[10,11,12]])\n",
        "data_copy=data[data>5]\n",
        "data_copy[0]=1\n",
        "data"
      ],
      "metadata": {
        "colab": {
          "base_uri": "https://localhost:8080/"
        },
        "id": "Jpl50elzh7ER",
        "outputId": "cb888930-79f0-4ea9-a95d-34e999ff0381"
      },
      "execution_count": 23,
      "outputs": [
        {
          "output_type": "execute_result",
          "data": {
            "text/plain": [
              "array([[ 1,  2,  3],\n",
              "       [ 4,  5,  6],\n",
              "       [ 7,  8,  9],\n",
              "       [10, 11, 12]])"
            ]
          },
          "metadata": {},
          "execution_count": 23
        }
      ]
    },
    {
      "cell_type": "markdown",
      "source": [
        "Question 81)"
      ],
      "metadata": {
        "id": "gZkp3Y_-i3UR"
      }
    },
    {
      "cell_type": "code",
      "source": [
        "matrix1=np.array([[1,2,3],[4,5,6],[7,8,9]])\n",
        "matrix2=np.array([[10,9,8],[7,6,5],[4,3,2]])\n",
        "print(matrix1+matrix2)\n",
        "print(matrix1-matrix2)"
      ],
      "metadata": {
        "colab": {
          "base_uri": "https://localhost:8080/"
        },
        "id": "W96VHTYzi5dg",
        "outputId": "c3a97538-bf4b-43ac-aeae-fcde3cb6aca2"
      },
      "execution_count": 24,
      "outputs": [
        {
          "output_type": "stream",
          "name": "stdout",
          "text": [
            "[[11 11 11]\n",
            " [11 11 11]\n",
            " [11 11 11]]\n",
            "[[-9 -7 -5]\n",
            " [-3 -1  1]\n",
            " [ 3  5  7]]\n"
          ]
        }
      ]
    },
    {
      "cell_type": "markdown",
      "source": [
        "Question 82)"
      ],
      "metadata": {
        "id": "jelN--ZpjZAh"
      }
    },
    {
      "cell_type": "code",
      "source": [
        "c=np.array([[1,2],[4,5],[7,8]])\n",
        "d=np.array([[1,2,3,4],[3,4,6,7]])\n",
        "np.dot(c,d)"
      ],
      "metadata": {
        "colab": {
          "base_uri": "https://localhost:8080/"
        },
        "id": "HJrQkVTSja0Z",
        "outputId": "29485f55-617b-4d47-cd1f-443d9aa92bc3"
      },
      "execution_count": 27,
      "outputs": [
        {
          "output_type": "execute_result",
          "data": {
            "text/plain": [
              "array([[ 7, 10, 15, 18],\n",
              "       [19, 28, 42, 51],\n",
              "       [31, 46, 69, 84]])"
            ]
          },
          "metadata": {},
          "execution_count": 27
        }
      ]
    },
    {
      "cell_type": "markdown",
      "source": [
        "Question 83)"
      ],
      "metadata": {
        "id": "7YN9gIVYlTAj"
      }
    },
    {
      "cell_type": "code",
      "source": [
        "matrix1=np.array([[1,2,3],[4,5,6],[7,8,9]])\n",
        "np.transpose(matrix1)"
      ],
      "metadata": {
        "colab": {
          "base_uri": "https://localhost:8080/"
        },
        "id": "OjgiO3wtlVVh",
        "outputId": "436002c0-e57d-47cc-81ad-6686c9a43130"
      },
      "execution_count": 28,
      "outputs": [
        {
          "output_type": "execute_result",
          "data": {
            "text/plain": [
              "array([[1, 4, 7],\n",
              "       [2, 5, 8],\n",
              "       [3, 6, 9]])"
            ]
          },
          "metadata": {},
          "execution_count": 28
        }
      ]
    },
    {
      "cell_type": "markdown",
      "source": [
        "Question 84)"
      ],
      "metadata": {
        "id": "FY2sg_BClh4Z"
      }
    },
    {
      "cell_type": "code",
      "source": [
        "matrix1=np.array([[1,2,4],[4,5,6],[7,8,9]])\n",
        "np.linalg.det(matrix1)"
      ],
      "metadata": {
        "colab": {
          "base_uri": "https://localhost:8080/"
        },
        "id": "aXNNvPTJllGX",
        "outputId": "e9f86bb9-f758-4da9-f3e7-6ccf6ac573ee"
      },
      "execution_count": 30,
      "outputs": [
        {
          "output_type": "execute_result",
          "data": {
            "text/plain": [
              "-2.9999999999999996"
            ]
          },
          "metadata": {},
          "execution_count": 30
        }
      ]
    },
    {
      "cell_type": "markdown",
      "source": [
        "Question 85)"
      ],
      "metadata": {
        "id": "2MAqXj1rl_Ci"
      }
    },
    {
      "cell_type": "code",
      "source": [
        "matrix1=np.array([[1,2,4],[4,5,6],[7,8,9]])\n",
        "np.linalg.inv(matrix1)"
      ],
      "metadata": {
        "colab": {
          "base_uri": "https://localhost:8080/"
        },
        "id": "aK98B503mB52",
        "outputId": "585acaf6-4db4-4290-b91a-a85d7fe777a3"
      },
      "execution_count": 33,
      "outputs": [
        {
          "output_type": "execute_result",
          "data": {
            "text/plain": [
              "array([[ 1.        , -4.66666667,  2.66666667],\n",
              "       [-2.        ,  6.33333333, -3.33333333],\n",
              "       [ 1.        , -2.        ,  1.        ]])"
            ]
          },
          "metadata": {},
          "execution_count": 33
        }
      ]
    }
  ]
}